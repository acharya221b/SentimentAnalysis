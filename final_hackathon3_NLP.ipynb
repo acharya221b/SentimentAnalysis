{
 "cells": [
  {
   "cell_type": "markdown",
   "metadata": {},
   "source": [
    "# Step 1: Business Problem :"
   ]
  },
  {
   "cell_type": "markdown",
   "metadata": {},
   "source": [
    "### WittyWicky Inc. is a consulting firm that designs brand strategy for a lot of product startups. Their modus operandi is to gain the pulse of competing products and the associated sentiment from social media. Social media has profound impact in capturing the potential customers and thus there are a lot of consulting firms that operate in the digital strategy space. Whether it is to design a marketing campaign or look at the effect of marketing campaigns on user engagement or sentiment, it is a very valuable tool.Manual assessment of sentiment is very time consuming and automatic sentiment analysis would deliver a lot of value"
   ]
  },
  {
   "cell_type": "markdown",
   "metadata": {},
   "source": [
    "# Step 2: Transformed into Data Science Problem:"
   ]
  },
  {
   "cell_type": "markdown",
   "metadata": {},
   "source": [
    "### There are four categories of sentiments through which we can analyse & predict sentiment of customers associated from Social Media :\n",
    "    #0-Negative\n",
    "    #1-Neutral\n",
    "    #2-Positive\n",
    "    #3-Unknown (can't tell)"
   ]
  },
  {
   "cell_type": "markdown",
   "metadata": {},
   "source": [
    "# Exploratory Data Analysis (EDA):"
   ]
  },
  {
   "cell_type": "markdown",
   "metadata": {},
   "source": [
    "### Importing necessary Libraries:"
   ]
  },
  {
   "cell_type": "code",
   "execution_count": 397,
   "metadata": {},
   "outputs": [],
   "source": [
    "import pandas as pd\n",
    "import matplotlib.pyplot as plt\n",
    "import seaborn as sns\n",
    "import numpy as np\n",
    "import nltk\n",
    "from wordcloud import WordCloud\n",
    "from nltk.corpus import stopwords\n",
    "from nltk import word_tokenize, pos_tag\n",
    "from sklearn.feature_extraction.text import CountVectorizer, TfidfVectorizer\n",
    "from sklearn.model_selection import train_test_split, cross_val_predict\n",
    "from nltk.stem import WordNetLemmatizer\n",
    "import re\n",
    "from sklearn.naive_bayes import GaussianNB, MultinomialNB, BernoulliNB\n",
    "from sklearn.preprocessing import LabelEncoder\n",
    "from sklearn.ensemble import RandomForestClassifier\n",
    "from sklearn.metrics import classification_report, accuracy_score,confusion_matrix,precision_score,f1_score,recall_score\n",
    "from sklearn.linear_model import LogisticRegression\n",
    "from sklearn.model_selection import train_test_split, GridSearchCV,cross_val_score,cross_val_predict\n",
    "from sklearn.feature_selection import RFE\n"
   ]
  },
  {
   "cell_type": "code",
   "execution_count": 2,
   "metadata": {},
   "outputs": [],
   "source": [
    "train=pd.read_csv(\"/Users/shilpyjain/Downloads/data/train.csv\")"
   ]
  },
  {
   "cell_type": "code",
   "execution_count": 3,
   "metadata": {},
   "outputs": [
    {
     "data": {
      "text/html": [
       "<div>\n",
       "<style scoped>\n",
       "    .dataframe tbody tr th:only-of-type {\n",
       "        vertical-align: middle;\n",
       "    }\n",
       "\n",
       "    .dataframe tbody tr th {\n",
       "        vertical-align: top;\n",
       "    }\n",
       "\n",
       "    .dataframe thead th {\n",
       "        text-align: right;\n",
       "    }\n",
       "</style>\n",
       "<table border=\"1\" class=\"dataframe\">\n",
       "  <thead>\n",
       "    <tr style=\"text-align: right;\">\n",
       "      <th></th>\n",
       "      <th>tweet_id</th>\n",
       "      <th>tweet</th>\n",
       "      <th>sentiment</th>\n",
       "    </tr>\n",
       "  </thead>\n",
       "  <tbody>\n",
       "    <tr>\n",
       "      <th>0</th>\n",
       "      <td>1701</td>\n",
       "      <td>#sxswnui #sxsw #apple defining language of tou...</td>\n",
       "      <td>1</td>\n",
       "    </tr>\n",
       "    <tr>\n",
       "      <th>1</th>\n",
       "      <td>1851</td>\n",
       "      <td>Learning ab Google doodles! All doodles should...</td>\n",
       "      <td>1</td>\n",
       "    </tr>\n",
       "    <tr>\n",
       "      <th>2</th>\n",
       "      <td>2689</td>\n",
       "      <td>one of the most in-your-face ex. of stealing t...</td>\n",
       "      <td>2</td>\n",
       "    </tr>\n",
       "    <tr>\n",
       "      <th>3</th>\n",
       "      <td>4525</td>\n",
       "      <td>This iPhone #SXSW app would b pretty awesome i...</td>\n",
       "      <td>0</td>\n",
       "    </tr>\n",
       "    <tr>\n",
       "      <th>4</th>\n",
       "      <td>3604</td>\n",
       "      <td>Line outside the Apple store in Austin waiting...</td>\n",
       "      <td>1</td>\n",
       "    </tr>\n",
       "  </tbody>\n",
       "</table>\n",
       "</div>"
      ],
      "text/plain": [
       "   tweet_id                                              tweet  sentiment\n",
       "0      1701  #sxswnui #sxsw #apple defining language of tou...          1\n",
       "1      1851  Learning ab Google doodles! All doodles should...          1\n",
       "2      2689  one of the most in-your-face ex. of stealing t...          2\n",
       "3      4525  This iPhone #SXSW app would b pretty awesome i...          0\n",
       "4      3604  Line outside the Apple store in Austin waiting...          1"
      ]
     },
     "execution_count": 3,
     "metadata": {},
     "output_type": "execute_result"
    }
   ],
   "source": [
    "train.head(5)"
   ]
  },
  {
   "cell_type": "code",
   "execution_count": 4,
   "metadata": {},
   "outputs": [
    {
     "data": {
      "text/plain": [
       "(7274, 3)"
      ]
     },
     "execution_count": 4,
     "metadata": {},
     "output_type": "execute_result"
    }
   ],
   "source": [
    "train.shape"
   ]
  },
  {
   "cell_type": "code",
   "execution_count": 6,
   "metadata": {},
   "outputs": [
    {
     "name": "stdout",
     "output_type": "stream",
     "text": [
      "<class 'pandas.core.frame.DataFrame'>\n",
      "RangeIndex: 7274 entries, 0 to 7273\n",
      "Data columns (total 3 columns):\n",
      "tweet_id     7274 non-null int64\n",
      "tweet        7273 non-null object\n",
      "sentiment    7274 non-null int64\n",
      "dtypes: int64(2), object(1)\n",
      "memory usage: 170.6+ KB\n"
     ]
    }
   ],
   "source": [
    "train.info()"
   ]
  },
  {
   "cell_type": "code",
   "execution_count": 7,
   "metadata": {},
   "outputs": [],
   "source": [
    "# Define Utiliy Functions\n",
    "def data_insights_report(data=pd.DataFrame()):\n",
    "    report = pd.DataFrame()\n",
    "    report['Columns'] = data.columns\n",
    "    report['Data_Types'] = data.dtypes.values\n",
    "    report['Unique_Count'] = data.nunique().values\n",
    "    report['NAN_Count'] = data.isna().sum().values\n",
    "\n",
    "    tempdf = data.describe().apply(lambda x: round(x,2), axis=1).T\n",
    "    pd.merge(report,tempdf.reset_index().rename(columns={'index':'Columns'}), on='Columns')\n",
    "\n",
    "    return report.join(tempdf, on='Columns')"
   ]
  },
  {
   "cell_type": "code",
   "execution_count": 8,
   "metadata": {},
   "outputs": [
    {
     "data": {
      "text/html": [
       "<div>\n",
       "<style scoped>\n",
       "    .dataframe tbody tr th:only-of-type {\n",
       "        vertical-align: middle;\n",
       "    }\n",
       "\n",
       "    .dataframe tbody tr th {\n",
       "        vertical-align: top;\n",
       "    }\n",
       "\n",
       "    .dataframe thead th {\n",
       "        text-align: right;\n",
       "    }\n",
       "</style>\n",
       "<table border=\"1\" class=\"dataframe\">\n",
       "  <thead>\n",
       "    <tr style=\"text-align: right;\">\n",
       "      <th></th>\n",
       "      <th>Columns</th>\n",
       "      <th>Data_Types</th>\n",
       "      <th>Unique_Count</th>\n",
       "      <th>NAN_Count</th>\n",
       "      <th>count</th>\n",
       "      <th>mean</th>\n",
       "      <th>std</th>\n",
       "      <th>min</th>\n",
       "      <th>25%</th>\n",
       "      <th>50%</th>\n",
       "      <th>75%</th>\n",
       "      <th>max</th>\n",
       "    </tr>\n",
       "  </thead>\n",
       "  <tbody>\n",
       "    <tr>\n",
       "      <th>0</th>\n",
       "      <td>tweet_id</td>\n",
       "      <td>int64</td>\n",
       "      <td>7274</td>\n",
       "      <td>0</td>\n",
       "      <td>7274.0</td>\n",
       "      <td>4531.74</td>\n",
       "      <td>2617.86</td>\n",
       "      <td>2.0</td>\n",
       "      <td>2261.5</td>\n",
       "      <td>4530.5</td>\n",
       "      <td>6796.75</td>\n",
       "      <td>9092.0</td>\n",
       "    </tr>\n",
       "    <tr>\n",
       "      <th>1</th>\n",
       "      <td>tweet</td>\n",
       "      <td>object</td>\n",
       "      <td>7255</td>\n",
       "      <td>1</td>\n",
       "      <td>NaN</td>\n",
       "      <td>NaN</td>\n",
       "      <td>NaN</td>\n",
       "      <td>NaN</td>\n",
       "      <td>NaN</td>\n",
       "      <td>NaN</td>\n",
       "      <td>NaN</td>\n",
       "      <td>NaN</td>\n",
       "    </tr>\n",
       "    <tr>\n",
       "      <th>2</th>\n",
       "      <td>sentiment</td>\n",
       "      <td>int64</td>\n",
       "      <td>4</td>\n",
       "      <td>0</td>\n",
       "      <td>7274.0</td>\n",
       "      <td>1.30</td>\n",
       "      <td>0.61</td>\n",
       "      <td>0.0</td>\n",
       "      <td>1.0</td>\n",
       "      <td>1.0</td>\n",
       "      <td>2.00</td>\n",
       "      <td>3.0</td>\n",
       "    </tr>\n",
       "  </tbody>\n",
       "</table>\n",
       "</div>"
      ],
      "text/plain": [
       "     Columns Data_Types  Unique_Count  NAN_Count   count     mean      std  \\\n",
       "0   tweet_id      int64          7274          0  7274.0  4531.74  2617.86   \n",
       "1      tweet     object          7255          1     NaN      NaN      NaN   \n",
       "2  sentiment      int64             4          0  7274.0     1.30     0.61   \n",
       "\n",
       "   min     25%     50%      75%     max  \n",
       "0  2.0  2261.5  4530.5  6796.75  9092.0  \n",
       "1  NaN     NaN     NaN      NaN     NaN  \n",
       "2  0.0     1.0     1.0     2.00     3.0  "
      ]
     },
     "execution_count": 8,
     "metadata": {},
     "output_type": "execute_result"
    }
   ],
   "source": [
    "data_insights_report(train)"
   ]
  },
  {
   "cell_type": "markdown",
   "metadata": {},
   "source": [
    "## 3.1 Checking target variable is balanced or imbalanced:"
   ]
  },
  {
   "cell_type": "code",
   "execution_count": 9,
   "metadata": {},
   "outputs": [
    {
     "data": {
      "text/plain": [
       "<matplotlib.axes._subplots.AxesSubplot at 0x1a24175668>"
      ]
     },
     "execution_count": 9,
     "metadata": {},
     "output_type": "execute_result"
    },
    {
     "data": {
      "image/png": "[encoded data removed]",
      "text/plain": [
       "<Figure size 432x288 with 1 Axes>"
      ]
     },
     "metadata": {
      "needs_background": "light"
     },
     "output_type": "display_data"
    }
   ],
   "source": [
    "sns.countplot(train.sentiment)"
   ]
  },
  {
   "cell_type": "code",
   "execution_count": 10,
   "metadata": {
    "scrolled": true
   },
   "outputs": [
    {
     "data": {
      "text/plain": [
       "1    59.27\n",
       "2    32.75\n",
       "0     6.27\n",
       "3     1.72\n",
       "Name: sentiment, dtype: float64"
      ]
     },
     "execution_count": 10,
     "metadata": {},
     "output_type": "execute_result"
    }
   ],
   "source": [
    "round(train.sentiment.value_counts(normalize=True)*100,2)"
   ]
  },
  {
   "cell_type": "markdown",
   "metadata": {},
   "source": [
    "## Inference :\n",
    "#Data is highly imbalanced as there is 60 % response is neutral(1) . \n",
    "#negative (0) & unknown (3) are significantly low values"
   ]
  },
  {
   "cell_type": "markdown",
   "metadata": {},
   "source": [
    "## 3.2 tweet counts v/s Sentiment :"
   ]
  },
  {
   "cell_type": "code",
   "execution_count": 11,
   "metadata": {},
   "outputs": [],
   "source": [
    "train2=train.copy()"
   ]
  },
  {
   "cell_type": "code",
   "execution_count": 18,
   "metadata": {},
   "outputs": [
    {
     "data": {
      "text/plain": [
       "5"
      ]
     },
     "execution_count": 18,
     "metadata": {},
     "output_type": "execute_result"
    }
   ],
   "source": [
    "len('tweet')"
   ]
  },
  {
   "cell_type": "code",
   "execution_count": 25,
   "metadata": {},
   "outputs": [],
   "source": [
    "tweet_per_sentiment=train2.groupby(['sentiment'])['tweet'].count()"
   ]
  },
  {
   "cell_type": "code",
   "execution_count": 26,
   "metadata": {},
   "outputs": [
    {
     "data": {
      "text/plain": [
       "sentiment\n",
       "0     456\n",
       "1    4310\n",
       "2    2382\n",
       "3     125\n",
       "Name: tweet, dtype: int64"
      ]
     },
     "execution_count": 26,
     "metadata": {},
     "output_type": "execute_result"
    }
   ],
   "source": [
    "tweet_per_sentiment"
   ]
  },
  {
   "cell_type": "code",
   "execution_count": 28,
   "metadata": {},
   "outputs": [
    {
     "data": {
      "text/plain": [
       "Text(0, 0.5, 'Number of tweets')"
      ]
     },
     "execution_count": 28,
     "metadata": {},
     "output_type": "execute_result"
    },
    {
     "data": {
      "image/png": "[encoded data removed]",
      "text/plain": [
       "<Figure size 842.4x667.44 with 1 Axes>"
      ]
     },
     "metadata": {
      "needs_background": "light"
     },
     "output_type": "display_data"
    }
   ],
   "source": [
    "f, ax = plt.subplots(figsize=(11.7, 9.27))\n",
    "tweet_per_sentiment.plot.bar()\n",
    "plt.xlabel(\"Sentiments\")\n",
    "plt.ylabel(\"Number of tweets\")\n"
   ]
  },
  {
   "cell_type": "markdown",
   "metadata": {},
   "source": [
    "### Inference :\n",
    "#There are 4310 tweets out of 7255 are only associated with Neutral(1) response\n",
    "#There are 456 & 125 are associated with negative (0) & unknown(3)\n",
    "#There are 2382 tweets associated with Positive(2)"
   ]
  },
  {
   "cell_type": "markdown",
   "metadata": {},
   "source": [
    "## 3.3 Checking Null values:"
   ]
  },
  {
   "cell_type": "code",
   "execution_count": 33,
   "metadata": {},
   "outputs": [
    {
     "data": {
      "text/plain": [
       "tweet    1\n",
       "dtype: int64"
      ]
     },
     "execution_count": 33,
     "metadata": {},
     "output_type": "execute_result"
    }
   ],
   "source": [
    "null_columns=train2.columns[train2.isnull().any()]\n",
    "train2[null_columns].isnull().sum()"
   ]
  },
  {
   "cell_type": "code",
   "execution_count": 34,
   "metadata": {},
   "outputs": [
    {
     "name": "stdout",
     "output_type": "stream",
     "text": [
      "     tweet\n",
      "1274   NaN\n"
     ]
    }
   ],
   "source": [
    "#to check single null column:\n",
    "print(train2[train2[\"tweet\"].isnull()][null_columns])"
   ]
  },
  {
   "cell_type": "code",
   "execution_count": 35,
   "metadata": {},
   "outputs": [
    {
     "name": "stdout",
     "output_type": "stream",
     "text": [
      "     tweet\n",
      "1274   NaN\n"
     ]
    }
   ],
   "source": [
    "#if you want to check all null columns :\n",
    "print(train2[train2.isnull().any(axis=1)][null_columns].head())"
   ]
  },
  {
   "cell_type": "code",
   "execution_count": 38,
   "metadata": {},
   "outputs": [
    {
     "data": {
      "text/html": [
       "<div>\n",
       "<style scoped>\n",
       "    .dataframe tbody tr th:only-of-type {\n",
       "        vertical-align: middle;\n",
       "    }\n",
       "\n",
       "    .dataframe tbody tr th {\n",
       "        vertical-align: top;\n",
       "    }\n",
       "\n",
       "    .dataframe thead th {\n",
       "        text-align: right;\n",
       "    }\n",
       "</style>\n",
       "<table border=\"1\" class=\"dataframe\">\n",
       "  <thead>\n",
       "    <tr style=\"text-align: right;\">\n",
       "      <th></th>\n",
       "      <th>tweet_id</th>\n",
       "      <th>tweet</th>\n",
       "      <th>sentiment</th>\n",
       "    </tr>\n",
       "  </thead>\n",
       "  <tbody>\n",
       "  </tbody>\n",
       "</table>\n",
       "</div>"
      ],
      "text/plain": [
       "Empty DataFrame\n",
       "Columns: [tweet_id, tweet, sentiment]\n",
       "Index: []"
      ]
     },
     "execution_count": 38,
     "metadata": {},
     "output_type": "execute_result"
    }
   ],
   "source": [
    "train2[train2['tweet']=='NaN']"
   ]
  },
  {
   "cell_type": "code",
   "execution_count": 39,
   "metadata": {
    "scrolled": true
   },
   "outputs": [
    {
     "data": {
      "text/html": [
       "<div>\n",
       "<style scoped>\n",
       "    .dataframe tbody tr th:only-of-type {\n",
       "        vertical-align: middle;\n",
       "    }\n",
       "\n",
       "    .dataframe tbody tr th {\n",
       "        vertical-align: top;\n",
       "    }\n",
       "\n",
       "    .dataframe thead th {\n",
       "        text-align: right;\n",
       "    }\n",
       "</style>\n",
       "<table border=\"1\" class=\"dataframe\">\n",
       "  <thead>\n",
       "    <tr style=\"text-align: right;\">\n",
       "      <th></th>\n",
       "      <th>tweet_id</th>\n",
       "      <th>tweet</th>\n",
       "      <th>sentiment</th>\n",
       "    </tr>\n",
       "  </thead>\n",
       "  <tbody>\n",
       "    <tr>\n",
       "      <th>1274</th>\n",
       "      <td>6</td>\n",
       "      <td>NaN</td>\n",
       "      <td>1</td>\n",
       "    </tr>\n",
       "  </tbody>\n",
       "</table>\n",
       "</div>"
      ],
      "text/plain": [
       "      tweet_id tweet  sentiment\n",
       "1274         6   NaN          1"
      ]
     },
     "execution_count": 39,
     "metadata": {},
     "output_type": "execute_result"
    }
   ],
   "source": [
    "train2[train2['tweet_id']==6]"
   ]
  },
  {
   "cell_type": "markdown",
   "metadata": {},
   "source": [
    "### Inference :\n",
    "There is only one null tweet in full dataset with tweet id :6 and it has sentiment neutral(1)"
   ]
  },
  {
   "cell_type": "markdown",
   "metadata": {},
   "source": [
    "## 3.4 : Checking Duplicate tweets :"
   ]
  },
  {
   "cell_type": "code",
   "execution_count": 65,
   "metadata": {},
   "outputs": [],
   "source": [
    "dup_tweets=train2[train2['tweet'].duplicated()]"
   ]
  },
  {
   "cell_type": "code",
   "execution_count": 66,
   "metadata": {
    "scrolled": true
   },
   "outputs": [
    {
     "data": {
      "text/html": [
       "<div>\n",
       "<style scoped>\n",
       "    .dataframe tbody tr th:only-of-type {\n",
       "        vertical-align: middle;\n",
       "    }\n",
       "\n",
       "    .dataframe tbody tr th {\n",
       "        vertical-align: top;\n",
       "    }\n",
       "\n",
       "    .dataframe thead th {\n",
       "        text-align: right;\n",
       "    }\n",
       "</style>\n",
       "<table border=\"1\" class=\"dataframe\">\n",
       "  <thead>\n",
       "    <tr style=\"text-align: right;\">\n",
       "      <th></th>\n",
       "      <th>tweet_id</th>\n",
       "      <th>tweet</th>\n",
       "      <th>sentiment</th>\n",
       "    </tr>\n",
       "  </thead>\n",
       "  <tbody>\n",
       "    <tr>\n",
       "      <th>1473</th>\n",
       "      <td>6300</td>\n",
       "      <td>RT @mention Marissa Mayer: Google Will Connect...</td>\n",
       "      <td>1</td>\n",
       "    </tr>\n",
       "    <tr>\n",
       "      <th>1832</th>\n",
       "      <td>6298</td>\n",
       "      <td>RT @mention Marissa Mayer: Google Will Connect...</td>\n",
       "      <td>2</td>\n",
       "    </tr>\n",
       "    <tr>\n",
       "      <th>2039</th>\n",
       "      <td>5880</td>\n",
       "      <td>RT @mention Google to Launch Major New Social ...</td>\n",
       "      <td>1</td>\n",
       "    </tr>\n",
       "    <tr>\n",
       "      <th>2165</th>\n",
       "      <td>3813</td>\n",
       "      <td>Win free ipad 2 from webdoc.com #sxsw RT</td>\n",
       "      <td>2</td>\n",
       "    </tr>\n",
       "    <tr>\n",
       "      <th>2823</th>\n",
       "      <td>6293</td>\n",
       "      <td>RT @mention Marissa Mayer: Google Will Connect...</td>\n",
       "      <td>2</td>\n",
       "    </tr>\n",
       "    <tr>\n",
       "      <th>2855</th>\n",
       "      <td>6294</td>\n",
       "      <td>RT @mention Marissa Mayer: Google Will Connect...</td>\n",
       "      <td>1</td>\n",
       "    </tr>\n",
       "    <tr>\n",
       "      <th>3194</th>\n",
       "      <td>5881</td>\n",
       "      <td>RT @mention Google to Launch Major New Social ...</td>\n",
       "      <td>1</td>\n",
       "    </tr>\n",
       "    <tr>\n",
       "      <th>3267</th>\n",
       "      <td>3814</td>\n",
       "      <td>Win free iPad 2 from webdoc.com #sxsw RT</td>\n",
       "      <td>2</td>\n",
       "    </tr>\n",
       "    <tr>\n",
       "      <th>3867</th>\n",
       "      <td>6296</td>\n",
       "      <td>RT @mention Marissa Mayer: Google Will Connect...</td>\n",
       "      <td>2</td>\n",
       "    </tr>\n",
       "    <tr>\n",
       "      <th>4180</th>\n",
       "      <td>5341</td>\n",
       "      <td>RT @mention ÷¼ Happy Woman's Day! Make love, ...</td>\n",
       "      <td>1</td>\n",
       "    </tr>\n",
       "    <tr>\n",
       "      <th>4237</th>\n",
       "      <td>6299</td>\n",
       "      <td>RT @mention Marissa Mayer: Google Will Connect...</td>\n",
       "      <td>1</td>\n",
       "    </tr>\n",
       "    <tr>\n",
       "      <th>4334</th>\n",
       "      <td>468</td>\n",
       "      <td>Before It Even Begins, Apple Wins #SXSW {link}</td>\n",
       "      <td>2</td>\n",
       "    </tr>\n",
       "    <tr>\n",
       "      <th>4346</th>\n",
       "      <td>6297</td>\n",
       "      <td>RT @mention Marissa Mayer: Google Will Connect...</td>\n",
       "      <td>1</td>\n",
       "    </tr>\n",
       "    <tr>\n",
       "      <th>4616</th>\n",
       "      <td>5879</td>\n",
       "      <td>RT @mention Google to Launch Major New Social ...</td>\n",
       "      <td>1</td>\n",
       "    </tr>\n",
       "    <tr>\n",
       "      <th>5130</th>\n",
       "      <td>2232</td>\n",
       "      <td>Marissa Mayer: Google Will Connect the Digital...</td>\n",
       "      <td>1</td>\n",
       "    </tr>\n",
       "    <tr>\n",
       "      <th>5490</th>\n",
       "      <td>20</td>\n",
       "      <td>Need to buy an iPad2 while I'm in Austin at #s...</td>\n",
       "      <td>2</td>\n",
       "    </tr>\n",
       "    <tr>\n",
       "      <th>5821</th>\n",
       "      <td>17</td>\n",
       "      <td>I just noticed DST is coming this weekend. How...</td>\n",
       "      <td>0</td>\n",
       "    </tr>\n",
       "    <tr>\n",
       "      <th>6955</th>\n",
       "      <td>5338</td>\n",
       "      <td>RT @mention ÷¼ GO BEYOND BORDERS! ÷_ {link} ...</td>\n",
       "      <td>1</td>\n",
       "    </tr>\n",
       "  </tbody>\n",
       "</table>\n",
       "</div>"
      ],
      "text/plain": [
       "      tweet_id                                              tweet  sentiment\n",
       "1473      6300  RT @mention Marissa Mayer: Google Will Connect...          1\n",
       "1832      6298  RT @mention Marissa Mayer: Google Will Connect...          2\n",
       "2039      5880  RT @mention Google to Launch Major New Social ...          1\n",
       "2165      3813           Win free ipad 2 from webdoc.com #sxsw RT          2\n",
       "2823      6293  RT @mention Marissa Mayer: Google Will Connect...          2\n",
       "2855      6294  RT @mention Marissa Mayer: Google Will Connect...          1\n",
       "3194      5881  RT @mention Google to Launch Major New Social ...          1\n",
       "3267      3814           Win free iPad 2 from webdoc.com #sxsw RT          2\n",
       "3867      6296  RT @mention Marissa Mayer: Google Will Connect...          2\n",
       "4180      5341  RT @mention ÷¼ Happy Woman's Day! Make love, ...          1\n",
       "4237      6299  RT @mention Marissa Mayer: Google Will Connect...          1\n",
       "4334       468     Before It Even Begins, Apple Wins #SXSW {link}          2\n",
       "4346      6297  RT @mention Marissa Mayer: Google Will Connect...          1\n",
       "4616      5879  RT @mention Google to Launch Major New Social ...          1\n",
       "5130      2232  Marissa Mayer: Google Will Connect the Digital...          1\n",
       "5490        20  Need to buy an iPad2 while I'm in Austin at #s...          2\n",
       "5821        17  I just noticed DST is coming this weekend. How...          0\n",
       "6955      5338  RT @mention ÷¼ GO BEYOND BORDERS! ÷_ {link} ...          1"
      ]
     },
     "execution_count": 66,
     "metadata": {},
     "output_type": "execute_result"
    }
   ],
   "source": [
    "dup_tweets"
   ]
  },
  {
   "cell_type": "code",
   "execution_count": 67,
   "metadata": {},
   "outputs": [
    {
     "data": {
      "text/plain": [
       "18"
      ]
     },
     "execution_count": 67,
     "metadata": {},
     "output_type": "execute_result"
    }
   ],
   "source": [
    "len(dup_tweets)"
   ]
  },
  {
   "cell_type": "code",
   "execution_count": 63,
   "metadata": {},
   "outputs": [
    {
     "data": {
      "text/plain": [
       "12"
      ]
     },
     "execution_count": 63,
     "metadata": {},
     "output_type": "execute_result"
    }
   ],
   "source": [
    "dup_tweets.tweet.nunique()"
   ]
  },
  {
   "cell_type": "markdown",
   "metadata": {},
   "source": [
    "### Inference :\n",
    "#There are some duplicate records which have different sentiment scores \n",
    "#so we need to take care of theses records it may create wrong results"
   ]
  },
  {
   "cell_type": "markdown",
   "metadata": {},
   "source": [
    "![title](Desktop/img.png)"
   ]
  },
  {
   "cell_type": "markdown",
   "metadata": {},
   "source": [
    "## 3.5 : Create A word Cloud for each sentiment :"
   ]
  },
  {
   "cell_type": "code",
   "execution_count": 302,
   "metadata": {},
   "outputs": [
    {
     "data": {
      "image/png": "[encoded data removed]",
      "text/plain": [
       "<Figure size 720x720 with 1 Axes>"
      ]
     },
     "metadata": {
      "needs_background": "light"
     },
     "output_type": "display_data"
    },
    {
     "data": {
      "image/png": "[encoded data removed]",
      "text/plain": [
       "<Figure size 720x720 with 1 Axes>"
      ]
     },
     "metadata": {
      "needs_background": "light"
     },
     "output_type": "display_data"
    },
    {
     "data": {
      "image/png": "[encoded data removed]",
      "text/plain": [
       "<Figure size 720x720 with 1 Axes>"
      ]
     },
     "metadata": {
      "needs_background": "light"
     },
     "output_type": "display_data"
    },
    {
     "data": {
      "image/png": "[encoded data removed]",
      "text/plain": [
       "<Figure size 720x720 with 1 Axes>"
      ]
     },
     "metadata": {
      "needs_background": "light"
     },
     "output_type": "display_data"
    }
   ],
   "source": [
    "sentiments = [0, 1, 2, 3]\n",
    "cloud = WordCloud(background_color=\"white\", max_words=20, stopwords=stopwords.words('english'))\n",
    "def draw_word_clouds(dataframe):\n",
    "    for i in sentiments:\n",
    "        category = cloud.generate(dataframe.loc[dataframe['sentiment'] == i, 'tweet'].str.cat(sep='\\n'))\n",
    "        plt.figure(figsize=(10,10))\n",
    "        plt.imshow(category)\n",
    "        plt.axis(\"off\")\n",
    "        plt.title(i)\n",
    "        plt.show()\n",
    "draw_word_clouds(train2)"
   ]
  },
  {
   "cell_type": "markdown",
   "metadata": {},
   "source": [
    "### Inference :\n",
    "Some words are common in all like : sxsw,mention,ipad,iphone,google (most common words)"
   ]
  },
  {
   "cell_type": "markdown",
   "metadata": {},
   "source": [
    "# Step 4 : Basic Feature Extraction :"
   ]
  },
  {
   "cell_type": "markdown",
   "metadata": {},
   "source": [
    "### Basic feature extraction using text data:\n",
    "#Number of uppercase words\n",
    "#Number of words\n",
    "#Number of characters\n",
    "#Average word length\n",
    "#Number of stopwords\n",
    "#Number of special characters : # , @mention ,RT\n",
    "#Number of numerics\n"
   ]
  },
  {
   "cell_type": "markdown",
   "metadata": {},
   "source": [
    "## 4.1 Number of words in uppercase in tweets. & their impact on sentiment :"
   ]
  },
  {
   "cell_type": "code",
   "execution_count": 84,
   "metadata": {},
   "outputs": [
    {
     "data": {
      "text/html": [
       "<div>\n",
       "<style scoped>\n",
       "    .dataframe tbody tr th:only-of-type {\n",
       "        vertical-align: middle;\n",
       "    }\n",
       "\n",
       "    .dataframe tbody tr th {\n",
       "        vertical-align: top;\n",
       "    }\n",
       "\n",
       "    .dataframe thead th {\n",
       "        text-align: right;\n",
       "    }\n",
       "</style>\n",
       "<table border=\"1\" class=\"dataframe\">\n",
       "  <thead>\n",
       "    <tr style=\"text-align: right;\">\n",
       "      <th></th>\n",
       "      <th>tweet</th>\n",
       "      <th>upper</th>\n",
       "    </tr>\n",
       "  </thead>\n",
       "  <tbody>\n",
       "    <tr>\n",
       "      <th>0</th>\n",
       "      <td>#sxswnui #sxsw #apple defining language of tou...</td>\n",
       "      <td>0</td>\n",
       "    </tr>\n",
       "    <tr>\n",
       "      <th>1</th>\n",
       "      <td>Learning ab Google doodles! All doodles should...</td>\n",
       "      <td>0</td>\n",
       "    </tr>\n",
       "    <tr>\n",
       "      <th>2</th>\n",
       "      <td>one of the most in-your-face ex. of stealing t...</td>\n",
       "      <td>2</td>\n",
       "    </tr>\n",
       "    <tr>\n",
       "      <th>3</th>\n",
       "      <td>This iPhone #SXSW app would b pretty awesome i...</td>\n",
       "      <td>1</td>\n",
       "    </tr>\n",
       "    <tr>\n",
       "      <th>4</th>\n",
       "      <td>Line outside the Apple store in Austin waiting...</td>\n",
       "      <td>1</td>\n",
       "    </tr>\n",
       "  </tbody>\n",
       "</table>\n",
       "</div>"
      ],
      "text/plain": [
       "                                               tweet  upper\n",
       "0  #sxswnui #sxsw #apple defining language of tou...      0\n",
       "1  Learning ab Google doodles! All doodles should...      0\n",
       "2  one of the most in-your-face ex. of stealing t...      2\n",
       "3  This iPhone #SXSW app would b pretty awesome i...      1\n",
       "4  Line outside the Apple store in Austin waiting...      1"
      ]
     },
     "execution_count": 84,
     "metadata": {},
     "output_type": "execute_result"
    }
   ],
   "source": [
    "train2['upper'] = train2['tweet'].apply(lambda x: len([str(x) for x in str(x).split() if str(x).isupper()]))\n",
    "train2[['tweet','upper']].head()"
   ]
  },
  {
   "cell_type": "markdown",
   "metadata": {},
   "source": [
    "### Impact of uppercase words on Sentiment :"
   ]
  },
  {
   "cell_type": "code",
   "execution_count": 85,
   "metadata": {
    "scrolled": true
   },
   "outputs": [
    {
     "name": "stdout",
     "output_type": "stream",
     "text": [
      "sentiment\n",
      "0    1.131579\n",
      "1    1.241243\n",
      "2    1.181360\n",
      "3    1.216000\n",
      "Name: upper, dtype: float64\n"
     ]
    }
   ],
   "source": [
    "upper_sentiment=(train2['upper'].groupby(train2['sentiment']).mean())\n",
    "print(upper_sentiment)"
   ]
  },
  {
   "cell_type": "code",
   "execution_count": 86,
   "metadata": {},
   "outputs": [
    {
     "data": {
      "text/plain": [
       "Text(0, 0.5, 'Average uppercase word count')"
      ]
     },
     "execution_count": 86,
     "metadata": {},
     "output_type": "execute_result"
    },
    {
     "data": {
      "image/png": "[encoded data removed]",
      "text/plain": [
       "<Figure size 842.4x667.44 with 1 Axes>"
      ]
     },
     "metadata": {
      "needs_background": "light"
     },
     "output_type": "display_data"
    }
   ],
   "source": [
    "f, ax = plt.subplots(figsize=(11.7, 9.27))\n",
    "upper_sentiment.plot.bar()\n",
    "plt.xlabel(\"sentiment\")\n",
    "plt.ylabel(\"Average uppercase word count\")"
   ]
  },
  {
   "cell_type": "markdown",
   "metadata": {},
   "source": [
    "### Inference :\n",
    "almost same number of Uppercase words has been used in all tweets according to respective sentiments"
   ]
  },
  {
   "cell_type": "markdown",
   "metadata": {},
   "source": [
    "## 4.2 Change all tweets into lowercase :"
   ]
  },
  {
   "cell_type": "code",
   "execution_count": 89,
   "metadata": {},
   "outputs": [
    {
     "data": {
      "text/plain": [
       "0    #sxswnui #sxsw #apple defining language of tou...\n",
       "1    learning ab google doodles! all doodles should...\n",
       "2    one of the most in-your-face ex. of stealing t...\n",
       "3    this iphone #sxsw app would b pretty awesome i...\n",
       "4    line outside the apple store in austin waiting...\n",
       "Name: tweet, dtype: object"
      ]
     },
     "execution_count": 89,
     "metadata": {},
     "output_type": "execute_result"
    }
   ],
   "source": [
    "train2['tweet'] = train2['tweet'].apply(lambda x: \" \".join(x.lower() for x in str(x).split()))\n",
    "train2['tweet'].head()"
   ]
  },
  {
   "cell_type": "markdown",
   "metadata": {},
   "source": [
    "## 4.3: Number of words per tweet & its impact on sentiment column :"
   ]
  },
  {
   "cell_type": "code",
   "execution_count": 90,
   "metadata": {},
   "outputs": [
    {
     "data": {
      "text/html": [
       "<div>\n",
       "<style scoped>\n",
       "    .dataframe tbody tr th:only-of-type {\n",
       "        vertical-align: middle;\n",
       "    }\n",
       "\n",
       "    .dataframe tbody tr th {\n",
       "        vertical-align: top;\n",
       "    }\n",
       "\n",
       "    .dataframe thead th {\n",
       "        text-align: right;\n",
       "    }\n",
       "</style>\n",
       "<table border=\"1\" class=\"dataframe\">\n",
       "  <thead>\n",
       "    <tr style=\"text-align: right;\">\n",
       "      <th></th>\n",
       "      <th>tweet</th>\n",
       "      <th>word_count</th>\n",
       "    </tr>\n",
       "  </thead>\n",
       "  <tbody>\n",
       "    <tr>\n",
       "      <th>0</th>\n",
       "      <td>#sxswnui #sxsw #apple defining language of tou...</td>\n",
       "      <td>12</td>\n",
       "    </tr>\n",
       "    <tr>\n",
       "      <th>1</th>\n",
       "      <td>learning ab google doodles! all doodles should...</td>\n",
       "      <td>19</td>\n",
       "    </tr>\n",
       "    <tr>\n",
       "      <th>2</th>\n",
       "      <td>one of the most in-your-face ex. of stealing t...</td>\n",
       "      <td>22</td>\n",
       "    </tr>\n",
       "    <tr>\n",
       "      <th>3</th>\n",
       "      <td>this iphone #sxsw app would b pretty awesome i...</td>\n",
       "      <td>19</td>\n",
       "    </tr>\n",
       "    <tr>\n",
       "      <th>4</th>\n",
       "      <td>line outside the apple store in austin waiting...</td>\n",
       "      <td>14</td>\n",
       "    </tr>\n",
       "  </tbody>\n",
       "</table>\n",
       "</div>"
      ],
      "text/plain": [
       "                                               tweet  word_count\n",
       "0  #sxswnui #sxsw #apple defining language of tou...          12\n",
       "1  learning ab google doodles! all doodles should...          19\n",
       "2  one of the most in-your-face ex. of stealing t...          22\n",
       "3  this iphone #sxsw app would b pretty awesome i...          19\n",
       "4  line outside the apple store in austin waiting...          14"
      ]
     },
     "execution_count": 90,
     "metadata": {},
     "output_type": "execute_result"
    }
   ],
   "source": [
    "train2['word_count'] = train2['tweet'].apply(lambda x: len(str(x).split(\" \")))\n",
    "train2[['tweet','word_count']].head()"
   ]
  },
  {
   "cell_type": "markdown",
   "metadata": {},
   "source": [
    "### impact on sentiment column :"
   ]
  },
  {
   "cell_type": "code",
   "execution_count": 91,
   "metadata": {},
   "outputs": [
    {
     "name": "stdout",
     "output_type": "stream",
     "text": [
      "sentiment\n",
      "0    18.684211\n",
      "1    17.382278\n",
      "2    18.220823\n",
      "3    17.488000\n",
      "Name: word_count, dtype: float64\n"
     ]
    }
   ],
   "source": [
    "word_sentiment=(train2['word_count'].groupby(train2['sentiment']).mean())\n",
    "print(word_sentiment)"
   ]
  },
  {
   "cell_type": "code",
   "execution_count": 92,
   "metadata": {},
   "outputs": [
    {
     "data": {
      "text/plain": [
       "Text(0, 0.5, 'Average Word count')"
      ]
     },
     "execution_count": 92,
     "metadata": {},
     "output_type": "execute_result"
    },
    {
     "data": {
      "image/png": "[encoded data removed]",
      "text/plain": [
       "<Figure size 842.4x667.44 with 1 Axes>"
      ]
     },
     "metadata": {
      "needs_background": "light"
     },
     "output_type": "display_data"
    }
   ],
   "source": [
    "f, ax = plt.subplots(figsize=(11.7, 9.27))\n",
    "word_sentiment.plot.bar()\n",
    "plt.xlabel(\"sentiment\")\n",
    "plt.ylabel(\"Average Word count\")"
   ]
  },
  {
   "cell_type": "markdown",
   "metadata": {},
   "source": [
    "### Inference :\n",
    "#There is no such impact on sentiment column.\n",
    "#there is number of words are more in Negative tweet(0)\n",
    "#Average number of words respective to all sentiments are moreover same "
   ]
  },
  {
   "cell_type": "markdown",
   "metadata": {},
   "source": [
    "## 4.4 Number of characters per tweet & impact on sentiment analysis :"
   ]
  },
  {
   "cell_type": "code",
   "execution_count": 93,
   "metadata": {},
   "outputs": [],
   "source": [
    "train2['char_count'] = train2['tweet'].str.len() ## this also includes spaces"
   ]
  },
  {
   "cell_type": "code",
   "execution_count": 94,
   "metadata": {},
   "outputs": [
    {
     "data": {
      "text/html": [
       "<div>\n",
       "<style scoped>\n",
       "    .dataframe tbody tr th:only-of-type {\n",
       "        vertical-align: middle;\n",
       "    }\n",
       "\n",
       "    .dataframe tbody tr th {\n",
       "        vertical-align: top;\n",
       "    }\n",
       "\n",
       "    .dataframe thead th {\n",
       "        text-align: right;\n",
       "    }\n",
       "</style>\n",
       "<table border=\"1\" class=\"dataframe\">\n",
       "  <thead>\n",
       "    <tr style=\"text-align: right;\">\n",
       "      <th></th>\n",
       "      <th>tweet</th>\n",
       "      <th>char_count</th>\n",
       "    </tr>\n",
       "  </thead>\n",
       "  <tbody>\n",
       "    <tr>\n",
       "      <th>0</th>\n",
       "      <td>#sxswnui #sxsw #apple defining language of tou...</td>\n",
       "      <td>89</td>\n",
       "    </tr>\n",
       "    <tr>\n",
       "      <th>1</th>\n",
       "      <td>learning ab google doodles! all doodles should...</td>\n",
       "      <td>143</td>\n",
       "    </tr>\n",
       "    <tr>\n",
       "      <th>2</th>\n",
       "      <td>one of the most in-your-face ex. of stealing t...</td>\n",
       "      <td>131</td>\n",
       "    </tr>\n",
       "  </tbody>\n",
       "</table>\n",
       "</div>"
      ],
      "text/plain": [
       "                                               tweet  char_count\n",
       "0  #sxswnui #sxsw #apple defining language of tou...          89\n",
       "1  learning ab google doodles! all doodles should...         143\n",
       "2  one of the most in-your-face ex. of stealing t...         131"
      ]
     },
     "execution_count": 94,
     "metadata": {},
     "output_type": "execute_result"
    }
   ],
   "source": [
    "train2[['tweet','char_count']].head(3)"
   ]
  },
  {
   "cell_type": "markdown",
   "metadata": {},
   "source": [
    "### Impact on sentiment column :"
   ]
  },
  {
   "cell_type": "code",
   "execution_count": 95,
   "metadata": {},
   "outputs": [
    {
     "name": "stdout",
     "output_type": "stream",
     "text": [
      "sentiment\n",
      "0    108.754386\n",
      "1    103.790072\n",
      "2    105.651134\n",
      "3    101.584000\n",
      "Name: char_count, dtype: float64\n"
     ]
    }
   ],
   "source": [
    "char_sentiment=(train2['char_count'].groupby(train2['sentiment']).mean())\n",
    "print(char_sentiment)"
   ]
  },
  {
   "cell_type": "code",
   "execution_count": 96,
   "metadata": {},
   "outputs": [
    {
     "data": {
      "text/plain": [
       "Text(0, 0.5, 'Average Character count')"
      ]
     },
     "execution_count": 96,
     "metadata": {},
     "output_type": "execute_result"
    },
    {
     "data": {
      "image/png": "[encoded data removed]",
      "text/plain": [
       "<Figure size 842.4x667.44 with 1 Axes>"
      ]
     },
     "metadata": {
      "needs_background": "light"
     },
     "output_type": "display_data"
    }
   ],
   "source": [
    " ax = plt.subplots(figsize=(11.7, 9.27))\n",
    "char_sentiment.plot.bar()\n",
    "plt.xlabel(\"sentiment\")\n",
    "plt.ylabel(\"Average Character count\")"
   ]
  },
  {
   "cell_type": "markdown",
   "metadata": {},
   "source": [
    "### Inference :\n",
    "Character count is more in case of negative sentiment (0)\n"
   ]
  },
  {
   "cell_type": "markdown",
   "metadata": {},
   "source": [
    "## 4.5 Average word Length & impact on Sentiment :"
   ]
  },
  {
   "cell_type": "code",
   "execution_count": 97,
   "metadata": {},
   "outputs": [
    {
     "data": {
      "text/html": [
       "<div>\n",
       "<style scoped>\n",
       "    .dataframe tbody tr th:only-of-type {\n",
       "        vertical-align: middle;\n",
       "    }\n",
       "\n",
       "    .dataframe tbody tr th {\n",
       "        vertical-align: top;\n",
       "    }\n",
       "\n",
       "    .dataframe thead th {\n",
       "        text-align: right;\n",
       "    }\n",
       "</style>\n",
       "<table border=\"1\" class=\"dataframe\">\n",
       "  <thead>\n",
       "    <tr style=\"text-align: right;\">\n",
       "      <th></th>\n",
       "      <th>tweet</th>\n",
       "      <th>avg_word</th>\n",
       "    </tr>\n",
       "  </thead>\n",
       "  <tbody>\n",
       "    <tr>\n",
       "      <th>0</th>\n",
       "      <td>#sxswnui #sxsw #apple defining language of tou...</td>\n",
       "      <td>6.500000</td>\n",
       "    </tr>\n",
       "    <tr>\n",
       "      <th>1</th>\n",
       "      <td>learning ab google doodles! all doodles should...</td>\n",
       "      <td>6.578947</td>\n",
       "    </tr>\n",
       "    <tr>\n",
       "      <th>2</th>\n",
       "      <td>one of the most in-your-face ex. of stealing t...</td>\n",
       "      <td>5.000000</td>\n",
       "    </tr>\n",
       "    <tr>\n",
       "      <th>3</th>\n",
       "      <td>this iphone #sxsw app would b pretty awesome i...</td>\n",
       "      <td>5.631579</td>\n",
       "    </tr>\n",
       "    <tr>\n",
       "      <th>4</th>\n",
       "      <td>line outside the apple store in austin waiting...</td>\n",
       "      <td>4.500000</td>\n",
       "    </tr>\n",
       "  </tbody>\n",
       "</table>\n",
       "</div>"
      ],
      "text/plain": [
       "                                               tweet  avg_word\n",
       "0  #sxswnui #sxsw #apple defining language of tou...  6.500000\n",
       "1  learning ab google doodles! all doodles should...  6.578947\n",
       "2  one of the most in-your-face ex. of stealing t...  5.000000\n",
       "3  this iphone #sxsw app would b pretty awesome i...  5.631579\n",
       "4  line outside the apple store in austin waiting...  4.500000"
      ]
     },
     "execution_count": 97,
     "metadata": {},
     "output_type": "execute_result"
    }
   ],
   "source": [
    "def avg_word(sentence):\n",
    "  words = sentence.split()\n",
    "  return (sum(len(word) for word in words)/len(words))\n",
    "\n",
    "train2['avg_word'] = train2['tweet'].apply(lambda x: avg_word(x))\n",
    "train2[['tweet','avg_word']].head()"
   ]
  },
  {
   "cell_type": "markdown",
   "metadata": {},
   "source": [
    "### Impact of average word length on Sentiment :"
   ]
  },
  {
   "cell_type": "code",
   "execution_count": 98,
   "metadata": {},
   "outputs": [
    {
     "name": "stdout",
     "output_type": "stream",
     "text": [
      "sentiment\n",
      "0    4.950472\n",
      "1    5.115381\n",
      "2    4.922710\n",
      "3    4.933317\n",
      "Name: avg_word, dtype: float64\n"
     ]
    }
   ],
   "source": [
    "avgword_sentiment=(train2['avg_word'].groupby(train2['sentiment']).mean())\n",
    "print(avgword_sentiment)"
   ]
  },
  {
   "cell_type": "code",
   "execution_count": 100,
   "metadata": {},
   "outputs": [
    {
     "data": {
      "text/plain": [
       "Text(0, 0.5, 'Average word length')"
      ]
     },
     "execution_count": 100,
     "metadata": {},
     "output_type": "execute_result"
    },
    {
     "data": {
      "image/png": "[encoded data removed]",
      "text/plain": [
       "<Figure size 842.4x667.44 with 1 Axes>"
      ]
     },
     "metadata": {
      "needs_background": "light"
     },
     "output_type": "display_data"
    }
   ],
   "source": [
    "ax = plt.subplots(figsize=(11.7, 9.27))\n",
    "avgword_sentiment.plot.bar()\n",
    "plt.xlabel(\"sentiment\")\n",
    "plt.ylabel(\"Average word length\")"
   ]
  },
  {
   "cell_type": "markdown",
   "metadata": {},
   "source": [
    "### Inference :\n",
    "Its almost same in all tweets respective to sentiments."
   ]
  },
  {
   "cell_type": "markdown",
   "metadata": {},
   "source": [
    "## 4.6 :Number of stop words per tweet & Their imapct on Sentiment :"
   ]
  },
  {
   "cell_type": "code",
   "execution_count": 102,
   "metadata": {},
   "outputs": [
    {
     "data": {
      "text/html": [
       "<div>\n",
       "<style scoped>\n",
       "    .dataframe tbody tr th:only-of-type {\n",
       "        vertical-align: middle;\n",
       "    }\n",
       "\n",
       "    .dataframe tbody tr th {\n",
       "        vertical-align: top;\n",
       "    }\n",
       "\n",
       "    .dataframe thead th {\n",
       "        text-align: right;\n",
       "    }\n",
       "</style>\n",
       "<table border=\"1\" class=\"dataframe\">\n",
       "  <thead>\n",
       "    <tr style=\"text-align: right;\">\n",
       "      <th></th>\n",
       "      <th>tweet</th>\n",
       "      <th>stopwords</th>\n",
       "    </tr>\n",
       "  </thead>\n",
       "  <tbody>\n",
       "    <tr>\n",
       "      <th>0</th>\n",
       "      <td>#sxswnui #sxsw #apple defining language of tou...</td>\n",
       "      <td>2</td>\n",
       "    </tr>\n",
       "    <tr>\n",
       "      <th>1</th>\n",
       "      <td>learning ab google doodles! all doodles should...</td>\n",
       "      <td>5</td>\n",
       "    </tr>\n",
       "    <tr>\n",
       "      <th>2</th>\n",
       "      <td>one of the most in-your-face ex. of stealing t...</td>\n",
       "      <td>7</td>\n",
       "    </tr>\n",
       "    <tr>\n",
       "      <th>3</th>\n",
       "      <td>this iphone #sxsw app would b pretty awesome i...</td>\n",
       "      <td>5</td>\n",
       "    </tr>\n",
       "    <tr>\n",
       "      <th>4</th>\n",
       "      <td>line outside the apple store in austin waiting...</td>\n",
       "      <td>4</td>\n",
       "    </tr>\n",
       "  </tbody>\n",
       "</table>\n",
       "</div>"
      ],
      "text/plain": [
       "                                               tweet  stopwords\n",
       "0  #sxswnui #sxsw #apple defining language of tou...          2\n",
       "1  learning ab google doodles! all doodles should...          5\n",
       "2  one of the most in-your-face ex. of stealing t...          7\n",
       "3  this iphone #sxsw app would b pretty awesome i...          5\n",
       "4  line outside the apple store in austin waiting...          4"
      ]
     },
     "execution_count": 102,
     "metadata": {},
     "output_type": "execute_result"
    }
   ],
   "source": [
    "from nltk.corpus import stopwords\n",
    "stop = stopwords.words('english')\n",
    "\n",
    "train2['stopwords'] = train2['tweet'].apply(lambda x: len([x for x in str(x).split() if x in stop]))\n",
    "train2[['tweet','stopwords']].head()"
   ]
  },
  {
   "cell_type": "markdown",
   "metadata": {},
   "source": [
    "### Impact of stopwords on Sentiment :"
   ]
  },
  {
   "cell_type": "code",
   "execution_count": 103,
   "metadata": {},
   "outputs": [
    {
     "name": "stdout",
     "output_type": "stream",
     "text": [
      "sentiment\n",
      "0    6.179825\n",
      "1    4.760148\n",
      "2    5.397565\n",
      "3    5.568000\n",
      "Name: stopwords, dtype: float64\n"
     ]
    }
   ],
   "source": [
    "avg_stop_sentiment=(train2['stopwords'].groupby(train2['sentiment']).mean())\n",
    "print(avg_stop_sentiment)"
   ]
  },
  {
   "cell_type": "code",
   "execution_count": 104,
   "metadata": {},
   "outputs": [
    {
     "data": {
      "text/plain": [
       "Text(0, 0.5, 'Average Stopwords count')"
      ]
     },
     "execution_count": 104,
     "metadata": {},
     "output_type": "execute_result"
    },
    {
     "data": {
      "image/png": "[encoded data removed]",
      "text/plain": [
       "<Figure size 842.4x667.44 with 1 Axes>"
      ]
     },
     "metadata": {
      "needs_background": "light"
     },
     "output_type": "display_data"
    }
   ],
   "source": [
    "ax = plt.subplots(figsize=(11.7, 9.27))\n",
    "avg_stop_sentiment.plot.bar()\n",
    "plt.xlabel(\"sentiment\")\n",
    "plt.ylabel(\"Average Stopwords count\")"
   ]
  },
  {
   "cell_type": "markdown",
   "metadata": {},
   "source": [
    "### Inference:\n",
    "Neutal(1) sentiment has lesser stopwords as compared to other sentiment tweets "
   ]
  },
  {
   "cell_type": "markdown",
   "metadata": {},
   "source": [
    "## 4.7: Number of special characters & their respective impact on Sentiment :"
   ]
  },
  {
   "cell_type": "code",
   "execution_count": 105,
   "metadata": {},
   "outputs": [],
   "source": [
    "def preprocess(s):\n",
    "    lower_ls=nltk.word_tokenize(s.lower())\n",
    "    return lower_ls"
   ]
  },
  {
   "cell_type": "code",
   "execution_count": 106,
   "metadata": {},
   "outputs": [],
   "source": [
    "lower_ls=train2['tweet'].map(lambda x: preprocess(str(x)))"
   ]
  },
  {
   "cell_type": "markdown",
   "metadata": {},
   "source": [
    "### 4.7.1 : Number of Hashtags # & their impact on Sentiment :"
   ]
  },
  {
   "cell_type": "code",
   "execution_count": 107,
   "metadata": {},
   "outputs": [],
   "source": [
    "train2['hashtag_cnt']=lower_ls.map(lambda x: x.count('#'))"
   ]
  },
  {
   "cell_type": "code",
   "execution_count": 109,
   "metadata": {},
   "outputs": [
    {
     "data": {
      "text/html": [
       "<div>\n",
       "<style scoped>\n",
       "    .dataframe tbody tr th:only-of-type {\n",
       "        vertical-align: middle;\n",
       "    }\n",
       "\n",
       "    .dataframe tbody tr th {\n",
       "        vertical-align: top;\n",
       "    }\n",
       "\n",
       "    .dataframe thead th {\n",
       "        text-align: right;\n",
       "    }\n",
       "</style>\n",
       "<table border=\"1\" class=\"dataframe\">\n",
       "  <thead>\n",
       "    <tr style=\"text-align: right;\">\n",
       "      <th></th>\n",
       "      <th>tweet</th>\n",
       "      <th>hashtag_cnt</th>\n",
       "    </tr>\n",
       "  </thead>\n",
       "  <tbody>\n",
       "    <tr>\n",
       "      <th>0</th>\n",
       "      <td>#sxswnui #sxsw #apple defining language of tou...</td>\n",
       "      <td>3</td>\n",
       "    </tr>\n",
       "    <tr>\n",
       "      <th>1</th>\n",
       "      <td>learning ab google doodles! all doodles should...</td>\n",
       "      <td>2</td>\n",
       "    </tr>\n",
       "    <tr>\n",
       "      <th>2</th>\n",
       "      <td>one of the most in-your-face ex. of stealing t...</td>\n",
       "      <td>1</td>\n",
       "    </tr>\n",
       "    <tr>\n",
       "      <th>3</th>\n",
       "      <td>this iphone #sxsw app would b pretty awesome i...</td>\n",
       "      <td>3</td>\n",
       "    </tr>\n",
       "    <tr>\n",
       "      <th>4</th>\n",
       "      <td>line outside the apple store in austin waiting...</td>\n",
       "      <td>1</td>\n",
       "    </tr>\n",
       "  </tbody>\n",
       "</table>\n",
       "</div>"
      ],
      "text/plain": [
       "                                               tweet  hashtag_cnt\n",
       "0  #sxswnui #sxsw #apple defining language of tou...            3\n",
       "1  learning ab google doodles! all doodles should...            2\n",
       "2  one of the most in-your-face ex. of stealing t...            1\n",
       "3  this iphone #sxsw app would b pretty awesome i...            3\n",
       "4  line outside the apple store in austin waiting...            1"
      ]
     },
     "execution_count": 109,
     "metadata": {},
     "output_type": "execute_result"
    }
   ],
   "source": [
    "train2[['tweet','hashtag_cnt']].head()"
   ]
  },
  {
   "cell_type": "code",
   "execution_count": 122,
   "metadata": {},
   "outputs": [
    {
     "data": {
      "text/plain": [
       "12685"
      ]
     },
     "execution_count": 122,
     "metadata": {},
     "output_type": "execute_result"
    }
   ],
   "source": [
    "train2['hashtag_cnt'].sum()"
   ]
  },
  {
   "cell_type": "code",
   "execution_count": 117,
   "metadata": {},
   "outputs": [
    {
     "name": "stdout",
     "output_type": "stream",
     "text": [
      "sentiment\n",
      "0    1.607456\n",
      "1    1.794711\n",
      "2    1.685558\n",
      "3    1.600000\n",
      "Name: hashtag_cnt, dtype: float64\n"
     ]
    }
   ],
   "source": [
    "avg_hashtag_tweet=(train2['hashtag_cnt'].groupby(train2['sentiment']).mean())\n",
    "print(avg_hashtag_tweet)"
   ]
  },
  {
   "cell_type": "code",
   "execution_count": 118,
   "metadata": {},
   "outputs": [
    {
     "data": {
      "text/plain": [
       "Text(0, 0.5, 'Average hashtag count')"
      ]
     },
     "execution_count": 118,
     "metadata": {},
     "output_type": "execute_result"
    },
    {
     "data": {
      "image/png": "[encoded data removed]",
      "text/plain": [
       "<Figure size 842.4x667.44 with 1 Axes>"
      ]
     },
     "metadata": {
      "needs_background": "light"
     },
     "output_type": "display_data"
    }
   ],
   "source": [
    "ax = plt.subplots(figsize=(11.7, 9.27))\n",
    "avg_hashtag_tweet.plot.bar()\n",
    "plt.xlabel(\"sentiment\")\n",
    "plt.ylabel(\"Average hashtag count\")"
   ]
  },
  {
   "cell_type": "markdown",
   "metadata": {},
   "source": [
    "### Inference:\n",
    "Its almost same in all tweets respective to sentiments."
   ]
  },
  {
   "cell_type": "code",
   "execution_count": 183,
   "metadata": {
    "scrolled": true
   },
   "outputs": [
    {
     "name": "stdout",
     "output_type": "stream",
     "text": [
      "sentiment\n",
      "0     733\n",
      "1    7737\n",
      "2    4015\n",
      "3     200\n",
      "Name: hashtag_cnt, dtype: int64\n"
     ]
    }
   ],
   "source": [
    "hashtag_count_tweet=(train2['hashtag_cnt'].groupby(train2['sentiment']).sum())\n",
    "print(hashtag_count_tweet)"
   ]
  },
  {
   "cell_type": "code",
   "execution_count": 184,
   "metadata": {},
   "outputs": [
    {
     "data": {
      "text/plain": [
       "7274"
      ]
     },
     "execution_count": 184,
     "metadata": {},
     "output_type": "execute_result"
    }
   ],
   "source": [
    "len(train2['hashtag_cnt'])"
   ]
  },
  {
   "cell_type": "code",
   "execution_count": 185,
   "metadata": {},
   "outputs": [
    {
     "data": {
      "text/plain": [
       "Text(0, 0.5, 'Total hashtag count')"
      ]
     },
     "execution_count": 185,
     "metadata": {},
     "output_type": "execute_result"
    },
    {
     "data": {
      "image/png": "[encoded data removed]",
      "text/plain": [
       "<Figure size 842.4x667.44 with 1 Axes>"
      ]
     },
     "metadata": {
      "needs_background": "light"
     },
     "output_type": "display_data"
    }
   ],
   "source": [
    "ax = plt.subplots(figsize=(11.7, 9.27))\n",
    "hashtag_count_tweet.plot.bar()\n",
    "plt.xlabel(\"sentiment\")\n",
    "plt.ylabel(\"Total hashtag count\")"
   ]
  },
  {
   "cell_type": "markdown",
   "metadata": {},
   "source": [
    "### Inference :\n",
    "#Total Hashtags used are 12685\n",
    "#Mostly Hashtags are used in Neutral (1) Sentiment around 7737\n",
    "#In Negative(0) are comparitavley less hashtags 733"
   ]
  },
  {
   "cell_type": "markdown",
   "metadata": {},
   "source": [
    "### Extraction of Hashtags & check which hashtag has more impact on respective Sentiment :\n"
   ]
  },
  {
   "cell_type": "code",
   "execution_count": 123,
   "metadata": {},
   "outputs": [],
   "source": [
    "# function to collect hashtags\n",
    "def hashtag_extract(x):\n",
    "    hashtags = []\n",
    "    # Loop over the words in the tweet\n",
    "    for i in x:\n",
    "        ht = re.findall(r\"#(\\w+)\", i)\n",
    "        hashtags.append(ht)\n",
    "\n",
    "    return hashtags"
   ]
  },
  {
   "cell_type": "markdown",
   "metadata": {},
   "source": [
    "### Hashtags used in tweets respective to Sentiment: Negative(0)"
   ]
  },
  {
   "cell_type": "code",
   "execution_count": 133,
   "metadata": {},
   "outputs": [],
   "source": [
    "HT_negative = hashtag_extract(train2['tweet'][train2['sentiment'] == 0])"
   ]
  },
  {
   "cell_type": "code",
   "execution_count": 147,
   "metadata": {},
   "outputs": [
    {
     "data": {
      "text/plain": [
       "732"
      ]
     },
     "execution_count": 147,
     "metadata": {},
     "output_type": "execute_result"
    }
   ],
   "source": [
    "len(HT_negative) # total number of hashtags"
   ]
  },
  {
   "cell_type": "code",
   "execution_count": 146,
   "metadata": {},
   "outputs": [
    {
     "name": "stdout",
     "output_type": "stream",
     "text": [
      "150\n"
     ]
    }
   ],
   "source": [
    "print(len(set(HT_negative)))  # Unique hashtags present in Negative (0) sentiment"
   ]
  },
  {
   "cell_type": "code",
   "execution_count": 143,
   "metadata": {},
   "outputs": [],
   "source": [
    "#unnesting the list :\n",
    "HT_negative = sum(HT_negative,[])"
   ]
  },
  {
   "cell_type": "code",
   "execution_count": 144,
   "metadata": {
    "scrolled": true
   },
   "outputs": [
    {
     "data": {
      "image/png": "[encoded data removed]",
      "text/plain": [
       "<Figure size 1152x360 with 1 Axes>"
      ]
     },
     "metadata": {
      "needs_background": "light"
     },
     "output_type": "display_data"
    }
   ],
   "source": [
    "a = nltk.FreqDist(HT_negative)\n",
    "d = pd.DataFrame({'Hashtag': list(a.keys()),\n",
    "                  'Count': list(a.values())})\n",
    "\n",
    "# selecting top 20 most frequent hashtags     \n",
    "d = d.nlargest(columns=\"Count\", n = 20) \n",
    "plt.figure(figsize=(16,5))\n",
    "ax = sns.barplot(data=d, x= \"Hashtag\", y = \"Count\")\n",
    "ax.set(ylabel = 'Count')\n",
    "plt.show()"
   ]
  },
  {
   "cell_type": "markdown",
   "metadata": {},
   "source": [
    "### Inference :\n",
    "#sxsw is the most used hashtag in Negative (0) sentiment as compared to other 149 hashtags \n",
    "#It has been used 450 times out of 732"
   ]
  },
  {
   "cell_type": "markdown",
   "metadata": {},
   "source": [
    "### Hashtags used in tweets respective to Sentiment: Neutral(1)"
   ]
  },
  {
   "cell_type": "code",
   "execution_count": 148,
   "metadata": {},
   "outputs": [],
   "source": [
    "HT_neutral = hashtag_extract(train2['tweet'][train2['sentiment'] == 1])"
   ]
  },
  {
   "cell_type": "code",
   "execution_count": 149,
   "metadata": {},
   "outputs": [
    {
     "data": {
      "text/plain": [
       "4311"
      ]
     },
     "execution_count": 149,
     "metadata": {},
     "output_type": "execute_result"
    }
   ],
   "source": [
    "len(HT_neutral) # total number of hashtags"
   ]
  },
  {
   "cell_type": "code",
   "execution_count": 152,
   "metadata": {},
   "outputs": [
    {
     "name": "stdout",
     "output_type": "stream",
     "text": [
      "953\n"
     ]
    }
   ],
   "source": [
    "print(len(set(HT_neutral)))  # Unique hashtags present in Neutral (1) sentiment"
   ]
  },
  {
   "cell_type": "code",
   "execution_count": 151,
   "metadata": {},
   "outputs": [],
   "source": [
    "#unnesting the list :\n",
    "HT_neutral = sum(HT_neutral,[])"
   ]
  },
  {
   "cell_type": "code",
   "execution_count": 153,
   "metadata": {},
   "outputs": [
    {
     "data": {
      "image/png": "[encoded data removed]",
      "text/plain": [
       "<Figure size 1152x360 with 1 Axes>"
      ]
     },
     "metadata": {
      "needs_background": "light"
     },
     "output_type": "display_data"
    }
   ],
   "source": [
    "a = nltk.FreqDist(HT_neutral)\n",
    "d = pd.DataFrame({'Hashtag': list(a.keys()),\n",
    "                  'Count': list(a.values())})\n",
    "\n",
    "# selecting top 20 most frequent hashtags     \n",
    "d = d.nlargest(columns=\"Count\", n = 20) \n",
    "plt.figure(figsize=(16,5))\n",
    "ax = sns.barplot(data=d, x= \"Hashtag\", y = \"Count\")\n",
    "ax.set(ylabel = 'Count')\n",
    "plt.show()"
   ]
  },
  {
   "cell_type": "markdown",
   "metadata": {},
   "source": [
    "### Inference :\n",
    "sxsw is the most used hashtag in Neutral (1) sentiment as compared to other 952 hashtags"
   ]
  },
  {
   "cell_type": "markdown",
   "metadata": {},
   "source": [
    "### Hashtags used in tweets respective to Sentiment: Positive(1)"
   ]
  },
  {
   "cell_type": "code",
   "execution_count": 155,
   "metadata": {},
   "outputs": [],
   "source": [
    "HT_positive = hashtag_extract(train2['tweet'][train2['sentiment'] == 2])"
   ]
  },
  {
   "cell_type": "code",
   "execution_count": 156,
   "metadata": {},
   "outputs": [],
   "source": [
    "#unnesting the list :\n",
    "HT_positive = sum(HT_positive,[])"
   ]
  },
  {
   "cell_type": "code",
   "execution_count": 157,
   "metadata": {},
   "outputs": [
    {
     "data": {
      "text/plain": [
       "4009"
      ]
     },
     "execution_count": 157,
     "metadata": {},
     "output_type": "execute_result"
    }
   ],
   "source": [
    "len(HT_positive) # total number of hashtags"
   ]
  },
  {
   "cell_type": "code",
   "execution_count": 158,
   "metadata": {},
   "outputs": [
    {
     "name": "stdout",
     "output_type": "stream",
     "text": [
      "550\n"
     ]
    }
   ],
   "source": [
    "print(len(set(HT_positive)))  # Unique hashtags present in Negative (0) sentiment"
   ]
  },
  {
   "cell_type": "code",
   "execution_count": 159,
   "metadata": {},
   "outputs": [
    {
     "data": {
      "image/png": "[encoded data removed]",
      "text/plain": [
       "<Figure size 1152x360 with 1 Axes>"
      ]
     },
     "metadata": {
      "needs_background": "light"
     },
     "output_type": "display_data"
    }
   ],
   "source": [
    "a = nltk.FreqDist(HT_positive)\n",
    "d = pd.DataFrame({'Hashtag': list(a.keys()),\n",
    "                  'Count': list(a.values())})\n",
    "\n",
    "# selecting top 20 most frequent hashtags     \n",
    "d = d.nlargest(columns=\"Count\", n = 20) \n",
    "plt.figure(figsize=(16,5))\n",
    "ax = sns.barplot(data=d, x= \"Hashtag\", y = \"Count\")\n",
    "ax.set(ylabel = 'Count')\n",
    "plt.show()"
   ]
  },
  {
   "cell_type": "markdown",
   "metadata": {},
   "source": [
    "### Inference:\n",
    "sxsw is the most used hashtag in positive (2) sentiment as compared to other 549 hashtags"
   ]
  },
  {
   "cell_type": "markdown",
   "metadata": {},
   "source": [
    "### 4.7.2 : Number of  @ & their impact on Sentiment :"
   ]
  },
  {
   "cell_type": "code",
   "execution_count": 112,
   "metadata": {},
   "outputs": [],
   "source": [
    "train2['mention_cnt']=lower_ls.map(lambda x: x.count('@'))"
   ]
  },
  {
   "cell_type": "code",
   "execution_count": 113,
   "metadata": {},
   "outputs": [
    {
     "data": {
      "text/html": [
       "<div>\n",
       "<style scoped>\n",
       "    .dataframe tbody tr th:only-of-type {\n",
       "        vertical-align: middle;\n",
       "    }\n",
       "\n",
       "    .dataframe tbody tr th {\n",
       "        vertical-align: top;\n",
       "    }\n",
       "\n",
       "    .dataframe thead th {\n",
       "        text-align: right;\n",
       "    }\n",
       "</style>\n",
       "<table border=\"1\" class=\"dataframe\">\n",
       "  <thead>\n",
       "    <tr style=\"text-align: right;\">\n",
       "      <th></th>\n",
       "      <th>tweet</th>\n",
       "      <th>mention_cnt</th>\n",
       "    </tr>\n",
       "  </thead>\n",
       "  <tbody>\n",
       "    <tr>\n",
       "      <th>0</th>\n",
       "      <td>#sxswnui #sxsw #apple defining language of tou...</td>\n",
       "      <td>0</td>\n",
       "    </tr>\n",
       "    <tr>\n",
       "      <th>1</th>\n",
       "      <td>learning ab google doodles! all doodles should...</td>\n",
       "      <td>0</td>\n",
       "    </tr>\n",
       "    <tr>\n",
       "      <th>2</th>\n",
       "      <td>one of the most in-your-face ex. of stealing t...</td>\n",
       "      <td>1</td>\n",
       "    </tr>\n",
       "    <tr>\n",
       "      <th>3</th>\n",
       "      <td>this iphone #sxsw app would b pretty awesome i...</td>\n",
       "      <td>0</td>\n",
       "    </tr>\n",
       "    <tr>\n",
       "      <th>4</th>\n",
       "      <td>line outside the apple store in austin waiting...</td>\n",
       "      <td>0</td>\n",
       "    </tr>\n",
       "  </tbody>\n",
       "</table>\n",
       "</div>"
      ],
      "text/plain": [
       "                                               tweet  mention_cnt\n",
       "0  #sxswnui #sxsw #apple defining language of tou...            0\n",
       "1  learning ab google doodles! all doodles should...            0\n",
       "2  one of the most in-your-face ex. of stealing t...            1\n",
       "3  this iphone #sxsw app would b pretty awesome i...            0\n",
       "4  line outside the apple store in austin waiting...            0"
      ]
     },
     "execution_count": 113,
     "metadata": {},
     "output_type": "execute_result"
    }
   ],
   "source": [
    "train2[['tweet','mention_cnt']].head()"
   ]
  },
  {
   "cell_type": "code",
   "execution_count": 162,
   "metadata": {},
   "outputs": [
    {
     "data": {
      "text/plain": [
       "7274"
      ]
     },
     "execution_count": 162,
     "metadata": {},
     "output_type": "execute_result"
    }
   ],
   "source": [
    "len(train2['mention_cnt'])"
   ]
  },
  {
   "cell_type": "code",
   "execution_count": 176,
   "metadata": {},
   "outputs": [
    {
     "name": "stdout",
     "output_type": "stream",
     "text": [
      "sentiment\n",
      "0     252\n",
      "1    3667\n",
      "2    1763\n",
      "3      80\n",
      "Name: mention_cnt, dtype: int64\n"
     ]
    }
   ],
   "source": [
    "mention_count_tweet=(train2['mention_cnt'].groupby(train2['sentiment']).sum())\n",
    "print(mention_count_tweet)"
   ]
  },
  {
   "cell_type": "code",
   "execution_count": 182,
   "metadata": {},
   "outputs": [
    {
     "data": {
      "text/plain": [
       "Text(0, 0.5, 'Total @ used')"
      ]
     },
     "execution_count": 182,
     "metadata": {},
     "output_type": "execute_result"
    },
    {
     "data": {
      "image/png": "[encoded data removed]",
      "text/plain": [
       "<Figure size 842.4x667.44 with 1 Axes>"
      ]
     },
     "metadata": {
      "needs_background": "light"
     },
     "output_type": "display_data"
    }
   ],
   "source": [
    "ax = plt.subplots(figsize=(11.7, 9.27))\n",
    "mention_count_tweet.plot.bar()\n",
    "plt.xlabel(\"sentiment\")\n",
    "plt.ylabel(\"Total @ used\")"
   ]
  },
  {
   "cell_type": "markdown",
   "metadata": {},
   "source": [
    "### Inference :\n",
    "Mostly @mentions are used in Neutral(1) and then in Positive(2)"
   ]
  },
  {
   "cell_type": "markdown",
   "metadata": {},
   "source": [
    "### 4.7.3 : Number of RT & their impact on Sentiment :"
   ]
  },
  {
   "cell_type": "code",
   "execution_count": 172,
   "metadata": {},
   "outputs": [],
   "source": [
    "train2['rt_cnt']=lower_ls.map(lambda x: x.count('rt'))"
   ]
  },
  {
   "cell_type": "code",
   "execution_count": 173,
   "metadata": {},
   "outputs": [
    {
     "data": {
      "text/plain": [
       "7274"
      ]
     },
     "execution_count": 173,
     "metadata": {},
     "output_type": "execute_result"
    }
   ],
   "source": [
    "len(train2['rt_cnt'])"
   ]
  },
  {
   "cell_type": "code",
   "execution_count": 180,
   "metadata": {},
   "outputs": [
    {
     "name": "stdout",
     "output_type": "stream",
     "text": [
      "sentiment\n",
      "0     108\n",
      "1    1466\n",
      "2     768\n",
      "3      27\n",
      "Name: rt_cnt, dtype: int64\n"
     ]
    }
   ],
   "source": [
    "rt_count_tweet=(train2['rt_cnt'].groupby(train2['sentiment']).sum())\n",
    "print(rt_count_tweet)"
   ]
  },
  {
   "cell_type": "code",
   "execution_count": 181,
   "metadata": {},
   "outputs": [
    {
     "data": {
      "text/plain": [
       "Text(0, 0.5, 'Total number of RT used')"
      ]
     },
     "execution_count": 181,
     "metadata": {},
     "output_type": "execute_result"
    },
    {
     "data": {
      "image/png": "[encoded data removed]",
      "text/plain": [
       "<Figure size 842.4x667.44 with 1 Axes>"
      ]
     },
     "metadata": {
      "needs_background": "light"
     },
     "output_type": "display_data"
    }
   ],
   "source": [
    "ax = plt.subplots(figsize=(11.7, 9.27))\n",
    "rt_count_tweet.plot.bar()\n",
    "plt.xlabel(\"sentiment\")\n",
    "plt.ylabel(\"Total number of RT used\")"
   ]
  },
  {
   "cell_type": "markdown",
   "metadata": {},
   "source": [
    "### Inference:\n",
    "Mostly @mentions are used in Neutral(1) and then in Positive(2)"
   ]
  },
  {
   "cell_type": "markdown",
   "metadata": {},
   "source": [
    "## 4.8 Number of numerics & its impact on Sentiment :"
   ]
  },
  {
   "cell_type": "code",
   "execution_count": 186,
   "metadata": {},
   "outputs": [
    {
     "data": {
      "text/html": [
       "<div>\n",
       "<style scoped>\n",
       "    .dataframe tbody tr th:only-of-type {\n",
       "        vertical-align: middle;\n",
       "    }\n",
       "\n",
       "    .dataframe tbody tr th {\n",
       "        vertical-align: top;\n",
       "    }\n",
       "\n",
       "    .dataframe thead th {\n",
       "        text-align: right;\n",
       "    }\n",
       "</style>\n",
       "<table border=\"1\" class=\"dataframe\">\n",
       "  <thead>\n",
       "    <tr style=\"text-align: right;\">\n",
       "      <th></th>\n",
       "      <th>tweet</th>\n",
       "      <th>numerics</th>\n",
       "    </tr>\n",
       "  </thead>\n",
       "  <tbody>\n",
       "    <tr>\n",
       "      <th>0</th>\n",
       "      <td>#sxswnui #sxsw #apple defining language of tou...</td>\n",
       "      <td>0</td>\n",
       "    </tr>\n",
       "    <tr>\n",
       "      <th>1</th>\n",
       "      <td>learning ab google doodles! all doodles should...</td>\n",
       "      <td>0</td>\n",
       "    </tr>\n",
       "    <tr>\n",
       "      <th>2</th>\n",
       "      <td>one of the most in-your-face ex. of stealing t...</td>\n",
       "      <td>0</td>\n",
       "    </tr>\n",
       "    <tr>\n",
       "      <th>3</th>\n",
       "      <td>this iphone #sxsw app would b pretty awesome i...</td>\n",
       "      <td>0</td>\n",
       "    </tr>\n",
       "    <tr>\n",
       "      <th>4</th>\n",
       "      <td>line outside the apple store in austin waiting...</td>\n",
       "      <td>0</td>\n",
       "    </tr>\n",
       "  </tbody>\n",
       "</table>\n",
       "</div>"
      ],
      "text/plain": [
       "                                               tweet  numerics\n",
       "0  #sxswnui #sxsw #apple defining language of tou...         0\n",
       "1  learning ab google doodles! all doodles should...         0\n",
       "2  one of the most in-your-face ex. of stealing t...         0\n",
       "3  this iphone #sxsw app would b pretty awesome i...         0\n",
       "4  line outside the apple store in austin waiting...         0"
      ]
     },
     "execution_count": 186,
     "metadata": {},
     "output_type": "execute_result"
    }
   ],
   "source": [
    "train2['numerics'] = train2['tweet'].apply(lambda x: len([x for x in x.split() if x.isdigit()]))\n",
    "train2[['tweet','numerics']].head()"
   ]
  },
  {
   "cell_type": "code",
   "execution_count": 188,
   "metadata": {},
   "outputs": [
    {
     "data": {
      "text/plain": [
       "array([0, 1, 2, 3, 5])"
      ]
     },
     "execution_count": 188,
     "metadata": {},
     "output_type": "execute_result"
    }
   ],
   "source": [
    "train2['numerics'].unique()"
   ]
  },
  {
   "cell_type": "code",
   "execution_count": 189,
   "metadata": {
    "scrolled": true
   },
   "outputs": [
    {
     "data": {
      "text/plain": [
       "5"
      ]
     },
     "execution_count": 189,
     "metadata": {},
     "output_type": "execute_result"
    }
   ],
   "source": [
    "train2['numerics'].nunique()"
   ]
  },
  {
   "cell_type": "code",
   "execution_count": 226,
   "metadata": {
    "scrolled": true
   },
   "outputs": [
    {
     "data": {
      "text/plain": [
       "7274"
      ]
     },
     "execution_count": 226,
     "metadata": {},
     "output_type": "execute_result"
    }
   ],
   "source": [
    "len(train2['numerics'])"
   ]
  },
  {
   "cell_type": "code",
   "execution_count": 257,
   "metadata": {},
   "outputs": [],
   "source": [
    "mask = train2['numerics'].where(train2['numerics']!=0)"
   ]
  },
  {
   "cell_type": "code",
   "execution_count": 263,
   "metadata": {},
   "outputs": [
    {
     "data": {
      "text/plain": [
       "array([nan,  1.,  2.,  3.,  5.])"
      ]
     },
     "execution_count": 263,
     "metadata": {},
     "output_type": "execute_result"
    }
   ],
   "source": [
    "mask.unique()"
   ]
  },
  {
   "cell_type": "code",
   "execution_count": 260,
   "metadata": {},
   "outputs": [
    {
     "name": "stdout",
     "output_type": "stream",
     "text": [
      "sentiment\n",
      "0     57\n",
      "1    628\n",
      "2    398\n",
      "3     18\n",
      "Name: numerics, dtype: int64\n"
     ]
    }
   ],
   "source": [
    "num_count_tweet=(mask.groupby(train2['sentiment']).count())\n",
    "print(num_count_tweet)"
   ]
  },
  {
   "cell_type": "code",
   "execution_count": 262,
   "metadata": {},
   "outputs": [
    {
     "data": {
      "text/plain": [
       "Text(0, 0.5, 'Total numerics count (numerics=1,2,3,5)')"
      ]
     },
     "execution_count": 262,
     "metadata": {},
     "output_type": "execute_result"
    },
    {
     "data": {
      "image/png": "[encoded data removed]",
      "text/plain": [
       "<Figure size 842.4x667.44 with 1 Axes>"
      ]
     },
     "metadata": {
      "needs_background": "light"
     },
     "output_type": "display_data"
    }
   ],
   "source": [
    "ax = plt.subplots(figsize=(11.7, 9.27))\n",
    "num_count_tweet.plot.bar()\n",
    "plt.xlabel(\"sentiment\")\n",
    "plt.ylabel(\"Total numerics count (numerics=1,2,3,5)\")"
   ]
  },
  {
   "cell_type": "code",
   "execution_count": 264,
   "metadata": {
    "scrolled": true
   },
   "outputs": [
    {
     "data": {
      "text/html": [
       "<div>\n",
       "<style scoped>\n",
       "    .dataframe tbody tr th:only-of-type {\n",
       "        vertical-align: middle;\n",
       "    }\n",
       "\n",
       "    .dataframe tbody tr th {\n",
       "        vertical-align: top;\n",
       "    }\n",
       "\n",
       "    .dataframe thead tr th {\n",
       "        text-align: left;\n",
       "    }\n",
       "\n",
       "    .dataframe thead tr:last-of-type th {\n",
       "        text-align: right;\n",
       "    }\n",
       "</style>\n",
       "<table border=\"1\" class=\"dataframe\">\n",
       "  <thead>\n",
       "    <tr>\n",
       "      <th></th>\n",
       "      <th colspan=\"4\" halign=\"left\">numerics</th>\n",
       "    </tr>\n",
       "    <tr>\n",
       "      <th>numerics</th>\n",
       "      <th>1.0</th>\n",
       "      <th>2.0</th>\n",
       "      <th>3.0</th>\n",
       "      <th>5.0</th>\n",
       "    </tr>\n",
       "    <tr>\n",
       "      <th>sentiment</th>\n",
       "      <th></th>\n",
       "      <th></th>\n",
       "      <th></th>\n",
       "      <th></th>\n",
       "    </tr>\n",
       "  </thead>\n",
       "  <tbody>\n",
       "    <tr>\n",
       "      <th>0</th>\n",
       "      <td>52</td>\n",
       "      <td>4</td>\n",
       "      <td>1</td>\n",
       "      <td>0</td>\n",
       "    </tr>\n",
       "    <tr>\n",
       "      <th>1</th>\n",
       "      <td>568</td>\n",
       "      <td>51</td>\n",
       "      <td>8</td>\n",
       "      <td>1</td>\n",
       "    </tr>\n",
       "    <tr>\n",
       "      <th>2</th>\n",
       "      <td>361</td>\n",
       "      <td>31</td>\n",
       "      <td>6</td>\n",
       "      <td>0</td>\n",
       "    </tr>\n",
       "    <tr>\n",
       "      <th>3</th>\n",
       "      <td>14</td>\n",
       "      <td>4</td>\n",
       "      <td>0</td>\n",
       "      <td>0</td>\n",
       "    </tr>\n",
       "  </tbody>\n",
       "</table>\n",
       "</div>"
      ],
      "text/plain": [
       "          numerics            \n",
       "numerics       1.0 2.0 3.0 5.0\n",
       "sentiment                     \n",
       "0               52   4   1   0\n",
       "1              568  51   8   1\n",
       "2              361  31   6   0\n",
       "3               14   4   0   0"
      ]
     },
     "execution_count": 264,
     "metadata": {},
     "output_type": "execute_result"
    }
   ],
   "source": [
    "train2.pivot_table(index='sentiment', columns=train2['numerics'].where(train2['numerics']!=0), aggfunc={'numerics':len}, fill_value=0)"
   ]
  },
  {
   "cell_type": "markdown",
   "metadata": {},
   "source": [
    "### Inference:\n",
    "#Neutral(1) has maximum numerics count=628\n",
    "#Positive (2) has numeric count=398\n"
   ]
  },
  {
   "cell_type": "markdown",
   "metadata": {},
   "source": [
    "## Step 5 : Basic Text Pre Processing :"
   ]
  },
  {
   "cell_type": "markdown",
   "metadata": {},
   "source": [
    "### Basic Text Pre-processing of text data:\n",
    "#Punctuation removal\n",
    "#Stopwords removal\n",
    "#Frequent words removal\n",
    "#Rare words removal\n",
    "#Tokenization\n",
    "#Stemming\n",
    "#Lemmatization"
   ]
  },
  {
   "cell_type": "code",
   "execution_count": 266,
   "metadata": {},
   "outputs": [
    {
     "name": "stdout",
     "output_type": "stream",
     "text": [
      "Collecting emoji\n",
      "\u001b[?25l  Downloading https://files.pythonhosted.org/packages/40/8d/521be7f0091fe0f2ae690cc044faf43e3445e0ff33c574eae752dd7e39fa/emoji-0.5.4.tar.gz (43kB)\n",
      "\u001b[K     |████████████████████████████████| 51kB 252kB/s eta 0:00:01\n",
      "\u001b[?25hBuilding wheels for collected packages: emoji\n",
      "  Building wheel for emoji (setup.py) ... \u001b[?25ldone\n",
      "\u001b[?25h  Stored in directory: /Users/shilpyjain/Library/Caches/pip/wheels/2a/a9/0a/4f8e8cce8074232aba240caca3fade315bb49fac68808d1a9c\n",
      "Successfully built emoji\n",
      "Installing collected packages: emoji\n",
      "Successfully installed emoji-0.5.4\n",
      "Note: you may need to restart the kernel to use updated packages.\n"
     ]
    }
   ],
   "source": [
    "pip install emoji"
   ]
  },
  {
   "cell_type": "markdown",
   "metadata": {},
   "source": [
    "## 5.1 : Removal of Punctuations :"
   ]
  },
  {
   "cell_type": "code",
   "execution_count": 311,
   "metadata": {},
   "outputs": [
    {
     "data": {
      "text/plain": [
       "0    sxswnui sxsw apple defining language of touch ...\n",
       "1    learning ab google doodles all doodles should ...\n",
       "2    one of the most inyourface ex of stealing the ...\n",
       "3    this iphone sxsw app would b pretty awesome if...\n",
       "4    line outside the apple store in austin waiting...\n",
       "Name: clean_tweet, dtype: object"
      ]
     },
     "execution_count": 311,
     "metadata": {},
     "output_type": "execute_result"
    }
   ],
   "source": [
    "train2['clean_tweet'] = train2['tweet'].str.replace('[^\\w\\s]','')\n",
    "train2['clean_tweet'].head()"
   ]
  },
  {
   "cell_type": "markdown",
   "metadata": {},
   "source": [
    "### Inference :\n",
    "#we have removed punctuation, as it doesn’t add any extra information while treating text data. \n",
    "#Therefore removing all instances of it will help us reduce the size of the training data.\n",
    "#all the punctuation, including ‘#’ and ‘@’, has been removed from the training data."
   ]
  },
  {
   "cell_type": "markdown",
   "metadata": {},
   "source": [
    "## 5.2: Removal of StopWords:"
   ]
  },
  {
   "cell_type": "code",
   "execution_count": 312,
   "metadata": {},
   "outputs": [
    {
     "data": {
      "text/plain": [
       "0    sxswnui sxsw apple defining language touch dif...\n",
       "1    learning ab google doodles doodles light funny...\n",
       "2    one inyourface ex stealing show yrs rt mention...\n",
       "3    iphone sxsw app would b pretty awesome didnt c...\n",
       "4    line outside apple store austin waiting new ip...\n",
       "Name: clean_tweet, dtype: object"
      ]
     },
     "execution_count": 312,
     "metadata": {},
     "output_type": "execute_result"
    }
   ],
   "source": [
    "from nltk.corpus import stopwords\n",
    "stop = stopwords.words('english')\n",
    "train2['clean_tweet'] = train2['clean_tweet'].apply(lambda x: \" \".join(x for x in x.split() if x not in stop))\n",
    "train2['clean_tweet'].head()"
   ]
  },
  {
   "cell_type": "markdown",
   "metadata": {},
   "source": [
    "## 5.3: Removal of Common Words:"
   ]
  },
  {
   "cell_type": "code",
   "execution_count": 313,
   "metadata": {},
   "outputs": [],
   "source": [
    "freq = pd.Series(' '.join(train2['clean_tweet']).split()).value_counts()[:10]"
   ]
  },
  {
   "cell_type": "code",
   "execution_count": 314,
   "metadata": {},
   "outputs": [
    {
     "name": "stdout",
     "output_type": "stream",
     "text": [
      "sxsw       7540\n",
      "mention    5512\n",
      "link       3427\n",
      "rt         2344\n",
      "ipad       1912\n",
      "google     1862\n",
      "apple      1729\n",
      "iphone     1215\n",
      "store      1188\n",
      "new         862\n",
      "dtype: int64\n"
     ]
    }
   ],
   "source": [
    "print(freq)"
   ]
  },
  {
   "cell_type": "code",
   "execution_count": 315,
   "metadata": {},
   "outputs": [
    {
     "data": {
      "text/plain": [
       "0    sxswnui defining language touch different dial...\n",
       "1    learning ab doodles doodles light funny amp in...\n",
       "2    one inyourface ex stealing show yrs quotat sch...\n",
       "3    app would b pretty awesome didnt crash every 1...\n",
       "4                          line outside austin waiting\n",
       "Name: clean_tweet, dtype: object"
      ]
     },
     "execution_count": 315,
     "metadata": {},
     "output_type": "execute_result"
    }
   ],
   "source": [
    "#Now, let’s remove these words as their presence will not of any use in classification of our text data.\n",
    "freq = list(freq.index)\n",
    "train2['clean_tweet'] = train2['clean_tweet'].apply(lambda x: \" \".join(x for x in x.split() if x not in freq))\n",
    "train2['clean_tweet'].head()"
   ]
  },
  {
   "cell_type": "markdown",
   "metadata": {},
   "source": [
    "### Inference :\n",
    "RT & mention has been removed through above code"
   ]
  },
  {
   "cell_type": "markdown",
   "metadata": {},
   "source": [
    "## 5.4 Removal of Rare words :"
   ]
  },
  {
   "cell_type": "code",
   "execution_count": 316,
   "metadata": {},
   "outputs": [],
   "source": [
    "freq = pd.Series(' '.join(train2['clean_tweet']).split()).value_counts()[-10:]"
   ]
  },
  {
   "cell_type": "code",
   "execution_count": 317,
   "metadata": {},
   "outputs": [
    {
     "name": "stdout",
     "output_type": "stream",
     "text": [
      "flypost             1\n",
      "livingthedream      1\n",
      "grrrr               1\n",
      "lightnessofbeing    1\n",
      "web30               1\n",
      "malfunction         1\n",
      "spreading           1\n",
      "skipping            1\n",
      "opinions            1\n",
      "helaas              1\n",
      "dtype: int64\n"
     ]
    }
   ],
   "source": [
    "print(freq)"
   ]
  },
  {
   "cell_type": "code",
   "execution_count": 318,
   "metadata": {},
   "outputs": [
    {
     "data": {
      "text/plain": [
       "0    sxswnui defining language touch different dial...\n",
       "1    learning ab doodles doodles light funny amp in...\n",
       "2    one inyourface ex stealing show yrs quotat sch...\n",
       "3    app would b pretty awesome didnt crash every 1...\n",
       "4                          line outside austin waiting\n",
       "Name: clean_tweet, dtype: object"
      ]
     },
     "execution_count": 318,
     "metadata": {},
     "output_type": "execute_result"
    }
   ],
   "source": [
    "freq = list(freq.index)\n",
    "train2['clean_tweet'] = train2['clean_tweet'].apply(lambda x: \" \".join(x for x in x.split() if x not in freq))\n",
    "train2['clean_tweet'].head()"
   ]
  },
  {
   "cell_type": "markdown",
   "metadata": {},
   "source": [
    "## 5.5 : Lemmatization\n"
   ]
  },
  {
   "cell_type": "markdown",
   "metadata": {},
   "source": [
    "#Lemmatization is a more effective option than stemming because it converts the word into its root word, rather than \n",
    "just stripping the suffices. \n",
    "#It makes use of the vocabulary and does a morphological analysis to obtain the root word. \n",
    "#Therefore, we usually prefer using lemmatization over stemming."
   ]
  },
  {
   "cell_type": "code",
   "execution_count": 319,
   "metadata": {},
   "outputs": [
    {
     "data": {
      "text/plain": [
       "0    sxswnui define language touch different dialec...\n",
       "1    learn ab doodle doodle light funny amp innovat...\n",
       "2    one inyourface ex steal show yrs quotat school...\n",
       "3    app would b pretty awesome didnt crash every 1...\n",
       "4                             line outside austin wait\n",
       "Name: lem_clean_tweet, dtype: object"
      ]
     },
     "execution_count": 319,
     "metadata": {},
     "output_type": "execute_result"
    }
   ],
   "source": [
    "import textblob\n",
    "from textblob import TextBlob,Word\n",
    "train2['lem_clean_tweet'] = train2['clean_tweet'].apply(lambda x: \" \".join([Word(word).lemmatize(pos='v') for word in str(x).split()]))\n",
    "train2['lem_clean_tweet'].head()"
   ]
  },
  {
   "cell_type": "code",
   "execution_count": 321,
   "metadata": {},
   "outputs": [
    {
     "name": "stdout",
     "output_type": "stream",
     "text": [
      "<class 'pandas.core.frame.DataFrame'>\n",
      "RangeIndex: 7274 entries, 0 to 7273\n",
      "Data columns (total 14 columns):\n",
      "tweet_id           7274 non-null int64\n",
      "tweet              7274 non-null object\n",
      "sentiment          7274 non-null int64\n",
      "word_count         7274 non-null int64\n",
      "char_count         7274 non-null int64\n",
      "upper              7274 non-null int64\n",
      "avg_word           7274 non-null float64\n",
      "stopwords          7274 non-null int64\n",
      "hashtag_cnt        7274 non-null int64\n",
      "mention_cnt        7274 non-null int64\n",
      "rt_cnt             7274 non-null int64\n",
      "numerics           7274 non-null int64\n",
      "clean_tweet        7274 non-null object\n",
      "lem_clean_tweet    7274 non-null object\n",
      "dtypes: float64(1), int64(10), object(3)\n",
      "memory usage: 795.7+ KB\n"
     ]
    }
   ],
   "source": [
    "train2.info()"
   ]
  },
  {
   "cell_type": "markdown",
   "metadata": {},
   "source": [
    "## Step 6: Advanced Text processing :"
   ]
  },
  {
   "cell_type": "markdown",
   "metadata": {},
   "source": [
    "### 6.1:N-grams"
   ]
  },
  {
   "cell_type": "code",
   "execution_count": 323,
   "metadata": {},
   "outputs": [
    {
     "data": {
      "text/plain": [
       "[WordList(['sxswnui', 'define']),\n",
       " WordList(['define', 'language']),\n",
       " WordList(['language', 'touch']),\n",
       " WordList(['touch', 'different']),\n",
       " WordList(['different', 'dialects']),\n",
       " WordList(['dialects', 'become']),\n",
       " WordList(['become', 'smaller'])]"
      ]
     },
     "execution_count": 323,
     "metadata": {},
     "output_type": "execute_result"
    }
   ],
   "source": [
    "#extracting bigrams from our tweets using the ngrams function of the textblob library.\n",
    "TextBlob(train2['lem_clean_tweet'][0]).ngrams(2)"
   ]
  },
  {
   "cell_type": "markdown",
   "metadata": {},
   "source": [
    "### 6.2 : Term Frequency "
   ]
  },
  {
   "cell_type": "markdown",
   "metadata": {},
   "source": [
    "#Term frequency is simply the ratio of the count of a word present in a sentence, to the length of the sentence.\n",
    "#Therefore, we can generalize term frequency as:\n",
    "\n",
    "TF = (Number of times term T appears in the particular row) / (number of terms in that row)"
   ]
  },
  {
   "cell_type": "code",
   "execution_count": 324,
   "metadata": {},
   "outputs": [
    {
     "data": {
      "text/html": [
       "<div>\n",
       "<style scoped>\n",
       "    .dataframe tbody tr th:only-of-type {\n",
       "        vertical-align: middle;\n",
       "    }\n",
       "\n",
       "    .dataframe tbody tr th {\n",
       "        vertical-align: top;\n",
       "    }\n",
       "\n",
       "    .dataframe thead th {\n",
       "        text-align: right;\n",
       "    }\n",
       "</style>\n",
       "<table border=\"1\" class=\"dataframe\">\n",
       "  <thead>\n",
       "    <tr style=\"text-align: right;\">\n",
       "      <th></th>\n",
       "      <th>words</th>\n",
       "      <th>tf</th>\n",
       "    </tr>\n",
       "  </thead>\n",
       "  <tbody>\n",
       "    <tr>\n",
       "      <th>0</th>\n",
       "      <td>doodle</td>\n",
       "      <td>2</td>\n",
       "    </tr>\n",
       "    <tr>\n",
       "      <th>1</th>\n",
       "      <td>ab</td>\n",
       "      <td>1</td>\n",
       "    </tr>\n",
       "    <tr>\n",
       "      <th>2</th>\n",
       "      <td>exceptions</td>\n",
       "      <td>1</td>\n",
       "    </tr>\n",
       "    <tr>\n",
       "      <th>3</th>\n",
       "      <td>innovative</td>\n",
       "      <td>1</td>\n",
       "    </tr>\n",
       "    <tr>\n",
       "      <th>4</th>\n",
       "      <td>occasion</td>\n",
       "      <td>1</td>\n",
       "    </tr>\n",
       "    <tr>\n",
       "      <th>5</th>\n",
       "      <td>googledoodle</td>\n",
       "      <td>1</td>\n",
       "    </tr>\n",
       "    <tr>\n",
       "      <th>6</th>\n",
       "      <td>amp</td>\n",
       "      <td>1</td>\n",
       "    </tr>\n",
       "    <tr>\n",
       "      <th>7</th>\n",
       "      <td>light</td>\n",
       "      <td>1</td>\n",
       "    </tr>\n",
       "    <tr>\n",
       "      <th>8</th>\n",
       "      <td>funny</td>\n",
       "      <td>1</td>\n",
       "    </tr>\n",
       "    <tr>\n",
       "      <th>9</th>\n",
       "      <td>learn</td>\n",
       "      <td>1</td>\n",
       "    </tr>\n",
       "    <tr>\n",
       "      <th>10</th>\n",
       "      <td>significant</td>\n",
       "      <td>1</td>\n",
       "    </tr>\n",
       "  </tbody>\n",
       "</table>\n",
       "</div>"
      ],
      "text/plain": [
       "           words  tf\n",
       "0         doodle   2\n",
       "1             ab   1\n",
       "2     exceptions   1\n",
       "3     innovative   1\n",
       "4       occasion   1\n",
       "5   googledoodle   1\n",
       "6            amp   1\n",
       "7          light   1\n",
       "8          funny   1\n",
       "9          learn   1\n",
       "10   significant   1"
      ]
     },
     "execution_count": 324,
     "metadata": {},
     "output_type": "execute_result"
    }
   ],
   "source": [
    "tf1 = (train2['lem_clean_tweet'][1:2]).apply(lambda x: pd.value_counts(x.split(\" \"))).sum(axis = 0).reset_index()\n",
    "tf1.columns = ['words','tf']\n",
    "tf1"
   ]
  },
  {
   "cell_type": "markdown",
   "metadata": {},
   "source": [
    "### 6.3: Inverse Document Frequency "
   ]
  },
  {
   "cell_type": "markdown",
   "metadata": {},
   "source": [
    "The intuition behind inverse document frequency (IDF) is that a word is not of much use to us if it’s appearing in all the documents.\n",
    "\n",
    "Therefore, the IDF of each word is the log of the ratio of the total number of rows to the number of rows in which that word is present.\n",
    "\n",
    "IDF = log(N/n), where, N is the total number of rows and n is the number of rows in which the word was present."
   ]
  },
  {
   "cell_type": "code",
   "execution_count": 327,
   "metadata": {},
   "outputs": [],
   "source": [
    "for i,word in enumerate(tf1['words']):\n",
    "  tf1.loc[i, 'idf'] = np.log(train2.shape[0]/(len(train2[train2['lem_clean_tweet'].str.contains(word)])))\n"
   ]
  },
  {
   "cell_type": "code",
   "execution_count": 328,
   "metadata": {},
   "outputs": [
    {
     "name": "stdout",
     "output_type": "stream",
     "text": [
      "           words  tf       idf\n",
      "0         doodle   2  5.458074\n",
      "1             ab   1  2.787268\n",
      "2     exceptions   1  8.892062\n",
      "3     innovative   1  7.793449\n",
      "4       occasion   1  7.505767\n",
      "5   googledoodle   1  6.184011\n",
      "6            amp   1  2.349590\n",
      "7          light   1  4.702407\n",
      "8          funny   1  5.896329\n",
      "9          learn   1  5.178490\n",
      "10   significant   1  8.892062\n"
     ]
    }
   ],
   "source": [
    "print(tf1)"
   ]
  },
  {
   "cell_type": "markdown",
   "metadata": {},
   "source": [
    "#### Inference:\n",
    "The more the value of IDF, the more unique is the word."
   ]
  },
  {
   "cell_type": "markdown",
   "metadata": {},
   "source": [
    "### 6.4 Term Frequency – Inverse Document Frequency (TF-IDF)\n",
    "\n"
   ]
  },
  {
   "cell_type": "markdown",
   "metadata": {},
   "source": [
    "TF-IDF is the multiplication of the TF and IDF which we calculated above."
   ]
  },
  {
   "cell_type": "code",
   "execution_count": 329,
   "metadata": {},
   "outputs": [
    {
     "data": {
      "text/html": [
       "<div>\n",
       "<style scoped>\n",
       "    .dataframe tbody tr th:only-of-type {\n",
       "        vertical-align: middle;\n",
       "    }\n",
       "\n",
       "    .dataframe tbody tr th {\n",
       "        vertical-align: top;\n",
       "    }\n",
       "\n",
       "    .dataframe thead th {\n",
       "        text-align: right;\n",
       "    }\n",
       "</style>\n",
       "<table border=\"1\" class=\"dataframe\">\n",
       "  <thead>\n",
       "    <tr style=\"text-align: right;\">\n",
       "      <th></th>\n",
       "      <th>words</th>\n",
       "      <th>tf</th>\n",
       "      <th>idf</th>\n",
       "      <th>tfidf</th>\n",
       "    </tr>\n",
       "  </thead>\n",
       "  <tbody>\n",
       "    <tr>\n",
       "      <th>0</th>\n",
       "      <td>doodle</td>\n",
       "      <td>2</td>\n",
       "      <td>5.458074</td>\n",
       "      <td>10.916149</td>\n",
       "    </tr>\n",
       "    <tr>\n",
       "      <th>1</th>\n",
       "      <td>ab</td>\n",
       "      <td>1</td>\n",
       "      <td>2.787268</td>\n",
       "      <td>2.787268</td>\n",
       "    </tr>\n",
       "    <tr>\n",
       "      <th>2</th>\n",
       "      <td>exceptions</td>\n",
       "      <td>1</td>\n",
       "      <td>8.892062</td>\n",
       "      <td>8.892062</td>\n",
       "    </tr>\n",
       "    <tr>\n",
       "      <th>3</th>\n",
       "      <td>innovative</td>\n",
       "      <td>1</td>\n",
       "      <td>7.793449</td>\n",
       "      <td>7.793449</td>\n",
       "    </tr>\n",
       "    <tr>\n",
       "      <th>4</th>\n",
       "      <td>occasion</td>\n",
       "      <td>1</td>\n",
       "      <td>7.505767</td>\n",
       "      <td>7.505767</td>\n",
       "    </tr>\n",
       "    <tr>\n",
       "      <th>5</th>\n",
       "      <td>googledoodle</td>\n",
       "      <td>1</td>\n",
       "      <td>6.184011</td>\n",
       "      <td>6.184011</td>\n",
       "    </tr>\n",
       "    <tr>\n",
       "      <th>6</th>\n",
       "      <td>amp</td>\n",
       "      <td>1</td>\n",
       "      <td>2.349590</td>\n",
       "      <td>2.349590</td>\n",
       "    </tr>\n",
       "    <tr>\n",
       "      <th>7</th>\n",
       "      <td>light</td>\n",
       "      <td>1</td>\n",
       "      <td>4.702407</td>\n",
       "      <td>4.702407</td>\n",
       "    </tr>\n",
       "    <tr>\n",
       "      <th>8</th>\n",
       "      <td>funny</td>\n",
       "      <td>1</td>\n",
       "      <td>5.896329</td>\n",
       "      <td>5.896329</td>\n",
       "    </tr>\n",
       "    <tr>\n",
       "      <th>9</th>\n",
       "      <td>learn</td>\n",
       "      <td>1</td>\n",
       "      <td>5.178490</td>\n",
       "      <td>5.178490</td>\n",
       "    </tr>\n",
       "    <tr>\n",
       "      <th>10</th>\n",
       "      <td>significant</td>\n",
       "      <td>1</td>\n",
       "      <td>8.892062</td>\n",
       "      <td>8.892062</td>\n",
       "    </tr>\n",
       "  </tbody>\n",
       "</table>\n",
       "</div>"
      ],
      "text/plain": [
       "           words  tf       idf      tfidf\n",
       "0         doodle   2  5.458074  10.916149\n",
       "1             ab   1  2.787268   2.787268\n",
       "2     exceptions   1  8.892062   8.892062\n",
       "3     innovative   1  7.793449   7.793449\n",
       "4       occasion   1  7.505767   7.505767\n",
       "5   googledoodle   1  6.184011   6.184011\n",
       "6            amp   1  2.349590   2.349590\n",
       "7          light   1  4.702407   4.702407\n",
       "8          funny   1  5.896329   5.896329\n",
       "9          learn   1  5.178490   5.178490\n",
       "10   significant   1  8.892062   8.892062"
      ]
     },
     "execution_count": 329,
     "metadata": {},
     "output_type": "execute_result"
    }
   ],
   "source": [
    "tf1['tfidf'] = tf1['tf'] * tf1['idf']\n",
    "tf1"
   ]
  },
  {
   "cell_type": "code",
   "execution_count": 330,
   "metadata": {},
   "outputs": [],
   "source": [
    "#sklearn has a separate function to directly obtain it\n",
    "from sklearn.feature_extraction.text import TfidfVectorizer\n",
    "tfidf = TfidfVectorizer(max_features=1000, lowercase=True, analyzer='word',\n",
    " stop_words= 'english',ngram_range=(1,1))\n",
    "train_vect = tfidf.fit_transform(train2['lem_clean_tweet'])"
   ]
  },
  {
   "cell_type": "code",
   "execution_count": 331,
   "metadata": {},
   "outputs": [
    {
     "data": {
      "text/plain": [
       "<7274x1000 sparse matrix of type '<class 'numpy.float64'>'\n",
       "\twith 38261 stored elements in Compressed Sparse Row format>"
      ]
     },
     "execution_count": 331,
     "metadata": {},
     "output_type": "execute_result"
    }
   ],
   "source": [
    "train_vect"
   ]
  },
  {
   "cell_type": "markdown",
   "metadata": {},
   "source": [
    "### 6.5 : Bag of words :"
   ]
  },
  {
   "cell_type": "code",
   "execution_count": 332,
   "metadata": {},
   "outputs": [
    {
     "data": {
      "text/plain": [
       "<7274x1000 sparse matrix of type '<class 'numpy.int64'>'\n",
       "\twith 43169 stored elements in Compressed Sparse Row format>"
      ]
     },
     "execution_count": 332,
     "metadata": {},
     "output_type": "execute_result"
    }
   ],
   "source": [
    "from sklearn.feature_extraction.text import CountVectorizer\n",
    "bow = CountVectorizer(max_features=1000, lowercase=True, ngram_range=(1,1),analyzer = \"word\")\n",
    "train_bow = bow.fit_transform(train2['lem_clean_tweet'])\n",
    "train_bow"
   ]
  },
  {
   "cell_type": "markdown",
   "metadata": {},
   "source": [
    "### 6.6 Sentiment Analysis"
   ]
  },
  {
   "cell_type": "markdown",
   "metadata": {},
   "source": [
    "If you recall, our problem was to detect the sentiment of the tweet. So, before applying any ML/DL models (which can have a separate feature detecting the sentiment using the textblob library), let’s check the sentiment of the first few tweets."
   ]
  },
  {
   "cell_type": "code",
   "execution_count": 333,
   "metadata": {},
   "outputs": [
    {
     "data": {
      "text/plain": [
       "0           (0.0, 0.55)\n",
       "1    (0.38125, 0.89375)\n",
       "2            (0.0, 0.0)\n",
       "3          (0.625, 1.0)\n",
       "4           (0.0, 0.05)\n",
       "Name: lem_clean_tweet, dtype: object"
      ]
     },
     "execution_count": 333,
     "metadata": {},
     "output_type": "execute_result"
    }
   ],
   "source": [
    "train2['lem_clean_tweet'][:5].apply(lambda x: TextBlob(x).sentiment)"
   ]
  },
  {
   "cell_type": "markdown",
   "metadata": {},
   "source": [
    "Above, you can see that it returns a tuple representing polarity and subjectivity of each tweet. Here, we only extract polarity as it indicates the sentiment as value nearer to 1 means a positive sentiment and values nearer to -1 means a negative sentiment. This can also work as a feature for building a machine learning model."
   ]
  },
  {
   "cell_type": "code",
   "execution_count": 336,
   "metadata": {},
   "outputs": [
    {
     "data": {
      "text/html": [
       "<div>\n",
       "<style scoped>\n",
       "    .dataframe tbody tr th:only-of-type {\n",
       "        vertical-align: middle;\n",
       "    }\n",
       "\n",
       "    .dataframe tbody tr th {\n",
       "        vertical-align: top;\n",
       "    }\n",
       "\n",
       "    .dataframe thead th {\n",
       "        text-align: right;\n",
       "    }\n",
       "</style>\n",
       "<table border=\"1\" class=\"dataframe\">\n",
       "  <thead>\n",
       "    <tr style=\"text-align: right;\">\n",
       "      <th></th>\n",
       "      <th>lem_clean_tweet</th>\n",
       "      <th>sent_blob</th>\n",
       "      <th>sentiment</th>\n",
       "    </tr>\n",
       "  </thead>\n",
       "  <tbody>\n",
       "    <tr>\n",
       "      <th>0</th>\n",
       "      <td>sxswnui define language touch different dialec...</td>\n",
       "      <td>0.00000</td>\n",
       "      <td>1</td>\n",
       "    </tr>\n",
       "    <tr>\n",
       "      <th>1</th>\n",
       "      <td>learn ab doodle doodle light funny amp innovat...</td>\n",
       "      <td>0.38125</td>\n",
       "      <td>1</td>\n",
       "    </tr>\n",
       "    <tr>\n",
       "      <th>2</th>\n",
       "      <td>one inyourface ex steal show yrs quotat school...</td>\n",
       "      <td>0.00000</td>\n",
       "      <td>2</td>\n",
       "    </tr>\n",
       "    <tr>\n",
       "      <th>3</th>\n",
       "      <td>app would b pretty awesome didnt crash every 1...</td>\n",
       "      <td>0.62500</td>\n",
       "      <td>0</td>\n",
       "    </tr>\n",
       "    <tr>\n",
       "      <th>4</th>\n",
       "      <td>line outside austin wait</td>\n",
       "      <td>0.00000</td>\n",
       "      <td>1</td>\n",
       "    </tr>\n",
       "  </tbody>\n",
       "</table>\n",
       "</div>"
      ],
      "text/plain": [
       "                                     lem_clean_tweet  sent_blob  sentiment\n",
       "0  sxswnui define language touch different dialec...    0.00000          1\n",
       "1  learn ab doodle doodle light funny amp innovat...    0.38125          1\n",
       "2  one inyourface ex steal show yrs quotat school...    0.00000          2\n",
       "3  app would b pretty awesome didnt crash every 1...    0.62500          0\n",
       "4                           line outside austin wait    0.00000          1"
      ]
     },
     "execution_count": 336,
     "metadata": {},
     "output_type": "execute_result"
    }
   ],
   "source": [
    "train2['sent_blob'] = train2['lem_clean_tweet'].apply(lambda x: TextBlob(x).sentiment[0] )\n",
    "train2[['lem_clean_tweet','sent_blob','sentiment']].head()"
   ]
  },
  {
   "cell_type": "markdown",
   "metadata": {},
   "source": [
    "## Step 7: Data Cleaning :"
   ]
  },
  {
   "cell_type": "code",
   "execution_count": 341,
   "metadata": {},
   "outputs": [],
   "source": [
    "train2_final=train2.copy()"
   ]
  },
  {
   "cell_type": "markdown",
   "metadata": {},
   "source": [
    "### 7.1 Dropping one row where tweet has null value (tweet_id=6)"
   ]
  },
  {
   "cell_type": "code",
   "execution_count": 372,
   "metadata": {},
   "outputs": [
    {
     "name": "stdout",
     "output_type": "stream",
     "text": [
      "<class 'pandas.core.frame.DataFrame'>\n",
      "RangeIndex: 7274 entries, 0 to 7273\n",
      "Data columns (total 15 columns):\n",
      "tweet_id           7274 non-null int64\n",
      "tweet              7274 non-null object\n",
      "sentiment          7274 non-null int64\n",
      "word_count         7274 non-null int64\n",
      "char_count         7274 non-null int64\n",
      "upper              7274 non-null int64\n",
      "avg_word           7274 non-null float64\n",
      "stopwords          7274 non-null int64\n",
      "hashtag_cnt        7274 non-null int64\n",
      "mention_cnt        7274 non-null int64\n",
      "rt_cnt             7274 non-null int64\n",
      "numerics           7274 non-null int64\n",
      "clean_tweet        7274 non-null object\n",
      "lem_clean_tweet    7274 non-null object\n",
      "sent_blob          7274 non-null float64\n",
      "dtypes: float64(2), int64(10), object(3)\n",
      "memory usage: 852.5+ KB\n"
     ]
    }
   ],
   "source": [
    "train2_final.info()"
   ]
  },
  {
   "cell_type": "code",
   "execution_count": 371,
   "metadata": {},
   "outputs": [
    {
     "data": {
      "text/html": [
       "<div>\n",
       "<style scoped>\n",
       "    .dataframe tbody tr th:only-of-type {\n",
       "        vertical-align: middle;\n",
       "    }\n",
       "\n",
       "    .dataframe tbody tr th {\n",
       "        vertical-align: top;\n",
       "    }\n",
       "\n",
       "    .dataframe thead th {\n",
       "        text-align: right;\n",
       "    }\n",
       "</style>\n",
       "<table border=\"1\" class=\"dataframe\">\n",
       "  <thead>\n",
       "    <tr style=\"text-align: right;\">\n",
       "      <th></th>\n",
       "      <th>tweet_id</th>\n",
       "      <th>tweet</th>\n",
       "      <th>sentiment</th>\n",
       "      <th>word_count</th>\n",
       "      <th>char_count</th>\n",
       "      <th>upper</th>\n",
       "      <th>avg_word</th>\n",
       "      <th>stopwords</th>\n",
       "      <th>hashtag_cnt</th>\n",
       "      <th>mention_cnt</th>\n",
       "      <th>rt_cnt</th>\n",
       "      <th>numerics</th>\n",
       "      <th>clean_tweet</th>\n",
       "      <th>lem_clean_tweet</th>\n",
       "      <th>sent_blob</th>\n",
       "    </tr>\n",
       "  </thead>\n",
       "  <tbody>\n",
       "    <tr>\n",
       "      <th>1274</th>\n",
       "      <td>6</td>\n",
       "      <td>nan</td>\n",
       "      <td>1</td>\n",
       "      <td>1</td>\n",
       "      <td>3</td>\n",
       "      <td>0</td>\n",
       "      <td>3.0</td>\n",
       "      <td>0</td>\n",
       "      <td>0</td>\n",
       "      <td>0</td>\n",
       "      <td>0</td>\n",
       "      <td>0</td>\n",
       "      <td>nan</td>\n",
       "      <td>nan</td>\n",
       "      <td>0.0</td>\n",
       "    </tr>\n",
       "  </tbody>\n",
       "</table>\n",
       "</div>"
      ],
      "text/plain": [
       "      tweet_id tweet  sentiment  word_count  char_count  upper  avg_word  \\\n",
       "1274         6   nan          1           1           3      0       3.0   \n",
       "\n",
       "      stopwords  hashtag_cnt  mention_cnt  rt_cnt  numerics clean_tweet  \\\n",
       "1274          0            0            0       0         0         nan   \n",
       "\n",
       "     lem_clean_tweet  sent_blob  \n",
       "1274             nan        0.0  "
      ]
     },
     "execution_count": 371,
     "metadata": {},
     "output_type": "execute_result"
    }
   ],
   "source": [
    "train2_final[train2_final.index==1274]"
   ]
  },
  {
   "cell_type": "code",
   "execution_count": 374,
   "metadata": {},
   "outputs": [
    {
     "data": {
      "text/html": [
       "<div>\n",
       "<style scoped>\n",
       "    .dataframe tbody tr th:only-of-type {\n",
       "        vertical-align: middle;\n",
       "    }\n",
       "\n",
       "    .dataframe tbody tr th {\n",
       "        vertical-align: top;\n",
       "    }\n",
       "\n",
       "    .dataframe thead th {\n",
       "        text-align: right;\n",
       "    }\n",
       "</style>\n",
       "<table border=\"1\" class=\"dataframe\">\n",
       "  <thead>\n",
       "    <tr style=\"text-align: right;\">\n",
       "      <th></th>\n",
       "      <th>tweet_id</th>\n",
       "      <th>tweet</th>\n",
       "      <th>sentiment</th>\n",
       "      <th>word_count</th>\n",
       "      <th>char_count</th>\n",
       "      <th>upper</th>\n",
       "      <th>avg_word</th>\n",
       "      <th>stopwords</th>\n",
       "      <th>hashtag_cnt</th>\n",
       "      <th>mention_cnt</th>\n",
       "      <th>rt_cnt</th>\n",
       "      <th>numerics</th>\n",
       "      <th>clean_tweet</th>\n",
       "      <th>lem_clean_tweet</th>\n",
       "      <th>sent_blob</th>\n",
       "    </tr>\n",
       "  </thead>\n",
       "  <tbody>\n",
       "    <tr>\n",
       "      <th>1274</th>\n",
       "      <td>6</td>\n",
       "      <td>nan</td>\n",
       "      <td>1</td>\n",
       "      <td>1</td>\n",
       "      <td>3</td>\n",
       "      <td>0</td>\n",
       "      <td>3.0</td>\n",
       "      <td>0</td>\n",
       "      <td>0</td>\n",
       "      <td>0</td>\n",
       "      <td>0</td>\n",
       "      <td>0</td>\n",
       "      <td>nan</td>\n",
       "      <td>nan</td>\n",
       "      <td>0.0</td>\n",
       "    </tr>\n",
       "  </tbody>\n",
       "</table>\n",
       "</div>"
      ],
      "text/plain": [
       "      tweet_id tweet  sentiment  word_count  char_count  upper  avg_word  \\\n",
       "1274         6   nan          1           1           3      0       3.0   \n",
       "\n",
       "      stopwords  hashtag_cnt  mention_cnt  rt_cnt  numerics clean_tweet  \\\n",
       "1274          0            0            0       0         0         nan   \n",
       "\n",
       "     lem_clean_tweet  sent_blob  \n",
       "1274             nan        0.0  "
      ]
     },
     "execution_count": 374,
     "metadata": {},
     "output_type": "execute_result"
    }
   ],
   "source": [
    "train2_final[train2_final.tweet_id==6]"
   ]
  },
  {
   "cell_type": "code",
   "execution_count": 379,
   "metadata": {},
   "outputs": [
    {
     "data": {
      "text/plain": [
       "(7274, 15)"
      ]
     },
     "execution_count": 379,
     "metadata": {},
     "output_type": "execute_result"
    }
   ],
   "source": [
    "train2_final.shape"
   ]
  },
  {
   "cell_type": "markdown",
   "metadata": {},
   "source": [
    "### 7.2 Handling Duplicate Records :"
   ]
  },
  {
   "cell_type": "code",
   "execution_count": 390,
   "metadata": {},
   "outputs": [],
   "source": [
    "dup_tweets=train2_final[train2_final['lem_clean_tweet'].duplicated()]"
   ]
  },
  {
   "cell_type": "code",
   "execution_count": 391,
   "metadata": {
    "scrolled": false
   },
   "outputs": [
    {
     "data": {
      "text/html": [
       "<div>\n",
       "<style scoped>\n",
       "    .dataframe tbody tr th:only-of-type {\n",
       "        vertical-align: middle;\n",
       "    }\n",
       "\n",
       "    .dataframe tbody tr th {\n",
       "        vertical-align: top;\n",
       "    }\n",
       "\n",
       "    .dataframe thead th {\n",
       "        text-align: right;\n",
       "    }\n",
       "</style>\n",
       "<table border=\"1\" class=\"dataframe\">\n",
       "  <thead>\n",
       "    <tr style=\"text-align: right;\">\n",
       "      <th></th>\n",
       "      <th>tweet_id</th>\n",
       "      <th>tweet</th>\n",
       "      <th>sentiment</th>\n",
       "      <th>word_count</th>\n",
       "      <th>char_count</th>\n",
       "      <th>upper</th>\n",
       "      <th>avg_word</th>\n",
       "      <th>stopwords</th>\n",
       "      <th>hashtag_cnt</th>\n",
       "      <th>mention_cnt</th>\n",
       "      <th>rt_cnt</th>\n",
       "      <th>numerics</th>\n",
       "      <th>clean_tweet</th>\n",
       "      <th>lem_clean_tweet</th>\n",
       "      <th>sent_blob</th>\n",
       "    </tr>\n",
       "  </thead>\n",
       "  <tbody>\n",
       "    <tr>\n",
       "      <th>71</th>\n",
       "      <td>4855</td>\n",
       "      <td>#google to launch major new social network cal...</td>\n",
       "      <td>1</td>\n",
       "      <td>13</td>\n",
       "      <td>87</td>\n",
       "      <td>0</td>\n",
       "      <td>5.769231</td>\n",
       "      <td>1</td>\n",
       "      <td>3</td>\n",
       "      <td>0</td>\n",
       "      <td>0</td>\n",
       "      <td>0</td>\n",
       "      <td>launch major social network called circles pos...</td>\n",
       "      <td>launch major social network call circle possib...</td>\n",
       "      <td>0.031944</td>\n",
       "    </tr>\n",
       "    <tr>\n",
       "      <th>228</th>\n",
       "      <td>5878</td>\n",
       "      <td>rt @mention google to launch major new social ...</td>\n",
       "      <td>1</td>\n",
       "      <td>15</td>\n",
       "      <td>97</td>\n",
       "      <td>1</td>\n",
       "      <td>5.533333</td>\n",
       "      <td>1</td>\n",
       "      <td>1</td>\n",
       "      <td>1</td>\n",
       "      <td>1</td>\n",
       "      <td>0</td>\n",
       "      <td>launch major social network called circles pos...</td>\n",
       "      <td>launch major social network call circle possib...</td>\n",
       "      <td>0.031944</td>\n",
       "    </tr>\n",
       "    <tr>\n",
       "      <th>334</th>\n",
       "      <td>4805</td>\n",
       "      <td>walking into the pop-up apple store is like wa...</td>\n",
       "      <td>2</td>\n",
       "      <td>22</td>\n",
       "      <td>116</td>\n",
       "      <td>0</td>\n",
       "      <td>4.318182</td>\n",
       "      <td>11</td>\n",
       "      <td>1</td>\n",
       "      <td>0</td>\n",
       "      <td>0</td>\n",
       "      <td>0</td>\n",
       "      <td>walking popup like walking future type computer</td>\n",
       "      <td>walk popup like walk future type computer</td>\n",
       "      <td>0.000000</td>\n",
       "    </tr>\n",
       "    <tr>\n",
       "      <th>358</th>\n",
       "      <td>3676</td>\n",
       "      <td>over 100 in line at apple pop-up store; everyo...</td>\n",
       "      <td>2</td>\n",
       "      <td>23</td>\n",
       "      <td>138</td>\n",
       "      <td>0</td>\n",
       "      <td>5.043478</td>\n",
       "      <td>5</td>\n",
       "      <td>1</td>\n",
       "      <td>0</td>\n",
       "      <td>0</td>\n",
       "      <td>1</td>\n",
       "      <td>100 line popup everyone waiting ipads first gu...</td>\n",
       "      <td>100 line popup everyone wait ipads first guy a...</td>\n",
       "      <td>0.250000</td>\n",
       "    </tr>\n",
       "    <tr>\n",
       "      <th>370</th>\n",
       "      <td>5887</td>\n",
       "      <td>rt @mention google to launch major new social ...</td>\n",
       "      <td>1</td>\n",
       "      <td>17</td>\n",
       "      <td>111</td>\n",
       "      <td>1</td>\n",
       "      <td>5.588235</td>\n",
       "      <td>1</td>\n",
       "      <td>1</td>\n",
       "      <td>2</td>\n",
       "      <td>1</td>\n",
       "      <td>0</td>\n",
       "      <td>launch major social network called circles pos...</td>\n",
       "      <td>launch major social network call circle possib...</td>\n",
       "      <td>0.031944</td>\n",
       "    </tr>\n",
       "    <tr>\n",
       "      <th>469</th>\n",
       "      <td>6295</td>\n",
       "      <td>rt @mention marissa mayer: google will connect...</td>\n",
       "      <td>1</td>\n",
       "      <td>17</td>\n",
       "      <td>110</td>\n",
       "      <td>2</td>\n",
       "      <td>5.529412</td>\n",
       "      <td>3</td>\n",
       "      <td>1</td>\n",
       "      <td>1</td>\n",
       "      <td>1</td>\n",
       "      <td>0</td>\n",
       "      <td>marissa mayer connect digital amp physical wor...</td>\n",
       "      <td>marissa mayer connect digital amp physical wor...</td>\n",
       "      <td>0.000000</td>\n",
       "    </tr>\n",
       "    <tr>\n",
       "      <th>491</th>\n",
       "      <td>5204</td>\n",
       "      <td>rt @mention #apple and #hp are 'popping in' fo...</td>\n",
       "      <td>1</td>\n",
       "      <td>19</td>\n",
       "      <td>118</td>\n",
       "      <td>3</td>\n",
       "      <td>5.263158</td>\n",
       "      <td>5</td>\n",
       "      <td>6</td>\n",
       "      <td>1</td>\n",
       "      <td>1</td>\n",
       "      <td>0</td>\n",
       "      <td>hp popping setting temp sites austin atx austi...</td>\n",
       "      <td>hp pop set temp sit austin atx austinbusiness</td>\n",
       "      <td>0.000000</td>\n",
       "    </tr>\n",
       "    <tr>\n",
       "      <th>498</th>\n",
       "      <td>3683</td>\n",
       "      <td>cameron sinclair @mention spearheads japan dis...</td>\n",
       "      <td>1</td>\n",
       "      <td>14</td>\n",
       "      <td>101</td>\n",
       "      <td>1</td>\n",
       "      <td>6.285714</td>\n",
       "      <td>1</td>\n",
       "      <td>1</td>\n",
       "      <td>1</td>\n",
       "      <td>0</td>\n",
       "      <td>0</td>\n",
       "      <td>cameron sinclair spearheads japan disaster rel...</td>\n",
       "      <td>cameron sinclair spearhead japan disaster reli...</td>\n",
       "      <td>0.000000</td>\n",
       "    </tr>\n",
       "    <tr>\n",
       "      <th>506</th>\n",
       "      <td>8782</td>\n",
       "      <td>morning everyone! our ipad 2 giveaway for #sxs...</td>\n",
       "      <td>1</td>\n",
       "      <td>25</td>\n",
       "      <td>122</td>\n",
       "      <td>0</td>\n",
       "      <td>3.920000</td>\n",
       "      <td>9</td>\n",
       "      <td>1</td>\n",
       "      <td>0</td>\n",
       "      <td>0</td>\n",
       "      <td>1</td>\n",
       "      <td>morning everyone 2 giveaway closes v shortly n...</td>\n",
       "      <td>morning everyone 2 giveaway close v shortly ne...</td>\n",
       "      <td>0.000000</td>\n",
       "    </tr>\n",
       "    <tr>\n",
       "      <th>515</th>\n",
       "      <td>6545</td>\n",
       "      <td>rt @mention rt @mention google to launch major...</td>\n",
       "      <td>1</td>\n",
       "      <td>17</td>\n",
       "      <td>109</td>\n",
       "      <td>3</td>\n",
       "      <td>5.470588</td>\n",
       "      <td>1</td>\n",
       "      <td>1</td>\n",
       "      <td>2</td>\n",
       "      <td>2</td>\n",
       "      <td>0</td>\n",
       "      <td>launch major social network called circles pos...</td>\n",
       "      <td>launch major social network call circle possib...</td>\n",
       "      <td>0.031944</td>\n",
       "    </tr>\n",
       "    <tr>\n",
       "      <th>554</th>\n",
       "      <td>5884</td>\n",
       "      <td>rt @mention google to launch major new social ...</td>\n",
       "      <td>1</td>\n",
       "      <td>15</td>\n",
       "      <td>97</td>\n",
       "      <td>2</td>\n",
       "      <td>5.533333</td>\n",
       "      <td>1</td>\n",
       "      <td>1</td>\n",
       "      <td>1</td>\n",
       "      <td>1</td>\n",
       "      <td>0</td>\n",
       "      <td>launch major social network called circles pos...</td>\n",
       "      <td>launch major social network call circle possib...</td>\n",
       "      <td>0.031944</td>\n",
       "    </tr>\n",
       "    <tr>\n",
       "      <th>595</th>\n",
       "      <td>5040</td>\n",
       "      <td>rt @mention : we interrupt your regularly sche...</td>\n",
       "      <td>2</td>\n",
       "      <td>17</td>\n",
       "      <td>112</td>\n",
       "      <td>1</td>\n",
       "      <td>5.647059</td>\n",
       "      <td>3</td>\n",
       "      <td>3</td>\n",
       "      <td>1</td>\n",
       "      <td>1</td>\n",
       "      <td>0</td>\n",
       "      <td>interrupt regularly scheduled geek programming...</td>\n",
       "      <td>interrupt regularly schedule geek program big ...</td>\n",
       "      <td>0.000000</td>\n",
       "    </tr>\n",
       "    <tr>\n",
       "      <th>634</th>\n",
       "      <td>4856</td>\n",
       "      <td>#google to launch major new social network cal...</td>\n",
       "      <td>1</td>\n",
       "      <td>15</td>\n",
       "      <td>99</td>\n",
       "      <td>2</td>\n",
       "      <td>5.666667</td>\n",
       "      <td>1</td>\n",
       "      <td>3</td>\n",
       "      <td>1</td>\n",
       "      <td>1</td>\n",
       "      <td>0</td>\n",
       "      <td>launch major social network called circles pos...</td>\n",
       "      <td>launch major social network call circle possib...</td>\n",
       "      <td>0.031944</td>\n",
       "    </tr>\n",
       "    <tr>\n",
       "      <th>675</th>\n",
       "      <td>6561</td>\n",
       "      <td>rt @mention rt @mention hey austin, know a lit...</td>\n",
       "      <td>1</td>\n",
       "      <td>25</td>\n",
       "      <td>147</td>\n",
       "      <td>3</td>\n",
       "      <td>4.920000</td>\n",
       "      <td>5</td>\n",
       "      <td>3</td>\n",
       "      <td>2</td>\n",
       "      <td>2</td>\n",
       "      <td>0</td>\n",
       "      <td>hey austin know little android love music amp ...</td>\n",
       "      <td>hey austin know little android love music amp ...</td>\n",
       "      <td>0.156250</td>\n",
       "    </tr>\n",
       "    <tr>\n",
       "      <th>683</th>\n",
       "      <td>7541</td>\n",
       "      <td>design for ipad is like a design 101 class. wi...</td>\n",
       "      <td>0</td>\n",
       "      <td>25</td>\n",
       "      <td>134</td>\n",
       "      <td>0</td>\n",
       "      <td>4.400000</td>\n",
       "      <td>11</td>\n",
       "      <td>1</td>\n",
       "      <td>0</td>\n",
       "      <td>0</td>\n",
       "      <td>1</td>\n",
       "      <td>design like design 101 class someone give talk...</td>\n",
       "      <td>design like design 101 class someone give talk...</td>\n",
       "      <td>-0.166667</td>\n",
       "    </tr>\n",
       "    <tr>\n",
       "      <th>689</th>\n",
       "      <td>7817</td>\n",
       "      <td>&amp;quot;everyone here already has one.&amp;quot; is ...</td>\n",
       "      <td>1</td>\n",
       "      <td>23</td>\n",
       "      <td>143</td>\n",
       "      <td>0</td>\n",
       "      <td>5.260870</td>\n",
       "      <td>10</td>\n",
       "      <td>1</td>\n",
       "      <td>1</td>\n",
       "      <td>0</td>\n",
       "      <td>0</td>\n",
       "      <td>quoteveryone already onequot antitheft protect...</td>\n",
       "      <td>quoteveryone already onequot antitheft protect...</td>\n",
       "      <td>0.000000</td>\n",
       "    </tr>\n",
       "    <tr>\n",
       "      <th>694</th>\n",
       "      <td>7032</td>\n",
       "      <td>hotpot #google #marissameyer what is next #cle...</td>\n",
       "      <td>1</td>\n",
       "      <td>8</td>\n",
       "      <td>66</td>\n",
       "      <td>0</td>\n",
       "      <td>7.375000</td>\n",
       "      <td>2</td>\n",
       "      <td>4</td>\n",
       "      <td>0</td>\n",
       "      <td>0</td>\n",
       "      <td>0</td>\n",
       "      <td>hotpot marissameyer next clevelandsteamer</td>\n",
       "      <td>hotpot marissameyer next clevelandsteamer</td>\n",
       "      <td>0.000000</td>\n",
       "    </tr>\n",
       "    <tr>\n",
       "      <th>755</th>\n",
       "      <td>792</td>\n",
       "      <td>google to launch major new social network call...</td>\n",
       "      <td>1</td>\n",
       "      <td>16</td>\n",
       "      <td>107</td>\n",
       "      <td>0</td>\n",
       "      <td>5.750000</td>\n",
       "      <td>1</td>\n",
       "      <td>1</td>\n",
       "      <td>2</td>\n",
       "      <td>0</td>\n",
       "      <td>0</td>\n",
       "      <td>launch major social network called circles pos...</td>\n",
       "      <td>launch major social network call circle possib...</td>\n",
       "      <td>0.031944</td>\n",
       "    </tr>\n",
       "    <tr>\n",
       "      <th>790</th>\n",
       "      <td>2223</td>\n",
       "      <td>marissa mayer: #google will connect the #digit...</td>\n",
       "      <td>1</td>\n",
       "      <td>14</td>\n",
       "      <td>99</td>\n",
       "      <td>1</td>\n",
       "      <td>6.142857</td>\n",
       "      <td>3</td>\n",
       "      <td>4</td>\n",
       "      <td>0</td>\n",
       "      <td>0</td>\n",
       "      <td>0</td>\n",
       "      <td>marissa mayer connect digital amp physical wor...</td>\n",
       "      <td>marissa mayer connect digital amp physical wor...</td>\n",
       "      <td>0.000000</td>\n",
       "    </tr>\n",
       "    <tr>\n",
       "      <th>803</th>\n",
       "      <td>8868</td>\n",
       "      <td>#sxsw crowd swarms for ipad 2 launch - {link} ...</td>\n",
       "      <td>2</td>\n",
       "      <td>11</td>\n",
       "      <td>59</td>\n",
       "      <td>1</td>\n",
       "      <td>4.454545</td>\n",
       "      <td>1</td>\n",
       "      <td>1</td>\n",
       "      <td>1</td>\n",
       "      <td>0</td>\n",
       "      <td>1</td>\n",
       "      <td>crowd swarms 2 launch via</td>\n",
       "      <td>crowd swarm 2 launch via</td>\n",
       "      <td>0.000000</td>\n",
       "    </tr>\n",
       "    <tr>\n",
       "      <th>807</th>\n",
       "      <td>705</td>\n",
       "      <td>forgot my iphone for #sxsw. android only. knif...</td>\n",
       "      <td>3</td>\n",
       "      <td>12</td>\n",
       "      <td>62</td>\n",
       "      <td>0</td>\n",
       "      <td>4.250000</td>\n",
       "      <td>4</td>\n",
       "      <td>1</td>\n",
       "      <td>0</td>\n",
       "      <td>0</td>\n",
       "      <td>0</td>\n",
       "      <td>forgot android knife gun fight</td>\n",
       "      <td>forget android knife gun fight</td>\n",
       "      <td>0.000000</td>\n",
       "    </tr>\n",
       "    <tr>\n",
       "      <th>816</th>\n",
       "      <td>8135</td>\n",
       "      <td>apple #sxsw pop-store has ipads again. 16gb wi...</td>\n",
       "      <td>2</td>\n",
       "      <td>14</td>\n",
       "      <td>78</td>\n",
       "      <td>1</td>\n",
       "      <td>4.642857</td>\n",
       "      <td>2</td>\n",
       "      <td>1</td>\n",
       "      <td>0</td>\n",
       "      <td>0</td>\n",
       "      <td>0</td>\n",
       "      <td>popstore ipads 16gb wifi 64gb wifi amp wifi 3g</td>\n",
       "      <td>popstore ipads 16gb wifi 64gb wifi amp wifi 3g</td>\n",
       "      <td>0.000000</td>\n",
       "    </tr>\n",
       "    <tr>\n",
       "      <th>870</th>\n",
       "      <td>6305</td>\n",
       "      <td>rt @mention mayer making it clear that google ...</td>\n",
       "      <td>1</td>\n",
       "      <td>19</td>\n",
       "      <td>121</td>\n",
       "      <td>1</td>\n",
       "      <td>5.421053</td>\n",
       "      <td>5</td>\n",
       "      <td>1</td>\n",
       "      <td>1</td>\n",
       "      <td>1</td>\n",
       "      <td>0</td>\n",
       "      <td>mayer making clear going straight foursquare a...</td>\n",
       "      <td>mayer make clear go straight foursquare amp go...</td>\n",
       "      <td>0.150000</td>\n",
       "    </tr>\n",
       "    <tr>\n",
       "      <th>891</th>\n",
       "      <td>283</td>\n",
       "      <td>at #sxsw, apple schools the marketing experts ...</td>\n",
       "      <td>2</td>\n",
       "      <td>8</td>\n",
       "      <td>52</td>\n",
       "      <td>1</td>\n",
       "      <td>5.625000</td>\n",
       "      <td>2</td>\n",
       "      <td>1</td>\n",
       "      <td>0</td>\n",
       "      <td>0</td>\n",
       "      <td>0</td>\n",
       "      <td>schools marketing experts</td>\n",
       "      <td>school market experts</td>\n",
       "      <td>0.000000</td>\n",
       "    </tr>\n",
       "    <tr>\n",
       "      <th>972</th>\n",
       "      <td>6292</td>\n",
       "      <td>rt @mention marissa mayer: google will connect...</td>\n",
       "      <td>2</td>\n",
       "      <td>17</td>\n",
       "      <td>110</td>\n",
       "      <td>1</td>\n",
       "      <td>5.529412</td>\n",
       "      <td>3</td>\n",
       "      <td>1</td>\n",
       "      <td>1</td>\n",
       "      <td>1</td>\n",
       "      <td>0</td>\n",
       "      <td>marissa mayer connect digital amp physical wor...</td>\n",
       "      <td>marissa mayer connect digital amp physical wor...</td>\n",
       "      <td>0.000000</td>\n",
       "    </tr>\n",
       "    <tr>\n",
       "      <th>979</th>\n",
       "      <td>6389</td>\n",
       "      <td>rt @mention novelty of ipad news apps fades fa...</td>\n",
       "      <td>0</td>\n",
       "      <td>16</td>\n",
       "      <td>91</td>\n",
       "      <td>2</td>\n",
       "      <td>4.750000</td>\n",
       "      <td>2</td>\n",
       "      <td>1</td>\n",
       "      <td>2</td>\n",
       "      <td>1</td>\n",
       "      <td>0</td>\n",
       "      <td>novelty news apps fades fast among delegates</td>\n",
       "      <td>novelty news apps fade fast among delegate</td>\n",
       "      <td>0.200000</td>\n",
       "    </tr>\n",
       "    <tr>\n",
       "      <th>992</th>\n",
       "      <td>8808</td>\n",
       "      <td>full #sxsw #touchingstories presentation: {link}</td>\n",
       "      <td>1</td>\n",
       "      <td>5</td>\n",
       "      <td>48</td>\n",
       "      <td>1</td>\n",
       "      <td>8.800000</td>\n",
       "      <td>0</td>\n",
       "      <td>2</td>\n",
       "      <td>0</td>\n",
       "      <td>0</td>\n",
       "      <td>0</td>\n",
       "      <td>full touchingstories presentation</td>\n",
       "      <td>full touchingstories presentation</td>\n",
       "      <td>0.350000</td>\n",
       "    </tr>\n",
       "    <tr>\n",
       "      <th>1031</th>\n",
       "      <td>4095</td>\n",
       "      <td>&amp;quot;apple likes it if you pay them. that's w...</td>\n",
       "      <td>0</td>\n",
       "      <td>22</td>\n",
       "      <td>131</td>\n",
       "      <td>3</td>\n",
       "      <td>5.000000</td>\n",
       "      <td>4</td>\n",
       "      <td>1</td>\n",
       "      <td>1</td>\n",
       "      <td>0</td>\n",
       "      <td>0</td>\n",
       "      <td>quotapple likes pay thats likesquot barry dill...</td>\n",
       "      <td>quotapple like pay thats likesquot barry dille...</td>\n",
       "      <td>0.000000</td>\n",
       "    </tr>\n",
       "    <tr>\n",
       "      <th>1054</th>\n",
       "      <td>1730</td>\n",
       "      <td>rumor at #sxsw that google will launch a new s...</td>\n",
       "      <td>1</td>\n",
       "      <td>15</td>\n",
       "      <td>103</td>\n",
       "      <td>1</td>\n",
       "      <td>5.933333</td>\n",
       "      <td>4</td>\n",
       "      <td>1</td>\n",
       "      <td>1</td>\n",
       "      <td>0</td>\n",
       "      <td>0</td>\n",
       "      <td>rumor launch social network called quotcircles...</td>\n",
       "      <td>rumor launch social network call quotcirclesquot</td>\n",
       "      <td>0.033333</td>\n",
       "    </tr>\n",
       "    <tr>\n",
       "      <th>1069</th>\n",
       "      <td>783</td>\n",
       "      <td>google to launch major new social network call...</td>\n",
       "      <td>2</td>\n",
       "      <td>17</td>\n",
       "      <td>110</td>\n",
       "      <td>0</td>\n",
       "      <td>5.529412</td>\n",
       "      <td>1</td>\n",
       "      <td>1</td>\n",
       "      <td>2</td>\n",
       "      <td>1</td>\n",
       "      <td>0</td>\n",
       "      <td>launch major social network called circles pos...</td>\n",
       "      <td>launch major social network call circle possib...</td>\n",
       "      <td>0.031944</td>\n",
       "    </tr>\n",
       "    <tr>\n",
       "      <th>...</th>\n",
       "      <td>...</td>\n",
       "      <td>...</td>\n",
       "      <td>...</td>\n",
       "      <td>...</td>\n",
       "      <td>...</td>\n",
       "      <td>...</td>\n",
       "      <td>...</td>\n",
       "      <td>...</td>\n",
       "      <td>...</td>\n",
       "      <td>...</td>\n",
       "      <td>...</td>\n",
       "      <td>...</td>\n",
       "      <td>...</td>\n",
       "      <td>...</td>\n",
       "      <td>...</td>\n",
       "    </tr>\n",
       "    <tr>\n",
       "      <th>7176</th>\n",
       "      <td>8735</td>\n",
       "      <td>geeking out on youtube apis #sxsw @mention goo...</td>\n",
       "      <td>1</td>\n",
       "      <td>11</td>\n",
       "      <td>73</td>\n",
       "      <td>1</td>\n",
       "      <td>5.727273</td>\n",
       "      <td>2</td>\n",
       "      <td>1</td>\n",
       "      <td>1</td>\n",
       "      <td>0</td>\n",
       "      <td>0</td>\n",
       "      <td>geeking youtube apis teaching theatre</td>\n",
       "      <td>geeking youtube apis teach theatre</td>\n",
       "      <td>0.000000</td>\n",
       "    </tr>\n",
       "    <tr>\n",
       "      <th>7179</th>\n",
       "      <td>1077</td>\n",
       "      <td>#apple is setting up a pop-up store in downtow...</td>\n",
       "      <td>2</td>\n",
       "      <td>21</td>\n",
       "      <td>123</td>\n",
       "      <td>0</td>\n",
       "      <td>4.904762</td>\n",
       "      <td>7</td>\n",
       "      <td>2</td>\n",
       "      <td>0</td>\n",
       "      <td>0</td>\n",
       "      <td>0</td>\n",
       "      <td>setting popup downtown austin sell bajillions ...</td>\n",
       "      <td>set popup downtown austin sell bajillions ipad...</td>\n",
       "      <td>0.000000</td>\n",
       "    </tr>\n",
       "    <tr>\n",
       "      <th>7181</th>\n",
       "      <td>5107</td>\n",
       "      <td>rt @mention @mention &amp;amp; @mention were quick...</td>\n",
       "      <td>1</td>\n",
       "      <td>21</td>\n",
       "      <td>133</td>\n",
       "      <td>2</td>\n",
       "      <td>5.380952</td>\n",
       "      <td>5</td>\n",
       "      <td>1</td>\n",
       "      <td>3</td>\n",
       "      <td>1</td>\n",
       "      <td>0</td>\n",
       "      <td>amp quick encourage seo practitioners avoid dw...</td>\n",
       "      <td>amp quick encourage seo practitioners avoid dw...</td>\n",
       "      <td>-0.233333</td>\n",
       "    </tr>\n",
       "    <tr>\n",
       "      <th>7183</th>\n",
       "      <td>6472</td>\n",
       "      <td>rt @mention reason 19: keep parakeets employed...</td>\n",
       "      <td>1</td>\n",
       "      <td>19</td>\n",
       "      <td>114</td>\n",
       "      <td>2</td>\n",
       "      <td>5.052632</td>\n",
       "      <td>5</td>\n",
       "      <td>1</td>\n",
       "      <td>2</td>\n",
       "      <td>1</td>\n",
       "      <td>0</td>\n",
       "      <td>reason 19 keep parakeets employed keep track l...</td>\n",
       "      <td>reason 19 keep parakeets employ keep track ladies</td>\n",
       "      <td>0.000000</td>\n",
       "    </tr>\n",
       "    <tr>\n",
       "      <th>7184</th>\n",
       "      <td>5315</td>\n",
       "      <td>rt @mention #sxsw rumor mill: ipad 3 will have...</td>\n",
       "      <td>0</td>\n",
       "      <td>25</td>\n",
       "      <td>158</td>\n",
       "      <td>1</td>\n",
       "      <td>5.360000</td>\n",
       "      <td>6</td>\n",
       "      <td>1</td>\n",
       "      <td>1</td>\n",
       "      <td>1</td>\n",
       "      <td>3</td>\n",
       "      <td>rumor mill 3 6 15 cameras slightly thinner rar...</td>\n",
       "      <td>rumor mill 3 6 15 cameras slightly thinner rar...</td>\n",
       "      <td>0.066667</td>\n",
       "    </tr>\n",
       "    <tr>\n",
       "      <th>7187</th>\n",
       "      <td>6982</td>\n",
       "      <td>rt @mention yes, the rumors are true. come pla...</td>\n",
       "      <td>2</td>\n",
       "      <td>27</td>\n",
       "      <td>153</td>\n",
       "      <td>2</td>\n",
       "      <td>4.703704</td>\n",
       "      <td>8</td>\n",
       "      <td>3</td>\n",
       "      <td>2</td>\n",
       "      <td>1</td>\n",
       "      <td>0</td>\n",
       "      <td>yes rumors true come play booth exhibit hall 3...</td>\n",
       "      <td>yes rumor true come play booth exhibit hall 3 ...</td>\n",
       "      <td>0.175000</td>\n",
       "    </tr>\n",
       "    <tr>\n",
       "      <th>7190</th>\n",
       "      <td>8298</td>\n",
       "      <td>#apple set to open popup shop in core of #sxsw...</td>\n",
       "      <td>2</td>\n",
       "      <td>12</td>\n",
       "      <td>60</td>\n",
       "      <td>1</td>\n",
       "      <td>4.083333</td>\n",
       "      <td>3</td>\n",
       "      <td>2</td>\n",
       "      <td>0</td>\n",
       "      <td>0</td>\n",
       "      <td>0</td>\n",
       "      <td>set open popup shop core action</td>\n",
       "      <td>set open popup shop core action</td>\n",
       "      <td>0.050000</td>\n",
       "    </tr>\n",
       "    <tr>\n",
       "      <th>7191</th>\n",
       "      <td>6065</td>\n",
       "      <td>rt @mention i was going to mock the tech-nerds...</td>\n",
       "      <td>1</td>\n",
       "      <td>31</td>\n",
       "      <td>152</td>\n",
       "      <td>3</td>\n",
       "      <td>3.935484</td>\n",
       "      <td>16</td>\n",
       "      <td>1</td>\n",
       "      <td>1</td>\n",
       "      <td>1</td>\n",
       "      <td>0</td>\n",
       "      <td>going mock technerds coming stand 4hour line 2...</td>\n",
       "      <td>go mock technerds come stand 4hour line 2 reme...</td>\n",
       "      <td>0.000000</td>\n",
       "    </tr>\n",
       "    <tr>\n",
       "      <th>7201</th>\n",
       "      <td>5624</td>\n",
       "      <td>rt @mention co founder of google teacher acade...</td>\n",
       "      <td>1</td>\n",
       "      <td>22</td>\n",
       "      <td>128</td>\n",
       "      <td>2</td>\n",
       "      <td>4.863636</td>\n",
       "      <td>6</td>\n",
       "      <td>2</td>\n",
       "      <td>1</td>\n",
       "      <td>1</td>\n",
       "      <td>0</td>\n",
       "      <td>co founder teacher academy bringing hs student...</td>\n",
       "      <td>co founder teacher academy bring hs students a...</td>\n",
       "      <td>0.000000</td>\n",
       "    </tr>\n",
       "    <tr>\n",
       "      <th>7204</th>\n",
       "      <td>6998</td>\n",
       "      <td>#protip don't show your google analytics page ...</td>\n",
       "      <td>1</td>\n",
       "      <td>11</td>\n",
       "      <td>69</td>\n",
       "      <td>0</td>\n",
       "      <td>5.363636</td>\n",
       "      <td>4</td>\n",
       "      <td>2</td>\n",
       "      <td>0</td>\n",
       "      <td>0</td>\n",
       "      <td>0</td>\n",
       "      <td>protip dont show analytics page presentation</td>\n",
       "      <td>protip dont show analytics page presentation</td>\n",
       "      <td>0.000000</td>\n",
       "    </tr>\n",
       "    <tr>\n",
       "      <th>7209</th>\n",
       "      <td>6636</td>\n",
       "      <td>rt @mention rumor of google launching their ne...</td>\n",
       "      <td>2</td>\n",
       "      <td>17</td>\n",
       "      <td>107</td>\n",
       "      <td>1</td>\n",
       "      <td>5.352941</td>\n",
       "      <td>3</td>\n",
       "      <td>3</td>\n",
       "      <td>1</td>\n",
       "      <td>1</td>\n",
       "      <td>0</td>\n",
       "      <td>rumor launching social network called circles ...</td>\n",
       "      <td>rumor launch social network call circle today ...</td>\n",
       "      <td>0.033333</td>\n",
       "    </tr>\n",
       "    <tr>\n",
       "      <th>7213</th>\n",
       "      <td>7946</td>\n",
       "      <td>apple fans. it looks like there will be a 3rd ...</td>\n",
       "      <td>1</td>\n",
       "      <td>31</td>\n",
       "      <td>140</td>\n",
       "      <td>0</td>\n",
       "      <td>3.548387</td>\n",
       "      <td>14</td>\n",
       "      <td>1</td>\n",
       "      <td>0</td>\n",
       "      <td>0</td>\n",
       "      <td>2</td>\n",
       "      <td>fans looks like 3rd opening austin full u go2 ...</td>\n",
       "      <td>fan look like 3rd open austin full u go2 1 4 s...</td>\n",
       "      <td>0.116667</td>\n",
       "    </tr>\n",
       "    <tr>\n",
       "      <th>7214</th>\n",
       "      <td>5799</td>\n",
       "      <td>rt @mention google &amp;amp; facebook have an offi...</td>\n",
       "      <td>1</td>\n",
       "      <td>19</td>\n",
       "      <td>128</td>\n",
       "      <td>1</td>\n",
       "      <td>5.789474</td>\n",
       "      <td>5</td>\n",
       "      <td>2</td>\n",
       "      <td>1</td>\n",
       "      <td>1</td>\n",
       "      <td>0</td>\n",
       "      <td>amp facebook official death policies vast majo...</td>\n",
       "      <td>amp facebook official death policies vast majo...</td>\n",
       "      <td>0.000000</td>\n",
       "    </tr>\n",
       "    <tr>\n",
       "      <th>7217</th>\n",
       "      <td>6136</td>\n",
       "      <td>rt @mention interesting presentation on the bu...</td>\n",
       "      <td>2</td>\n",
       "      <td>14</td>\n",
       "      <td>91</td>\n",
       "      <td>1</td>\n",
       "      <td>5.571429</td>\n",
       "      <td>4</td>\n",
       "      <td>2</td>\n",
       "      <td>1</td>\n",
       "      <td>1</td>\n",
       "      <td>0</td>\n",
       "      <td>interesting presentation building netflix app</td>\n",
       "      <td>interest presentation build netflix app</td>\n",
       "      <td>0.000000</td>\n",
       "    </tr>\n",
       "    <tr>\n",
       "      <th>7218</th>\n",
       "      <td>4860</td>\n",
       "      <td>google to launch major new social network call...</td>\n",
       "      <td>1</td>\n",
       "      <td>13</td>\n",
       "      <td>85</td>\n",
       "      <td>1</td>\n",
       "      <td>5.615385</td>\n",
       "      <td>1</td>\n",
       "      <td>1</td>\n",
       "      <td>0</td>\n",
       "      <td>0</td>\n",
       "      <td>0</td>\n",
       "      <td>launch major social network called circles pos...</td>\n",
       "      <td>launch major social network call circle possib...</td>\n",
       "      <td>0.031944</td>\n",
       "    </tr>\n",
       "    <tr>\n",
       "      <th>7221</th>\n",
       "      <td>8097</td>\n",
       "      <td>#sxsw: mistakes made building netflix for ipho...</td>\n",
       "      <td>1</td>\n",
       "      <td>15</td>\n",
       "      <td>91</td>\n",
       "      <td>1</td>\n",
       "      <td>5.133333</td>\n",
       "      <td>4</td>\n",
       "      <td>1</td>\n",
       "      <td>0</td>\n",
       "      <td>0</td>\n",
       "      <td>0</td>\n",
       "      <td>mistakes made building netflix plus see source...</td>\n",
       "      <td>mistake make build netflix plus see source code</td>\n",
       "      <td>0.000000</td>\n",
       "    </tr>\n",
       "    <tr>\n",
       "      <th>7223</th>\n",
       "      <td>2372</td>\n",
       "      <td>#google #circles.. google's latest social vent...</td>\n",
       "      <td>1</td>\n",
       "      <td>17</td>\n",
       "      <td>117</td>\n",
       "      <td>1</td>\n",
       "      <td>5.941176</td>\n",
       "      <td>3</td>\n",
       "      <td>3</td>\n",
       "      <td>0</td>\n",
       "      <td>0</td>\n",
       "      <td>0</td>\n",
       "      <td>circles googles latest social venture circles ...</td>\n",
       "      <td>circle google latest social venture circle rep...</td>\n",
       "      <td>0.266667</td>\n",
       "    </tr>\n",
       "    <tr>\n",
       "      <th>7224</th>\n",
       "      <td>4041</td>\n",
       "      <td>new social network may debut at #sxsw google c...</td>\n",
       "      <td>2</td>\n",
       "      <td>16</td>\n",
       "      <td>97</td>\n",
       "      <td>1</td>\n",
       "      <td>5.125000</td>\n",
       "      <td>4</td>\n",
       "      <td>2</td>\n",
       "      <td>0</td>\n",
       "      <td>0</td>\n",
       "      <td>0</td>\n",
       "      <td>social network may debut circles eatdrinktweet...</td>\n",
       "      <td>social network may debut circle eatdrinktweet ...</td>\n",
       "      <td>0.033333</td>\n",
       "    </tr>\n",
       "    <tr>\n",
       "      <th>7231</th>\n",
       "      <td>6170</td>\n",
       "      <td>rt @mention it's a lonely job protecting the i...</td>\n",
       "      <td>2</td>\n",
       "      <td>17</td>\n",
       "      <td>90</td>\n",
       "      <td>1</td>\n",
       "      <td>4.352941</td>\n",
       "      <td>5</td>\n",
       "      <td>1</td>\n",
       "      <td>1</td>\n",
       "      <td>1</td>\n",
       "      <td>1</td>\n",
       "      <td>lonely job protecting 2 someones gotta</td>\n",
       "      <td>lonely job protect 2 someones gotta</td>\n",
       "      <td>-0.100000</td>\n",
       "    </tr>\n",
       "    <tr>\n",
       "      <th>7240</th>\n",
       "      <td>8462</td>\n",
       "      <td>&amp;quot;if there's one thing sxsw is good for, i...</td>\n",
       "      <td>2</td>\n",
       "      <td>20</td>\n",
       "      <td>130</td>\n",
       "      <td>1</td>\n",
       "      <td>5.550000</td>\n",
       "      <td>3</td>\n",
       "      <td>2</td>\n",
       "      <td>1</td>\n",
       "      <td>0</td>\n",
       "      <td>0</td>\n",
       "      <td>quotif theres one thing good flash mobs hiveth...</td>\n",
       "      <td>quotif theres one thing good flash mob hivethi...</td>\n",
       "      <td>0.750000</td>\n",
       "    </tr>\n",
       "    <tr>\n",
       "      <th>7244</th>\n",
       "      <td>4996</td>\n",
       "      <td>google looks to the future with mobile, locati...</td>\n",
       "      <td>1</td>\n",
       "      <td>12</td>\n",
       "      <td>77</td>\n",
       "      <td>1</td>\n",
       "      <td>5.500000</td>\n",
       "      <td>3</td>\n",
       "      <td>1</td>\n",
       "      <td>0</td>\n",
       "      <td>0</td>\n",
       "      <td>0</td>\n",
       "      <td>looks future mobile locationbased devices</td>\n",
       "      <td>look future mobile locationbased devices</td>\n",
       "      <td>0.000000</td>\n",
       "    </tr>\n",
       "    <tr>\n",
       "      <th>7248</th>\n",
       "      <td>392</td>\n",
       "      <td>tomorrow, charles chen will be speaking about ...</td>\n",
       "      <td>1</td>\n",
       "      <td>22</td>\n",
       "      <td>136</td>\n",
       "      <td>1</td>\n",
       "      <td>5.227273</td>\n",
       "      <td>6</td>\n",
       "      <td>1</td>\n",
       "      <td>2</td>\n",
       "      <td>0</td>\n",
       "      <td>1</td>\n",
       "      <td>tomorrow charles chen speaking android chromeo...</td>\n",
       "      <td>tomorrow charles chen speak android chromeos a...</td>\n",
       "      <td>0.000000</td>\n",
       "    </tr>\n",
       "    <tr>\n",
       "      <th>7251</th>\n",
       "      <td>5290</td>\n",
       "      <td>rt @mention #sxsw gear bag: ipad 2, iphone, mo...</td>\n",
       "      <td>1</td>\n",
       "      <td>14</td>\n",
       "      <td>85</td>\n",
       "      <td>2</td>\n",
       "      <td>5.142857</td>\n",
       "      <td>1</td>\n",
       "      <td>1</td>\n",
       "      <td>1</td>\n",
       "      <td>1</td>\n",
       "      <td>0</td>\n",
       "      <td>gear bag 2 mophie traveling light year</td>\n",
       "      <td>gear bag 2 mophie travel light year</td>\n",
       "      <td>0.400000</td>\n",
       "    </tr>\n",
       "    <tr>\n",
       "      <th>7253</th>\n",
       "      <td>4635</td>\n",
       "      <td>interesting! rt @mention google to launch majo...</td>\n",
       "      <td>1</td>\n",
       "      <td>16</td>\n",
       "      <td>110</td>\n",
       "      <td>1</td>\n",
       "      <td>5.937500</td>\n",
       "      <td>1</td>\n",
       "      <td>1</td>\n",
       "      <td>1</td>\n",
       "      <td>1</td>\n",
       "      <td>0</td>\n",
       "      <td>interesting launch major social network called...</td>\n",
       "      <td>interest launch major social network call circ...</td>\n",
       "      <td>0.031944</td>\n",
       "    </tr>\n",
       "    <tr>\n",
       "      <th>7254</th>\n",
       "      <td>780</td>\n",
       "      <td>google to launch major new social network call...</td>\n",
       "      <td>1</td>\n",
       "      <td>14</td>\n",
       "      <td>94</td>\n",
       "      <td>0</td>\n",
       "      <td>5.785714</td>\n",
       "      <td>1</td>\n",
       "      <td>1</td>\n",
       "      <td>1</td>\n",
       "      <td>0</td>\n",
       "      <td>0</td>\n",
       "      <td>launch major social network called circles pos...</td>\n",
       "      <td>launch major social network call circle possib...</td>\n",
       "      <td>0.031944</td>\n",
       "    </tr>\n",
       "    <tr>\n",
       "      <th>7255</th>\n",
       "      <td>7424</td>\n",
       "      <td>sweet, apple's opening a pop-up shop in the sc...</td>\n",
       "      <td>2</td>\n",
       "      <td>21</td>\n",
       "      <td>119</td>\n",
       "      <td>0</td>\n",
       "      <td>4.714286</td>\n",
       "      <td>6</td>\n",
       "      <td>1</td>\n",
       "      <td>1</td>\n",
       "      <td>0</td>\n",
       "      <td>1</td>\n",
       "      <td>sweet apples opening popup shop scarbrough bui...</td>\n",
       "      <td>sweet apples open popup shop scarbrough build ...</td>\n",
       "      <td>0.175000</td>\n",
       "    </tr>\n",
       "    <tr>\n",
       "      <th>7256</th>\n",
       "      <td>6739</td>\n",
       "      <td>rt @mention the future is about networks, not ...</td>\n",
       "      <td>0</td>\n",
       "      <td>21</td>\n",
       "      <td>119</td>\n",
       "      <td>2</td>\n",
       "      <td>4.714286</td>\n",
       "      <td>7</td>\n",
       "      <td>3</td>\n",
       "      <td>1</td>\n",
       "      <td>1</td>\n",
       "      <td>0</td>\n",
       "      <td>future networks data thats may win long term w...</td>\n",
       "      <td>future network data thats may win long term we...</td>\n",
       "      <td>0.250000</td>\n",
       "    </tr>\n",
       "    <tr>\n",
       "      <th>7257</th>\n",
       "      <td>3891</td>\n",
       "      <td>did you miss google's vp of search, marissa ma...</td>\n",
       "      <td>1</td>\n",
       "      <td>18</td>\n",
       "      <td>102</td>\n",
       "      <td>2</td>\n",
       "      <td>4.722222</td>\n",
       "      <td>6</td>\n",
       "      <td>1</td>\n",
       "      <td>0</td>\n",
       "      <td>0</td>\n",
       "      <td>0</td>\n",
       "      <td>miss googles vp search marissa mayer last week...</td>\n",
       "      <td>miss google vp search marissa mayer last week ...</td>\n",
       "      <td>0.000000</td>\n",
       "    </tr>\n",
       "    <tr>\n",
       "      <th>7260</th>\n",
       "      <td>6157</td>\n",
       "      <td>rt @mention ipad hipster #austincrowd #sxsw {l...</td>\n",
       "      <td>2</td>\n",
       "      <td>7</td>\n",
       "      <td>50</td>\n",
       "      <td>2</td>\n",
       "      <td>6.285714</td>\n",
       "      <td>0</td>\n",
       "      <td>2</td>\n",
       "      <td>1</td>\n",
       "      <td>1</td>\n",
       "      <td>0</td>\n",
       "      <td>hipster austincrowd</td>\n",
       "      <td>hipster austincrowd</td>\n",
       "      <td>0.000000</td>\n",
       "    </tr>\n",
       "    <tr>\n",
       "      <th>7267</th>\n",
       "      <td>5222</td>\n",
       "      <td>the session #designingforkids is changing my m...</td>\n",
       "      <td>3</td>\n",
       "      <td>17</td>\n",
       "      <td>116</td>\n",
       "      <td>0</td>\n",
       "      <td>5.882353</td>\n",
       "      <td>7</td>\n",
       "      <td>3</td>\n",
       "      <td>0</td>\n",
       "      <td>0</td>\n",
       "      <td>0</td>\n",
       "      <td>session designingforkids changing mind future ...</td>\n",
       "      <td>session designingforkids change mind future ki...</td>\n",
       "      <td>0.000000</td>\n",
       "    </tr>\n",
       "  </tbody>\n",
       "</table>\n",
       "<p>1197 rows × 15 columns</p>\n",
       "</div>"
      ],
      "text/plain": [
       "      tweet_id                                              tweet  sentiment  \\\n",
       "71        4855  #google to launch major new social network cal...          1   \n",
       "228       5878  rt @mention google to launch major new social ...          1   \n",
       "334       4805  walking into the pop-up apple store is like wa...          2   \n",
       "358       3676  over 100 in line at apple pop-up store; everyo...          2   \n",
       "370       5887  rt @mention google to launch major new social ...          1   \n",
       "469       6295  rt @mention marissa mayer: google will connect...          1   \n",
       "491       5204  rt @mention #apple and #hp are 'popping in' fo...          1   \n",
       "498       3683  cameron sinclair @mention spearheads japan dis...          1   \n",
       "506       8782  morning everyone! our ipad 2 giveaway for #sxs...          1   \n",
       "515       6545  rt @mention rt @mention google to launch major...          1   \n",
       "554       5884  rt @mention google to launch major new social ...          1   \n",
       "595       5040  rt @mention : we interrupt your regularly sche...          2   \n",
       "634       4856  #google to launch major new social network cal...          1   \n",
       "675       6561  rt @mention rt @mention hey austin, know a lit...          1   \n",
       "683       7541  design for ipad is like a design 101 class. wi...          0   \n",
       "689       7817  &quot;everyone here already has one.&quot; is ...          1   \n",
       "694       7032  hotpot #google #marissameyer what is next #cle...          1   \n",
       "755        792  google to launch major new social network call...          1   \n",
       "790       2223  marissa mayer: #google will connect the #digit...          1   \n",
       "803       8868  #sxsw crowd swarms for ipad 2 launch - {link} ...          2   \n",
       "807        705  forgot my iphone for #sxsw. android only. knif...          3   \n",
       "816       8135  apple #sxsw pop-store has ipads again. 16gb wi...          2   \n",
       "870       6305  rt @mention mayer making it clear that google ...          1   \n",
       "891        283  at #sxsw, apple schools the marketing experts ...          2   \n",
       "972       6292  rt @mention marissa mayer: google will connect...          2   \n",
       "979       6389  rt @mention novelty of ipad news apps fades fa...          0   \n",
       "992       8808   full #sxsw #touchingstories presentation: {link}          1   \n",
       "1031      4095  &quot;apple likes it if you pay them. that's w...          0   \n",
       "1054      1730  rumor at #sxsw that google will launch a new s...          1   \n",
       "1069       783  google to launch major new social network call...          2   \n",
       "...        ...                                                ...        ...   \n",
       "7176      8735  geeking out on youtube apis #sxsw @mention goo...          1   \n",
       "7179      1077  #apple is setting up a pop-up store in downtow...          2   \n",
       "7181      5107  rt @mention @mention &amp; @mention were quick...          1   \n",
       "7183      6472  rt @mention reason 19: keep parakeets employed...          1   \n",
       "7184      5315  rt @mention #sxsw rumor mill: ipad 3 will have...          0   \n",
       "7187      6982  rt @mention yes, the rumors are true. come pla...          2   \n",
       "7190      8298  #apple set to open popup shop in core of #sxsw...          2   \n",
       "7191      6065  rt @mention i was going to mock the tech-nerds...          1   \n",
       "7201      5624  rt @mention co founder of google teacher acade...          1   \n",
       "7204      6998  #protip don't show your google analytics page ...          1   \n",
       "7209      6636  rt @mention rumor of google launching their ne...          2   \n",
       "7213      7946  apple fans. it looks like there will be a 3rd ...          1   \n",
       "7214      5799  rt @mention google &amp; facebook have an offi...          1   \n",
       "7217      6136  rt @mention interesting presentation on the bu...          2   \n",
       "7218      4860  google to launch major new social network call...          1   \n",
       "7221      8097  #sxsw: mistakes made building netflix for ipho...          1   \n",
       "7223      2372  #google #circles.. google's latest social vent...          1   \n",
       "7224      4041  new social network may debut at #sxsw google c...          2   \n",
       "7231      6170  rt @mention it's a lonely job protecting the i...          2   \n",
       "7240      8462  &quot;if there's one thing sxsw is good for, i...          2   \n",
       "7244      4996  google looks to the future with mobile, locati...          1   \n",
       "7248       392  tomorrow, charles chen will be speaking about ...          1   \n",
       "7251      5290  rt @mention #sxsw gear bag: ipad 2, iphone, mo...          1   \n",
       "7253      4635  interesting! rt @mention google to launch majo...          1   \n",
       "7254       780  google to launch major new social network call...          1   \n",
       "7255      7424  sweet, apple's opening a pop-up shop in the sc...          2   \n",
       "7256      6739  rt @mention the future is about networks, not ...          0   \n",
       "7257      3891  did you miss google's vp of search, marissa ma...          1   \n",
       "7260      6157  rt @mention ipad hipster #austincrowd #sxsw {l...          2   \n",
       "7267      5222  the session #designingforkids is changing my m...          3   \n",
       "\n",
       "      word_count  char_count  upper  avg_word  stopwords  hashtag_cnt  \\\n",
       "71            13          87      0  5.769231          1            3   \n",
       "228           15          97      1  5.533333          1            1   \n",
       "334           22         116      0  4.318182         11            1   \n",
       "358           23         138      0  5.043478          5            1   \n",
       "370           17         111      1  5.588235          1            1   \n",
       "469           17         110      2  5.529412          3            1   \n",
       "491           19         118      3  5.263158          5            6   \n",
       "498           14         101      1  6.285714          1            1   \n",
       "506           25         122      0  3.920000          9            1   \n",
       "515           17         109      3  5.470588          1            1   \n",
       "554           15          97      2  5.533333          1            1   \n",
       "595           17         112      1  5.647059          3            3   \n",
       "634           15          99      2  5.666667          1            3   \n",
       "675           25         147      3  4.920000          5            3   \n",
       "683           25         134      0  4.400000         11            1   \n",
       "689           23         143      0  5.260870         10            1   \n",
       "694            8          66      0  7.375000          2            4   \n",
       "755           16         107      0  5.750000          1            1   \n",
       "790           14          99      1  6.142857          3            4   \n",
       "803           11          59      1  4.454545          1            1   \n",
       "807           12          62      0  4.250000          4            1   \n",
       "816           14          78      1  4.642857          2            1   \n",
       "870           19         121      1  5.421053          5            1   \n",
       "891            8          52      1  5.625000          2            1   \n",
       "972           17         110      1  5.529412          3            1   \n",
       "979           16          91      2  4.750000          2            1   \n",
       "992            5          48      1  8.800000          0            2   \n",
       "1031          22         131      3  5.000000          4            1   \n",
       "1054          15         103      1  5.933333          4            1   \n",
       "1069          17         110      0  5.529412          1            1   \n",
       "...          ...         ...    ...       ...        ...          ...   \n",
       "7176          11          73      1  5.727273          2            1   \n",
       "7179          21         123      0  4.904762          7            2   \n",
       "7181          21         133      2  5.380952          5            1   \n",
       "7183          19         114      2  5.052632          5            1   \n",
       "7184          25         158      1  5.360000          6            1   \n",
       "7187          27         153      2  4.703704          8            3   \n",
       "7190          12          60      1  4.083333          3            2   \n",
       "7191          31         152      3  3.935484         16            1   \n",
       "7201          22         128      2  4.863636          6            2   \n",
       "7204          11          69      0  5.363636          4            2   \n",
       "7209          17         107      1  5.352941          3            3   \n",
       "7213          31         140      0  3.548387         14            1   \n",
       "7214          19         128      1  5.789474          5            2   \n",
       "7217          14          91      1  5.571429          4            2   \n",
       "7218          13          85      1  5.615385          1            1   \n",
       "7221          15          91      1  5.133333          4            1   \n",
       "7223          17         117      1  5.941176          3            3   \n",
       "7224          16          97      1  5.125000          4            2   \n",
       "7231          17          90      1  4.352941          5            1   \n",
       "7240          20         130      1  5.550000          3            2   \n",
       "7244          12          77      1  5.500000          3            1   \n",
       "7248          22         136      1  5.227273          6            1   \n",
       "7251          14          85      2  5.142857          1            1   \n",
       "7253          16         110      1  5.937500          1            1   \n",
       "7254          14          94      0  5.785714          1            1   \n",
       "7255          21         119      0  4.714286          6            1   \n",
       "7256          21         119      2  4.714286          7            3   \n",
       "7257          18         102      2  4.722222          6            1   \n",
       "7260           7          50      2  6.285714          0            2   \n",
       "7267          17         116      0  5.882353          7            3   \n",
       "\n",
       "      mention_cnt  rt_cnt  numerics  \\\n",
       "71              0       0         0   \n",
       "228             1       1         0   \n",
       "334             0       0         0   \n",
       "358             0       0         1   \n",
       "370             2       1         0   \n",
       "469             1       1         0   \n",
       "491             1       1         0   \n",
       "498             1       0         0   \n",
       "506             0       0         1   \n",
       "515             2       2         0   \n",
       "554             1       1         0   \n",
       "595             1       1         0   \n",
       "634             1       1         0   \n",
       "675             2       2         0   \n",
       "683             0       0         1   \n",
       "689             1       0         0   \n",
       "694             0       0         0   \n",
       "755             2       0         0   \n",
       "790             0       0         0   \n",
       "803             1       0         1   \n",
       "807             0       0         0   \n",
       "816             0       0         0   \n",
       "870             1       1         0   \n",
       "891             0       0         0   \n",
       "972             1       1         0   \n",
       "979             2       1         0   \n",
       "992             0       0         0   \n",
       "1031            1       0         0   \n",
       "1054            1       0         0   \n",
       "1069            2       1         0   \n",
       "...           ...     ...       ...   \n",
       "7176            1       0         0   \n",
       "7179            0       0         0   \n",
       "7181            3       1         0   \n",
       "7183            2       1         0   \n",
       "7184            1       1         3   \n",
       "7187            2       1         0   \n",
       "7190            0       0         0   \n",
       "7191            1       1         0   \n",
       "7201            1       1         0   \n",
       "7204            0       0         0   \n",
       "7209            1       1         0   \n",
       "7213            0       0         2   \n",
       "7214            1       1         0   \n",
       "7217            1       1         0   \n",
       "7218            0       0         0   \n",
       "7221            0       0         0   \n",
       "7223            0       0         0   \n",
       "7224            0       0         0   \n",
       "7231            1       1         1   \n",
       "7240            1       0         0   \n",
       "7244            0       0         0   \n",
       "7248            2       0         1   \n",
       "7251            1       1         0   \n",
       "7253            1       1         0   \n",
       "7254            1       0         0   \n",
       "7255            1       0         1   \n",
       "7256            1       1         0   \n",
       "7257            0       0         0   \n",
       "7260            1       1         0   \n",
       "7267            0       0         0   \n",
       "\n",
       "                                            clean_tweet  \\\n",
       "71    launch major social network called circles pos...   \n",
       "228   launch major social network called circles pos...   \n",
       "334     walking popup like walking future type computer   \n",
       "358   100 line popup everyone waiting ipads first gu...   \n",
       "370   launch major social network called circles pos...   \n",
       "469   marissa mayer connect digital amp physical wor...   \n",
       "491   hp popping setting temp sites austin atx austi...   \n",
       "498   cameron sinclair spearheads japan disaster rel...   \n",
       "506   morning everyone 2 giveaway closes v shortly n...   \n",
       "515   launch major social network called circles pos...   \n",
       "554   launch major social network called circles pos...   \n",
       "595   interrupt regularly scheduled geek programming...   \n",
       "634   launch major social network called circles pos...   \n",
       "675   hey austin know little android love music amp ...   \n",
       "683   design like design 101 class someone give talk...   \n",
       "689   quoteveryone already onequot antitheft protect...   \n",
       "694           hotpot marissameyer next clevelandsteamer   \n",
       "755   launch major social network called circles pos...   \n",
       "790   marissa mayer connect digital amp physical wor...   \n",
       "803                           crowd swarms 2 launch via   \n",
       "807                      forgot android knife gun fight   \n",
       "816      popstore ipads 16gb wifi 64gb wifi amp wifi 3g   \n",
       "870   mayer making clear going straight foursquare a...   \n",
       "891                           schools marketing experts   \n",
       "972   marissa mayer connect digital amp physical wor...   \n",
       "979        novelty news apps fades fast among delegates   \n",
       "992                   full touchingstories presentation   \n",
       "1031  quotapple likes pay thats likesquot barry dill...   \n",
       "1054  rumor launch social network called quotcircles...   \n",
       "1069  launch major social network called circles pos...   \n",
       "...                                                 ...   \n",
       "7176              geeking youtube apis teaching theatre   \n",
       "7179  setting popup downtown austin sell bajillions ...   \n",
       "7181  amp quick encourage seo practitioners avoid dw...   \n",
       "7183  reason 19 keep parakeets employed keep track l...   \n",
       "7184  rumor mill 3 6 15 cameras slightly thinner rar...   \n",
       "7187  yes rumors true come play booth exhibit hall 3...   \n",
       "7190                    set open popup shop core action   \n",
       "7191  going mock technerds coming stand 4hour line 2...   \n",
       "7201  co founder teacher academy bringing hs student...   \n",
       "7204       protip dont show analytics page presentation   \n",
       "7209  rumor launching social network called circles ...   \n",
       "7213  fans looks like 3rd opening austin full u go2 ...   \n",
       "7214  amp facebook official death policies vast majo...   \n",
       "7217      interesting presentation building netflix app   \n",
       "7218  launch major social network called circles pos...   \n",
       "7221  mistakes made building netflix plus see source...   \n",
       "7223  circles googles latest social venture circles ...   \n",
       "7224  social network may debut circles eatdrinktweet...   \n",
       "7231             lonely job protecting 2 someones gotta   \n",
       "7240  quotif theres one thing good flash mobs hiveth...   \n",
       "7244          looks future mobile locationbased devices   \n",
       "7248  tomorrow charles chen speaking android chromeo...   \n",
       "7251             gear bag 2 mophie traveling light year   \n",
       "7253  interesting launch major social network called...   \n",
       "7254  launch major social network called circles pos...   \n",
       "7255  sweet apples opening popup shop scarbrough bui...   \n",
       "7256  future networks data thats may win long term w...   \n",
       "7257  miss googles vp search marissa mayer last week...   \n",
       "7260                                hipster austincrowd   \n",
       "7267  session designingforkids changing mind future ...   \n",
       "\n",
       "                                        lem_clean_tweet  sent_blob  \n",
       "71    launch major social network call circle possib...   0.031944  \n",
       "228   launch major social network call circle possib...   0.031944  \n",
       "334           walk popup like walk future type computer   0.000000  \n",
       "358   100 line popup everyone wait ipads first guy a...   0.250000  \n",
       "370   launch major social network call circle possib...   0.031944  \n",
       "469   marissa mayer connect digital amp physical wor...   0.000000  \n",
       "491       hp pop set temp sit austin atx austinbusiness   0.000000  \n",
       "498   cameron sinclair spearhead japan disaster reli...   0.000000  \n",
       "506   morning everyone 2 giveaway close v shortly ne...   0.000000  \n",
       "515   launch major social network call circle possib...   0.031944  \n",
       "554   launch major social network call circle possib...   0.031944  \n",
       "595   interrupt regularly schedule geek program big ...   0.000000  \n",
       "634   launch major social network call circle possib...   0.031944  \n",
       "675   hey austin know little android love music amp ...   0.156250  \n",
       "683   design like design 101 class someone give talk...  -0.166667  \n",
       "689   quoteveryone already onequot antitheft protect...   0.000000  \n",
       "694           hotpot marissameyer next clevelandsteamer   0.000000  \n",
       "755   launch major social network call circle possib...   0.031944  \n",
       "790   marissa mayer connect digital amp physical wor...   0.000000  \n",
       "803                            crowd swarm 2 launch via   0.000000  \n",
       "807                      forget android knife gun fight   0.000000  \n",
       "816      popstore ipads 16gb wifi 64gb wifi amp wifi 3g   0.000000  \n",
       "870   mayer make clear go straight foursquare amp go...   0.150000  \n",
       "891                               school market experts   0.000000  \n",
       "972   marissa mayer connect digital amp physical wor...   0.000000  \n",
       "979          novelty news apps fade fast among delegate   0.200000  \n",
       "992                   full touchingstories presentation   0.350000  \n",
       "1031  quotapple like pay thats likesquot barry dille...   0.000000  \n",
       "1054   rumor launch social network call quotcirclesquot   0.033333  \n",
       "1069  launch major social network call circle possib...   0.031944  \n",
       "...                                                 ...        ...  \n",
       "7176                 geeking youtube apis teach theatre   0.000000  \n",
       "7179  set popup downtown austin sell bajillions ipad...   0.000000  \n",
       "7181  amp quick encourage seo practitioners avoid dw...  -0.233333  \n",
       "7183  reason 19 keep parakeets employ keep track ladies   0.000000  \n",
       "7184  rumor mill 3 6 15 cameras slightly thinner rar...   0.066667  \n",
       "7187  yes rumor true come play booth exhibit hall 3 ...   0.175000  \n",
       "7190                    set open popup shop core action   0.050000  \n",
       "7191  go mock technerds come stand 4hour line 2 reme...   0.000000  \n",
       "7201  co founder teacher academy bring hs students a...   0.000000  \n",
       "7204       protip dont show analytics page presentation   0.000000  \n",
       "7209  rumor launch social network call circle today ...   0.033333  \n",
       "7213  fan look like 3rd open austin full u go2 1 4 s...   0.116667  \n",
       "7214  amp facebook official death policies vast majo...   0.000000  \n",
       "7217            interest presentation build netflix app   0.000000  \n",
       "7218  launch major social network call circle possib...   0.031944  \n",
       "7221    mistake make build netflix plus see source code   0.000000  \n",
       "7223  circle google latest social venture circle rep...   0.266667  \n",
       "7224  social network may debut circle eatdrinktweet ...   0.033333  \n",
       "7231                lonely job protect 2 someones gotta  -0.100000  \n",
       "7240  quotif theres one thing good flash mob hivethi...   0.750000  \n",
       "7244           look future mobile locationbased devices   0.000000  \n",
       "7248  tomorrow charles chen speak android chromeos a...   0.000000  \n",
       "7251                gear bag 2 mophie travel light year   0.400000  \n",
       "7253  interest launch major social network call circ...   0.031944  \n",
       "7254  launch major social network call circle possib...   0.031944  \n",
       "7255  sweet apples open popup shop scarbrough build ...   0.175000  \n",
       "7256  future network data thats may win long term we...   0.250000  \n",
       "7257  miss google vp search marissa mayer last week ...   0.000000  \n",
       "7260                                hipster austincrowd   0.000000  \n",
       "7267  session designingforkids change mind future ki...   0.000000  \n",
       "\n",
       "[1197 rows x 15 columns]"
      ]
     },
     "execution_count": 391,
     "metadata": {},
     "output_type": "execute_result"
    }
   ],
   "source": [
    "dup_tweets"
   ]
  },
  {
   "cell_type": "code",
   "execution_count": 392,
   "metadata": {},
   "outputs": [
    {
     "data": {
      "text/plain": [
       "1197"
      ]
     },
     "execution_count": 392,
     "metadata": {},
     "output_type": "execute_result"
    }
   ],
   "source": [
    "len(dup_tweets)"
   ]
  },
  {
   "cell_type": "code",
   "execution_count": 393,
   "metadata": {},
   "outputs": [
    {
     "data": {
      "text/plain": [
       "15"
      ]
     },
     "execution_count": 393,
     "metadata": {},
     "output_type": "execute_result"
    }
   ],
   "source": [
    "len(set(dup_tweets))"
   ]
  },
  {
   "cell_type": "markdown",
   "metadata": {},
   "source": [
    "## Step 8 : Baseline Model :"
   ]
  },
  {
   "cell_type": "code",
   "execution_count": 394,
   "metadata": {},
   "outputs": [],
   "source": [
    "vect=CountVectorizer(max_features=50)\n",
    "#X=train_new.drop(['sentiment'],axis=1)\n",
    "X=train2_final['lem_clean_tweet']\n",
    "y=train2_final['sentiment']\n",
    "X_train, X_test, y_train, y_test = train_test_split(X, \n",
    "                                    y, train_size = 0.8,random_state=1)"
   ]
  },
  {
   "cell_type": "code",
   "execution_count": 395,
   "metadata": {},
   "outputs": [
    {
     "data": {
      "text/plain": [
       "CountVectorizer(analyzer='word', binary=False, decode_error='strict',\n",
       "                dtype=<class 'numpy.int64'>, encoding='utf-8', input='content',\n",
       "                lowercase=True, max_df=1.0, max_features=50, min_df=1,\n",
       "                ngram_range=(1, 1), preprocessor=None, stop_words=None,\n",
       "                strip_accents=None, token_pattern='(?u)\\\\b\\\\w\\\\w+\\\\b',\n",
       "                tokenizer=None, vocabulary=None)"
      ]
     },
     "execution_count": 395,
     "metadata": {},
     "output_type": "execute_result"
    }
   ],
   "source": [
    "vect.fit(X_train)"
   ]
  },
  {
   "cell_type": "code",
   "execution_count": 398,
   "metadata": {},
   "outputs": [
    {
     "name": "stdout",
     "output_type": "stream",
     "text": [
      "              precision    recall  f1-score   support\n",
      "\n",
      "           0       0.26      0.06      0.10        84\n",
      "           1       0.66      0.86      0.75       901\n",
      "           2       0.52      0.31      0.39       445\n",
      "           3       0.00      0.00      0.00        25\n",
      "\n",
      "    accuracy                           0.63      1455\n",
      "   macro avg       0.36      0.31      0.31      1455\n",
      "weighted avg       0.58      0.63      0.59      1455\n",
      "\n"
     ]
    }
   ],
   "source": [
    "rf=RandomForestClassifier()\n",
    "\n",
    "train_vectors = vect.transform(X_train)\n",
    "\n",
    "test_vectors = vect.transform(X_test)\n",
    "\n",
    "rf.fit(train_vectors,y_train)\n",
    "\n",
    "y_pred = cross_val_predict(rf, test_vectors, y_test, cv=10)\n",
    "\n",
    "print(classification_report(y_test, y_pred))"
   ]
  },
  {
   "cell_type": "markdown",
   "metadata": {},
   "source": [
    "## Test Dataset :"
   ]
  },
  {
   "cell_type": "code",
   "execution_count": 399,
   "metadata": {},
   "outputs": [],
   "source": [
    "test=pd.read_csv(\"/Users/shilpyjain/Downloads/data/test.csv\")"
   ]
  },
  {
   "cell_type": "code",
   "execution_count": 400,
   "metadata": {},
   "outputs": [
    {
     "data": {
      "text/plain": [
       "(1819, 2)"
      ]
     },
     "execution_count": 400,
     "metadata": {},
     "output_type": "execute_result"
    }
   ],
   "source": [
    "test.shape"
   ]
  },
  {
   "cell_type": "code",
   "execution_count": 402,
   "metadata": {
    "scrolled": false
   },
   "outputs": [
    {
     "name": "stdout",
     "output_type": "stream",
     "text": [
      "<class 'pandas.core.frame.DataFrame'>\n",
      "RangeIndex: 1819 entries, 0 to 1818\n",
      "Data columns (total 2 columns):\n",
      "tweet_id    1819 non-null int64\n",
      "tweet       1819 non-null object\n",
      "dtypes: int64(1), object(1)\n",
      "memory usage: 28.5+ KB\n"
     ]
    }
   ],
   "source": [
    "test.info()"
   ]
  },
  {
   "cell_type": "code",
   "execution_count": 417,
   "metadata": {},
   "outputs": [
    {
     "data": {
      "text/html": [
       "<div>\n",
       "<style scoped>\n",
       "    .dataframe tbody tr th:only-of-type {\n",
       "        vertical-align: middle;\n",
       "    }\n",
       "\n",
       "    .dataframe tbody tr th {\n",
       "        vertical-align: top;\n",
       "    }\n",
       "\n",
       "    .dataframe thead th {\n",
       "        text-align: right;\n",
       "    }\n",
       "</style>\n",
       "<table border=\"1\" class=\"dataframe\">\n",
       "  <thead>\n",
       "    <tr style=\"text-align: right;\">\n",
       "      <th></th>\n",
       "      <th>Columns</th>\n",
       "      <th>Data_Types</th>\n",
       "      <th>Unique_Count</th>\n",
       "      <th>NAN_Count</th>\n",
       "      <th>count</th>\n",
       "      <th>mean</th>\n",
       "      <th>std</th>\n",
       "      <th>min</th>\n",
       "      <th>25%</th>\n",
       "      <th>50%</th>\n",
       "      <th>75%</th>\n",
       "      <th>max</th>\n",
       "    </tr>\n",
       "  </thead>\n",
       "  <tbody>\n",
       "    <tr>\n",
       "      <th>0</th>\n",
       "      <td>tweet_id</td>\n",
       "      <td>int64</td>\n",
       "      <td>1819</td>\n",
       "      <td>0</td>\n",
       "      <td>1819.0</td>\n",
       "      <td>4603.04</td>\n",
       "      <td>2653.66</td>\n",
       "      <td>0.0</td>\n",
       "      <td>2313.0</td>\n",
       "      <td>4626.0</td>\n",
       "      <td>6905.5</td>\n",
       "      <td>9076.0</td>\n",
       "    </tr>\n",
       "    <tr>\n",
       "      <th>1</th>\n",
       "      <td>tweet</td>\n",
       "      <td>object</td>\n",
       "      <td>1819</td>\n",
       "      <td>0</td>\n",
       "      <td>NaN</td>\n",
       "      <td>NaN</td>\n",
       "      <td>NaN</td>\n",
       "      <td>NaN</td>\n",
       "      <td>NaN</td>\n",
       "      <td>NaN</td>\n",
       "      <td>NaN</td>\n",
       "      <td>NaN</td>\n",
       "    </tr>\n",
       "  </tbody>\n",
       "</table>\n",
       "</div>"
      ],
      "text/plain": [
       "    Columns Data_Types  Unique_Count  NAN_Count   count     mean      std  \\\n",
       "0  tweet_id      int64          1819          0  1819.0  4603.04  2653.66   \n",
       "1     tweet     object          1819          0     NaN      NaN      NaN   \n",
       "\n",
       "   min     25%     50%     75%     max  \n",
       "0  0.0  2313.0  4626.0  6905.5  9076.0  \n",
       "1  NaN     NaN     NaN     NaN     NaN  "
      ]
     },
     "execution_count": 417,
     "metadata": {},
     "output_type": "execute_result"
    }
   ],
   "source": [
    "data_insights_report(test)"
   ]
  },
  {
   "cell_type": "code",
   "execution_count": 404,
   "metadata": {},
   "outputs": [],
   "source": [
    "test2=test.copy()"
   ]
  },
  {
   "cell_type": "markdown",
   "metadata": {},
   "source": [
    "### Coverting into Lower case :"
   ]
  },
  {
   "cell_type": "code",
   "execution_count": 405,
   "metadata": {},
   "outputs": [
    {
     "data": {
      "text/plain": [
       "0    audience q: what prototyping tools do you use?...\n",
       "1    at sxsw? send your best photos &amp; videos to...\n",
       "2    @mention and here's a pic of you winning your ...\n",
       "3    google marissa mayer: mobile phone as a cursor...\n",
       "4      #sxsw google maps is even cooler than i thought\n",
       "Name: tweet, dtype: object"
      ]
     },
     "execution_count": 405,
     "metadata": {},
     "output_type": "execute_result"
    }
   ],
   "source": [
    "test2['tweet'] = test2['tweet'].apply(lambda x: \" \".join(x.lower() for x in str(x).split()))\n",
    "test2['tweet'].head()"
   ]
  },
  {
   "cell_type": "markdown",
   "metadata": {},
   "source": [
    "### Removal of puncuations :"
   ]
  },
  {
   "cell_type": "code",
   "execution_count": 406,
   "metadata": {},
   "outputs": [
    {
     "data": {
      "text/plain": [
       "0    audience q what prototyping tools do you use s...\n",
       "1    at sxsw send your best photos amp videos to li...\n",
       "2    mention and heres a pic of you winning your ip...\n",
       "3    google marissa mayer mobile phone as a cursor ...\n",
       "4       sxsw google maps is even cooler than i thought\n",
       "Name: clean_tweet, dtype: object"
      ]
     },
     "execution_count": 406,
     "metadata": {},
     "output_type": "execute_result"
    }
   ],
   "source": [
    "test2['clean_tweet'] = test2['tweet'].str.replace('[^\\w\\s]','')\n",
    "test2['clean_tweet'].head()"
   ]
  },
  {
   "cell_type": "markdown",
   "metadata": {},
   "source": [
    "### Removal Of Stop words :"
   ]
  },
  {
   "cell_type": "code",
   "execution_count": 407,
   "metadata": {},
   "outputs": [
    {
     "data": {
      "text/plain": [
       "0    audience q prototyping tools use sketchbookssh...\n",
       "1    sxsw send best photos amp videos link citizen_...\n",
       "2    mention heres pic winning ipad unsix sxsw cc m...\n",
       "3    google marissa mayer mobile phone cursor physi...\n",
       "4                 sxsw google maps even cooler thought\n",
       "Name: clean_tweet, dtype: object"
      ]
     },
     "execution_count": 407,
     "metadata": {},
     "output_type": "execute_result"
    }
   ],
   "source": [
    "from nltk.corpus import stopwords\n",
    "stop = stopwords.words('english')\n",
    "test2['clean_tweet'] = test2['clean_tweet'].apply(lambda x: \" \".join(x for x in x.split() if x not in stop))\n",
    "test2['clean_tweet'].head()"
   ]
  },
  {
   "cell_type": "markdown",
   "metadata": {},
   "source": [
    "### Removal of common words :"
   ]
  },
  {
   "cell_type": "code",
   "execution_count": 408,
   "metadata": {},
   "outputs": [],
   "source": [
    "freq = pd.Series(' '.join(test2['clean_tweet']).split()).value_counts()[:10]"
   ]
  },
  {
   "cell_type": "code",
   "execution_count": 409,
   "metadata": {},
   "outputs": [
    {
     "data": {
      "text/plain": [
       "sxsw       1889\n",
       "mention    1372\n",
       "link        857\n",
       "rt          585\n",
       "ipad        494\n",
       "google      475\n",
       "apple       414\n",
       "iphone      297\n",
       "store       279\n",
       "new         227\n",
       "dtype: int64"
      ]
     },
     "execution_count": 409,
     "metadata": {},
     "output_type": "execute_result"
    }
   ],
   "source": [
    "freq"
   ]
  },
  {
   "cell_type": "code",
   "execution_count": 410,
   "metadata": {},
   "outputs": [
    {
     "data": {
      "text/plain": [
       "0    audience q prototyping tools use sketchbookssh...\n",
       "1    send best photos amp videos citizen_journalism...\n",
       "2                      heres pic winning unsix cc cont\n",
       "3    marissa mayer mobile phone cursor physical loc...\n",
       "4                             maps even cooler thought\n",
       "Name: clean_tweet, dtype: object"
      ]
     },
     "execution_count": 410,
     "metadata": {},
     "output_type": "execute_result"
    }
   ],
   "source": [
    "#Now, let’s remove these words as their presence will not of any use in classification of our text data.\n",
    "freq = list(freq.index)\n",
    "test2['clean_tweet'] = test2['clean_tweet'].apply(lambda x: \" \".join(x for x in x.split() if x not in freq))\n",
    "test2['clean_tweet'].head()"
   ]
  },
  {
   "cell_type": "markdown",
   "metadata": {},
   "source": [
    "### Removal of Rare Words :"
   ]
  },
  {
   "cell_type": "code",
   "execution_count": 411,
   "metadata": {},
   "outputs": [],
   "source": [
    "freq = pd.Series(' '.join(test2['clean_tweet']).split()).value_counts()[-10:]"
   ]
  },
  {
   "cell_type": "code",
   "execution_count": 412,
   "metadata": {},
   "outputs": [
    {
     "data": {
      "text/plain": [
       "eminent       1\n",
       "dang          1\n",
       "geekbatman    1\n",
       "blogs         1\n",
       "someday       1\n",
       "nptech        1\n",
       "coupons       1\n",
       "crashing      1\n",
       "grumbling     1\n",
       "googling      1\n",
       "dtype: int64"
      ]
     },
     "execution_count": 412,
     "metadata": {},
     "output_type": "execute_result"
    }
   ],
   "source": [
    "freq"
   ]
  },
  {
   "cell_type": "code",
   "execution_count": 413,
   "metadata": {},
   "outputs": [
    {
     "data": {
      "text/plain": [
       "0    audience q prototyping tools use sketchbookssh...\n",
       "1    send best photos amp videos citizen_journalism...\n",
       "2                      heres pic winning unsix cc cont\n",
       "3    marissa mayer mobile phone cursor physical loc...\n",
       "4                             maps even cooler thought\n",
       "Name: clean_tweet, dtype: object"
      ]
     },
     "execution_count": 413,
     "metadata": {},
     "output_type": "execute_result"
    }
   ],
   "source": [
    "freq = list(freq.index)\n",
    "test2['clean_tweet'] = test2['clean_tweet'].apply(lambda x: \" \".join(x for x in x.split() if x not in freq))\n",
    "test2['clean_tweet'].head()"
   ]
  },
  {
   "cell_type": "markdown",
   "metadata": {},
   "source": [
    "### Lemmitizaton :"
   ]
  },
  {
   "cell_type": "code",
   "execution_count": 414,
   "metadata": {},
   "outputs": [
    {
     "data": {
      "text/plain": [
       "0    audience q prototyping tool use sketchbookssha...\n",
       "1    send best photos amp videos citizen_journalism...\n",
       "2                          heres pic win unsix cc cont\n",
       "3    marissa mayer mobile phone cursor physical loc...\n",
       "4                                map even cooler think\n",
       "Name: lem_clean_tweet, dtype: object"
      ]
     },
     "execution_count": 414,
     "metadata": {},
     "output_type": "execute_result"
    }
   ],
   "source": [
    "import textblob\n",
    "from textblob import TextBlob,Word\n",
    "test2['lem_clean_tweet'] = test2['clean_tweet'].apply(lambda x: \" \".join([Word(word).lemmatize(pos='v') for word in str(x).split()]))\n",
    "test2['lem_clean_tweet'].head()"
   ]
  },
  {
   "cell_type": "code",
   "execution_count": 416,
   "metadata": {},
   "outputs": [
    {
     "name": "stdout",
     "output_type": "stream",
     "text": [
      "<class 'pandas.core.frame.DataFrame'>\n",
      "RangeIndex: 1819 entries, 0 to 1818\n",
      "Data columns (total 4 columns):\n",
      "tweet_id           1819 non-null int64\n",
      "tweet              1819 non-null object\n",
      "clean_tweet        1819 non-null object\n",
      "lem_clean_tweet    1819 non-null object\n",
      "dtypes: int64(1), object(3)\n",
      "memory usage: 56.9+ KB\n"
     ]
    }
   ],
   "source": [
    "test2.info()"
   ]
  },
  {
   "cell_type": "code",
   "execution_count": 419,
   "metadata": {},
   "outputs": [],
   "source": [
    "test_final=test2['lem_clean_tweet']"
   ]
  },
  {
   "cell_type": "code",
   "execution_count": 420,
   "metadata": {},
   "outputs": [],
   "source": [
    "test_vectors = vect.transform(test_final)"
   ]
  },
  {
   "cell_type": "code",
   "execution_count": 421,
   "metadata": {},
   "outputs": [],
   "source": [
    "y_pred = rf.predict(test_vectors)"
   ]
  },
  {
   "cell_type": "code",
   "execution_count": 422,
   "metadata": {},
   "outputs": [
    {
     "data": {
      "text/plain": [
       "1819"
      ]
     },
     "execution_count": 422,
     "metadata": {},
     "output_type": "execute_result"
    }
   ],
   "source": [
    "len(y_pred)"
   ]
  },
  {
   "cell_type": "code",
   "execution_count": 423,
   "metadata": {},
   "outputs": [],
   "source": [
    "sub_csv = pd.read_csv('/Users/shilpyjain/Downloads/data/sample_submission.csv')"
   ]
  },
  {
   "cell_type": "code",
   "execution_count": 424,
   "metadata": {},
   "outputs": [],
   "source": [
    "sub_csv['sentiment']=y_pred"
   ]
  },
  {
   "cell_type": "code",
   "execution_count": 426,
   "metadata": {},
   "outputs": [],
   "source": [
    "sub_csv.to_csv('Downloads/hackathon3/result1.csv',index=False)"
   ]
  },
  {
   "cell_type": "code",
   "execution_count": null,
   "metadata": {},
   "outputs": [],
   "source": []
  }
 ],
 "metadata": {
  "kernelspec": {
   "display_name": "Python 3",
   "language": "python",
   "name": "python3"
  },
  "language_info": {
   "codemirror_mode": {
    "name": "ipython",
    "version": 3
   },
   "file_extension": ".py",
   "mimetype": "text/x-python",
   "name": "python",
   "nbconvert_exporter": "python",
   "pygments_lexer": "ipython3",
   "version": "3.7.6"
  }
 },
 "nbformat": 4,
 "nbformat_minor": 2
}
